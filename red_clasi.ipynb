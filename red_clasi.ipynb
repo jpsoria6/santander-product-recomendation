{
 "cells": [
  {
   "cell_type": "code",
   "execution_count": 1,
   "metadata": {},
   "outputs": [],
   "source": [
    "import numpy as np\n",
    "import pandas as pd\n",
    "import matplotlib.pyplot as plt\n",
    "import statsmodels.api as sm\n",
    "import seaborn as sns\n",
    "import pylab\n",
    "import mlflow\n",
    "from sklearn.model_selection import train_test_split\n",
    "\n",
    "\n",
    "import tensorflow as tf\n",
    "\n"
   ]
  },
  {
   "cell_type": "code",
   "execution_count": 2,
   "metadata": {},
   "outputs": [
    {
     "data": {
      "text/plain": [
       "<Experiment: artifact_location='file:///C:/Users/Administrador/Desktop/DataMining/segundo_parcial/mlruns/7', creation_time=1675557850989, experiment_id='7', last_update_time=1675557850989, lifecycle_stage='active', name='Model Tensorflow', tags={}>"
      ]
     },
     "execution_count": 2,
     "metadata": {},
     "output_type": "execute_result"
    }
   ],
   "source": [
    "expermient_name = 'Model Tensorflow'\n",
    "\n",
    "dict_values = {\n",
    "    'mse':0,\n",
    "    'r2':0,\n",
    "    'rmse':0\n",
    "}\n",
    "\n",
    "\n",
    "def load_create_experiment():\n",
    "    if mlflow.get_experiment_by_name(expermient_name):\n",
    "        return mlflow.get_experiment_by_name(expermient_name)\n",
    "    return mlflow.create_experiment(expermient_name)\n",
    "    \n",
    "current_experiment = load_create_experiment()\n",
    "mlflow.set_experiment(expermient_name)"
   ]
  },
  {
   "cell_type": "code",
   "execution_count": 3,
   "metadata": {},
   "outputs": [],
   "source": [
    "csv_clean = pd.read_csv('clean_data_def.csv')"
   ]
  },
  {
   "cell_type": "code",
   "execution_count": 4,
   "metadata": {},
   "outputs": [
    {
     "data": {
      "text/plain": [
       "Index(['Unnamed: 0', 'age', 'ind_nuevo', 'antiguedad', 'cod_prov',\n",
       "       'ind_actividad_cliente', 'renta', 'ind_ahor_fin_ult1',\n",
       "       'ind_aval_fin_ult1', 'ind_cco_fin_ult1', 'ind_cder_fin_ult1',\n",
       "       'ind_cno_fin_ult1', 'ind_ctju_fin_ult1', 'ind_ctma_fin_ult1',\n",
       "       'ind_ctop_fin_ult1', 'ind_ctpp_fin_ult1', 'ind_deco_fin_ult1',\n",
       "       'ind_deme_fin_ult1', 'ind_dela_fin_ult1', 'ind_ecue_fin_ult1',\n",
       "       'ind_fond_fin_ult1', 'ind_hip_fin_ult1', 'ind_plan_fin_ult1',\n",
       "       'ind_pres_fin_ult1', 'ind_reca_fin_ult1', 'ind_tjcr_fin_ult1',\n",
       "       'ind_valo_fin_ult1', 'ind_viv_fin_ult1', 'ind_nomina_ult1',\n",
       "       'ind_nom_pens_ult1', 'ind_recibo_ult1', 'sexo_binario',\n",
       "       'segmento_enum'],\n",
       "      dtype='object')"
      ]
     },
     "execution_count": 4,
     "metadata": {},
     "output_type": "execute_result"
    }
   ],
   "source": [
    "csv_clean.columns"
   ]
  },
  {
   "cell_type": "code",
   "execution_count": 4,
   "metadata": {},
   "outputs": [],
   "source": [
    "input_columns = ['age','ind_nuevo','antiguedad','cod_prov','ind_actividad_cliente', 'renta', 'sexo_binario','segmento_enum']\n",
    "output_columns = ['ind_ahor_fin_ult1','ind_aval_fin_ult1', 'ind_cco_fin_ult1', 'ind_cder_fin_ult1','ind_cno_fin_ult1', 'ind_ctju_fin_ult1', 'ind_ctma_fin_ult1','ind_ctop_fin_ult1', 'ind_ctpp_fin_ult1', 'ind_deco_fin_ult1','ind_deme_fin_ult1', 'ind_dela_fin_ult1', 'ind_ecue_fin_ult1','ind_fond_fin_ult1', 'ind_hip_fin_ult1', 'ind_plan_fin_ult1','ind_pres_fin_ult1', 'ind_reca_fin_ult1', 'ind_tjcr_fin_ult1','ind_valo_fin_ult1', 'ind_viv_fin_ult1', 'ind_nomina_ult1','ind_nom_pens_ult1', 'ind_recibo_ult1']"
   ]
  },
  {
   "cell_type": "code",
   "execution_count": 82,
   "metadata": {},
   "outputs": [
    {
     "data": {
      "text/html": [
       "<div>\n",
       "<style scoped>\n",
       "    .dataframe tbody tr th:only-of-type {\n",
       "        vertical-align: middle;\n",
       "    }\n",
       "\n",
       "    .dataframe tbody tr th {\n",
       "        vertical-align: top;\n",
       "    }\n",
       "\n",
       "    .dataframe thead th {\n",
       "        text-align: right;\n",
       "    }\n",
       "</style>\n",
       "<table border=\"1\" class=\"dataframe\">\n",
       "  <thead>\n",
       "    <tr style=\"text-align: right;\">\n",
       "      <th></th>\n",
       "      <th>count</th>\n",
       "      <th>mean</th>\n",
       "      <th>std</th>\n",
       "      <th>min</th>\n",
       "      <th>25%</th>\n",
       "      <th>50%</th>\n",
       "      <th>75%</th>\n",
       "      <th>max</th>\n",
       "    </tr>\n",
       "  </thead>\n",
       "  <tbody>\n",
       "    <tr>\n",
       "      <th>Unnamed: 0</th>\n",
       "      <td>9980486.0</td>\n",
       "      <td>6.693467e+06</td>\n",
       "      <td>3.932326e+06</td>\n",
       "      <td>0.00</td>\n",
       "      <td>3.289119e+06</td>\n",
       "      <td>6572904.50</td>\n",
       "      <td>10060887.25</td>\n",
       "      <td>13647307.00</td>\n",
       "    </tr>\n",
       "    <tr>\n",
       "      <th>age</th>\n",
       "      <td>9980486.0</td>\n",
       "      <td>4.031680e+01</td>\n",
       "      <td>1.700122e+01</td>\n",
       "      <td>2.00</td>\n",
       "      <td>2.500000e+01</td>\n",
       "      <td>39.00</td>\n",
       "      <td>50.00</td>\n",
       "      <td>127.00</td>\n",
       "    </tr>\n",
       "    <tr>\n",
       "      <th>ind_nuevo</th>\n",
       "      <td>9980486.0</td>\n",
       "      <td>2.800024e-02</td>\n",
       "      <td>1.649734e-01</td>\n",
       "      <td>0.00</td>\n",
       "      <td>0.000000e+00</td>\n",
       "      <td>0.00</td>\n",
       "      <td>0.00</td>\n",
       "      <td>1.00</td>\n",
       "    </tr>\n",
       "    <tr>\n",
       "      <th>antiguedad</th>\n",
       "      <td>9980486.0</td>\n",
       "      <td>8.137305e+01</td>\n",
       "      <td>6.542155e+01</td>\n",
       "      <td>0.00</td>\n",
       "      <td>2.500000e+01</td>\n",
       "      <td>52.00</td>\n",
       "      <td>137.00</td>\n",
       "      <td>256.00</td>\n",
       "    </tr>\n",
       "    <tr>\n",
       "      <th>cod_prov</th>\n",
       "      <td>9980312.0</td>\n",
       "      <td>2.659222e+01</td>\n",
       "      <td>1.272349e+01</td>\n",
       "      <td>1.00</td>\n",
       "      <td>1.500000e+01</td>\n",
       "      <td>28.00</td>\n",
       "      <td>35.00</td>\n",
       "      <td>52.00</td>\n",
       "    </tr>\n",
       "    <tr>\n",
       "      <th>ind_actividad_cliente</th>\n",
       "      <td>9980486.0</td>\n",
       "      <td>4.652888e-01</td>\n",
       "      <td>4.987937e-01</td>\n",
       "      <td>0.00</td>\n",
       "      <td>0.000000e+00</td>\n",
       "      <td>0.00</td>\n",
       "      <td>1.00</td>\n",
       "      <td>1.00</td>\n",
       "    </tr>\n",
       "    <tr>\n",
       "      <th>renta</th>\n",
       "      <td>9980486.0</td>\n",
       "      <td>1.069254e+05</td>\n",
       "      <td>5.280691e+04</td>\n",
       "      <td>1202.73</td>\n",
       "      <td>6.624478e+04</td>\n",
       "      <td>95745.78</td>\n",
       "      <td>138507.15</td>\n",
       "      <td>255950.76</td>\n",
       "    </tr>\n",
       "    <tr>\n",
       "      <th>ind_ahor_fin_ult1</th>\n",
       "      <td>9980486.0</td>\n",
       "      <td>1.001955e-04</td>\n",
       "      <td>1.000927e-02</td>\n",
       "      <td>0.00</td>\n",
       "      <td>0.000000e+00</td>\n",
       "      <td>0.00</td>\n",
       "      <td>0.00</td>\n",
       "      <td>1.00</td>\n",
       "    </tr>\n",
       "    <tr>\n",
       "      <th>ind_aval_fin_ult1</th>\n",
       "      <td>9980486.0</td>\n",
       "      <td>2.384653e-05</td>\n",
       "      <td>4.883233e-03</td>\n",
       "      <td>0.00</td>\n",
       "      <td>0.000000e+00</td>\n",
       "      <td>0.00</td>\n",
       "      <td>0.00</td>\n",
       "      <td>1.00</td>\n",
       "    </tr>\n",
       "    <tr>\n",
       "      <th>ind_cco_fin_ult1</th>\n",
       "      <td>9980486.0</td>\n",
       "      <td>6.596891e-01</td>\n",
       "      <td>4.738137e-01</td>\n",
       "      <td>0.00</td>\n",
       "      <td>0.000000e+00</td>\n",
       "      <td>1.00</td>\n",
       "      <td>1.00</td>\n",
       "      <td>1.00</td>\n",
       "    </tr>\n",
       "    <tr>\n",
       "      <th>ind_cder_fin_ult1</th>\n",
       "      <td>9980486.0</td>\n",
       "      <td>4.045895e-04</td>\n",
       "      <td>2.011034e-02</td>\n",
       "      <td>0.00</td>\n",
       "      <td>0.000000e+00</td>\n",
       "      <td>0.00</td>\n",
       "      <td>0.00</td>\n",
       "      <td>1.00</td>\n",
       "    </tr>\n",
       "    <tr>\n",
       "      <th>ind_cno_fin_ult1</th>\n",
       "      <td>9980486.0</td>\n",
       "      <td>8.653286e-02</td>\n",
       "      <td>2.811493e-01</td>\n",
       "      <td>0.00</td>\n",
       "      <td>0.000000e+00</td>\n",
       "      <td>0.00</td>\n",
       "      <td>0.00</td>\n",
       "      <td>1.00</td>\n",
       "    </tr>\n",
       "    <tr>\n",
       "      <th>ind_ctju_fin_ult1</th>\n",
       "      <td>9980486.0</td>\n",
       "      <td>9.996808e-03</td>\n",
       "      <td>9.948303e-02</td>\n",
       "      <td>0.00</td>\n",
       "      <td>0.000000e+00</td>\n",
       "      <td>0.00</td>\n",
       "      <td>0.00</td>\n",
       "      <td>1.00</td>\n",
       "    </tr>\n",
       "    <tr>\n",
       "      <th>ind_ctma_fin_ult1</th>\n",
       "      <td>9980486.0</td>\n",
       "      <td>9.204361e-03</td>\n",
       "      <td>9.549682e-02</td>\n",
       "      <td>0.00</td>\n",
       "      <td>0.000000e+00</td>\n",
       "      <td>0.00</td>\n",
       "      <td>0.00</td>\n",
       "      <td>1.00</td>\n",
       "    </tr>\n",
       "    <tr>\n",
       "      <th>ind_ctop_fin_ult1</th>\n",
       "      <td>9980486.0</td>\n",
       "      <td>1.327121e-01</td>\n",
       "      <td>3.392633e-01</td>\n",
       "      <td>0.00</td>\n",
       "      <td>0.000000e+00</td>\n",
       "      <td>0.00</td>\n",
       "      <td>0.00</td>\n",
       "      <td>1.00</td>\n",
       "    </tr>\n",
       "    <tr>\n",
       "      <th>ind_ctpp_fin_ult1</th>\n",
       "      <td>9980486.0</td>\n",
       "      <td>4.508788e-02</td>\n",
       "      <td>2.074969e-01</td>\n",
       "      <td>0.00</td>\n",
       "      <td>0.000000e+00</td>\n",
       "      <td>0.00</td>\n",
       "      <td>0.00</td>\n",
       "      <td>1.00</td>\n",
       "    </tr>\n",
       "    <tr>\n",
       "      <th>ind_deco_fin_ult1</th>\n",
       "      <td>9980486.0</td>\n",
       "      <td>1.715347e-03</td>\n",
       "      <td>4.138122e-02</td>\n",
       "      <td>0.00</td>\n",
       "      <td>0.000000e+00</td>\n",
       "      <td>0.00</td>\n",
       "      <td>0.00</td>\n",
       "      <td>1.00</td>\n",
       "    </tr>\n",
       "    <tr>\n",
       "      <th>ind_deme_fin_ult1</th>\n",
       "      <td>9980486.0</td>\n",
       "      <td>1.737691e-03</td>\n",
       "      <td>4.164939e-02</td>\n",
       "      <td>0.00</td>\n",
       "      <td>0.000000e+00</td>\n",
       "      <td>0.00</td>\n",
       "      <td>0.00</td>\n",
       "      <td>1.00</td>\n",
       "    </tr>\n",
       "    <tr>\n",
       "      <th>ind_dela_fin_ult1</th>\n",
       "      <td>9980486.0</td>\n",
       "      <td>4.535941e-02</td>\n",
       "      <td>2.080912e-01</td>\n",
       "      <td>0.00</td>\n",
       "      <td>0.000000e+00</td>\n",
       "      <td>0.00</td>\n",
       "      <td>0.00</td>\n",
       "      <td>1.00</td>\n",
       "    </tr>\n",
       "    <tr>\n",
       "      <th>ind_ecue_fin_ult1</th>\n",
       "      <td>9980486.0</td>\n",
       "      <td>8.712682e-02</td>\n",
       "      <td>2.820208e-01</td>\n",
       "      <td>0.00</td>\n",
       "      <td>0.000000e+00</td>\n",
       "      <td>0.00</td>\n",
       "      <td>0.00</td>\n",
       "      <td>1.00</td>\n",
       "    </tr>\n",
       "    <tr>\n",
       "      <th>ind_fond_fin_ult1</th>\n",
       "      <td>9980486.0</td>\n",
       "      <td>1.829851e-02</td>\n",
       "      <td>1.340286e-01</td>\n",
       "      <td>0.00</td>\n",
       "      <td>0.000000e+00</td>\n",
       "      <td>0.00</td>\n",
       "      <td>0.00</td>\n",
       "      <td>1.00</td>\n",
       "    </tr>\n",
       "    <tr>\n",
       "      <th>ind_hip_fin_ult1</th>\n",
       "      <td>9980486.0</td>\n",
       "      <td>6.463313e-03</td>\n",
       "      <td>8.013450e-02</td>\n",
       "      <td>0.00</td>\n",
       "      <td>0.000000e+00</td>\n",
       "      <td>0.00</td>\n",
       "      <td>0.00</td>\n",
       "      <td>1.00</td>\n",
       "    </tr>\n",
       "    <tr>\n",
       "      <th>ind_plan_fin_ult1</th>\n",
       "      <td>9980486.0</td>\n",
       "      <td>9.190234e-03</td>\n",
       "      <td>9.542418e-02</td>\n",
       "      <td>0.00</td>\n",
       "      <td>0.000000e+00</td>\n",
       "      <td>0.00</td>\n",
       "      <td>0.00</td>\n",
       "      <td>1.00</td>\n",
       "    </tr>\n",
       "    <tr>\n",
       "      <th>ind_pres_fin_ult1</th>\n",
       "      <td>9980486.0</td>\n",
       "      <td>2.715098e-03</td>\n",
       "      <td>5.203582e-02</td>\n",
       "      <td>0.00</td>\n",
       "      <td>0.000000e+00</td>\n",
       "      <td>0.00</td>\n",
       "      <td>0.00</td>\n",
       "      <td>1.00</td>\n",
       "    </tr>\n",
       "    <tr>\n",
       "      <th>ind_reca_fin_ult1</th>\n",
       "      <td>9980486.0</td>\n",
       "      <td>5.408965e-02</td>\n",
       "      <td>2.261945e-01</td>\n",
       "      <td>0.00</td>\n",
       "      <td>0.000000e+00</td>\n",
       "      <td>0.00</td>\n",
       "      <td>0.00</td>\n",
       "      <td>1.00</td>\n",
       "    </tr>\n",
       "    <tr>\n",
       "      <th>ind_tjcr_fin_ult1</th>\n",
       "      <td>9980486.0</td>\n",
       "      <td>4.663611e-02</td>\n",
       "      <td>2.108582e-01</td>\n",
       "      <td>0.00</td>\n",
       "      <td>0.000000e+00</td>\n",
       "      <td>0.00</td>\n",
       "      <td>0.00</td>\n",
       "      <td>1.00</td>\n",
       "    </tr>\n",
       "    <tr>\n",
       "      <th>ind_valo_fin_ult1</th>\n",
       "      <td>9980486.0</td>\n",
       "      <td>2.514477e-02</td>\n",
       "      <td>1.565647e-01</td>\n",
       "      <td>0.00</td>\n",
       "      <td>0.000000e+00</td>\n",
       "      <td>0.00</td>\n",
       "      <td>0.00</td>\n",
       "      <td>1.00</td>\n",
       "    </tr>\n",
       "    <tr>\n",
       "      <th>ind_viv_fin_ult1</th>\n",
       "      <td>9980486.0</td>\n",
       "      <td>3.960829e-03</td>\n",
       "      <td>6.281036e-02</td>\n",
       "      <td>0.00</td>\n",
       "      <td>0.000000e+00</td>\n",
       "      <td>0.00</td>\n",
       "      <td>0.00</td>\n",
       "      <td>1.00</td>\n",
       "    </tr>\n",
       "    <tr>\n",
       "      <th>ind_nomina_ult1</th>\n",
       "      <td>9980333.0</td>\n",
       "      <td>5.915935e-02</td>\n",
       "      <td>2.359227e-01</td>\n",
       "      <td>0.00</td>\n",
       "      <td>0.000000e+00</td>\n",
       "      <td>0.00</td>\n",
       "      <td>0.00</td>\n",
       "      <td>1.00</td>\n",
       "    </tr>\n",
       "    <tr>\n",
       "      <th>ind_nom_pens_ult1</th>\n",
       "      <td>9980333.0</td>\n",
       "      <td>6.395909e-02</td>\n",
       "      <td>2.446801e-01</td>\n",
       "      <td>0.00</td>\n",
       "      <td>0.000000e+00</td>\n",
       "      <td>0.00</td>\n",
       "      <td>0.00</td>\n",
       "      <td>1.00</td>\n",
       "    </tr>\n",
       "    <tr>\n",
       "      <th>ind_recibo_ult1</th>\n",
       "      <td>9980486.0</td>\n",
       "      <td>1.355638e-01</td>\n",
       "      <td>3.423248e-01</td>\n",
       "      <td>0.00</td>\n",
       "      <td>0.000000e+00</td>\n",
       "      <td>0.00</td>\n",
       "      <td>0.00</td>\n",
       "      <td>1.00</td>\n",
       "    </tr>\n",
       "    <tr>\n",
       "      <th>sexo_binario</th>\n",
       "      <td>9980450.0</td>\n",
       "      <td>4.533933e-01</td>\n",
       "      <td>4.978231e-01</td>\n",
       "      <td>0.00</td>\n",
       "      <td>0.000000e+00</td>\n",
       "      <td>0.00</td>\n",
       "      <td>1.00</td>\n",
       "      <td>1.00</td>\n",
       "    </tr>\n",
       "    <tr>\n",
       "      <th>segmento_enum</th>\n",
       "      <td>9928697.0</td>\n",
       "      <td>2.319611e+00</td>\n",
       "      <td>5.470181e-01</td>\n",
       "      <td>1.00</td>\n",
       "      <td>2.000000e+00</td>\n",
       "      <td>2.00</td>\n",
       "      <td>3.00</td>\n",
       "      <td>3.00</td>\n",
       "    </tr>\n",
       "  </tbody>\n",
       "</table>\n",
       "</div>"
      ],
      "text/plain": [
       "                           count          mean           std      min  \\\n",
       "Unnamed: 0             9980486.0  6.693467e+06  3.932326e+06     0.00   \n",
       "age                    9980486.0  4.031680e+01  1.700122e+01     2.00   \n",
       "ind_nuevo              9980486.0  2.800024e-02  1.649734e-01     0.00   \n",
       "antiguedad             9980486.0  8.137305e+01  6.542155e+01     0.00   \n",
       "cod_prov               9980312.0  2.659222e+01  1.272349e+01     1.00   \n",
       "ind_actividad_cliente  9980486.0  4.652888e-01  4.987937e-01     0.00   \n",
       "renta                  9980486.0  1.069254e+05  5.280691e+04  1202.73   \n",
       "ind_ahor_fin_ult1      9980486.0  1.001955e-04  1.000927e-02     0.00   \n",
       "ind_aval_fin_ult1      9980486.0  2.384653e-05  4.883233e-03     0.00   \n",
       "ind_cco_fin_ult1       9980486.0  6.596891e-01  4.738137e-01     0.00   \n",
       "ind_cder_fin_ult1      9980486.0  4.045895e-04  2.011034e-02     0.00   \n",
       "ind_cno_fin_ult1       9980486.0  8.653286e-02  2.811493e-01     0.00   \n",
       "ind_ctju_fin_ult1      9980486.0  9.996808e-03  9.948303e-02     0.00   \n",
       "ind_ctma_fin_ult1      9980486.0  9.204361e-03  9.549682e-02     0.00   \n",
       "ind_ctop_fin_ult1      9980486.0  1.327121e-01  3.392633e-01     0.00   \n",
       "ind_ctpp_fin_ult1      9980486.0  4.508788e-02  2.074969e-01     0.00   \n",
       "ind_deco_fin_ult1      9980486.0  1.715347e-03  4.138122e-02     0.00   \n",
       "ind_deme_fin_ult1      9980486.0  1.737691e-03  4.164939e-02     0.00   \n",
       "ind_dela_fin_ult1      9980486.0  4.535941e-02  2.080912e-01     0.00   \n",
       "ind_ecue_fin_ult1      9980486.0  8.712682e-02  2.820208e-01     0.00   \n",
       "ind_fond_fin_ult1      9980486.0  1.829851e-02  1.340286e-01     0.00   \n",
       "ind_hip_fin_ult1       9980486.0  6.463313e-03  8.013450e-02     0.00   \n",
       "ind_plan_fin_ult1      9980486.0  9.190234e-03  9.542418e-02     0.00   \n",
       "ind_pres_fin_ult1      9980486.0  2.715098e-03  5.203582e-02     0.00   \n",
       "ind_reca_fin_ult1      9980486.0  5.408965e-02  2.261945e-01     0.00   \n",
       "ind_tjcr_fin_ult1      9980486.0  4.663611e-02  2.108582e-01     0.00   \n",
       "ind_valo_fin_ult1      9980486.0  2.514477e-02  1.565647e-01     0.00   \n",
       "ind_viv_fin_ult1       9980486.0  3.960829e-03  6.281036e-02     0.00   \n",
       "ind_nomina_ult1        9980333.0  5.915935e-02  2.359227e-01     0.00   \n",
       "ind_nom_pens_ult1      9980333.0  6.395909e-02  2.446801e-01     0.00   \n",
       "ind_recibo_ult1        9980486.0  1.355638e-01  3.423248e-01     0.00   \n",
       "sexo_binario           9980450.0  4.533933e-01  4.978231e-01     0.00   \n",
       "segmento_enum          9928697.0  2.319611e+00  5.470181e-01     1.00   \n",
       "\n",
       "                                25%         50%          75%          max  \n",
       "Unnamed: 0             3.289119e+06  6572904.50  10060887.25  13647307.00  \n",
       "age                    2.500000e+01       39.00        50.00       127.00  \n",
       "ind_nuevo              0.000000e+00        0.00         0.00         1.00  \n",
       "antiguedad             2.500000e+01       52.00       137.00       256.00  \n",
       "cod_prov               1.500000e+01       28.00        35.00        52.00  \n",
       "ind_actividad_cliente  0.000000e+00        0.00         1.00         1.00  \n",
       "renta                  6.624478e+04    95745.78    138507.15    255950.76  \n",
       "ind_ahor_fin_ult1      0.000000e+00        0.00         0.00         1.00  \n",
       "ind_aval_fin_ult1      0.000000e+00        0.00         0.00         1.00  \n",
       "ind_cco_fin_ult1       0.000000e+00        1.00         1.00         1.00  \n",
       "ind_cder_fin_ult1      0.000000e+00        0.00         0.00         1.00  \n",
       "ind_cno_fin_ult1       0.000000e+00        0.00         0.00         1.00  \n",
       "ind_ctju_fin_ult1      0.000000e+00        0.00         0.00         1.00  \n",
       "ind_ctma_fin_ult1      0.000000e+00        0.00         0.00         1.00  \n",
       "ind_ctop_fin_ult1      0.000000e+00        0.00         0.00         1.00  \n",
       "ind_ctpp_fin_ult1      0.000000e+00        0.00         0.00         1.00  \n",
       "ind_deco_fin_ult1      0.000000e+00        0.00         0.00         1.00  \n",
       "ind_deme_fin_ult1      0.000000e+00        0.00         0.00         1.00  \n",
       "ind_dela_fin_ult1      0.000000e+00        0.00         0.00         1.00  \n",
       "ind_ecue_fin_ult1      0.000000e+00        0.00         0.00         1.00  \n",
       "ind_fond_fin_ult1      0.000000e+00        0.00         0.00         1.00  \n",
       "ind_hip_fin_ult1       0.000000e+00        0.00         0.00         1.00  \n",
       "ind_plan_fin_ult1      0.000000e+00        0.00         0.00         1.00  \n",
       "ind_pres_fin_ult1      0.000000e+00        0.00         0.00         1.00  \n",
       "ind_reca_fin_ult1      0.000000e+00        0.00         0.00         1.00  \n",
       "ind_tjcr_fin_ult1      0.000000e+00        0.00         0.00         1.00  \n",
       "ind_valo_fin_ult1      0.000000e+00        0.00         0.00         1.00  \n",
       "ind_viv_fin_ult1       0.000000e+00        0.00         0.00         1.00  \n",
       "ind_nomina_ult1        0.000000e+00        0.00         0.00         1.00  \n",
       "ind_nom_pens_ult1      0.000000e+00        0.00         0.00         1.00  \n",
       "ind_recibo_ult1        0.000000e+00        0.00         0.00         1.00  \n",
       "sexo_binario           0.000000e+00        0.00         1.00         1.00  \n",
       "segmento_enum          2.000000e+00        2.00         3.00         3.00  "
      ]
     },
     "execution_count": 82,
     "metadata": {},
     "output_type": "execute_result"
    }
   ],
   "source": [
    "csv_clean.describe().T"
   ]
  },
  {
   "cell_type": "code",
   "execution_count": 29,
   "metadata": {},
   "outputs": [
    {
     "data": {
      "image/png": "[encoded data removed]",
      "text/plain": [
       "<Figure size 432x288 with 1 Axes>"
      ]
     },
     "metadata": {
      "needs_background": "light"
     },
     "output_type": "display_data"
    }
   ],
   "source": [
    "column_to_analize = 'renta'\n",
    "img_name = column_to_analize + '_clean_without_outliers_box_plot.png'\n",
    "fig = csv_clean.groupby(column_to_analize).size().plot(kind='box').get_figure()\n",
    "fig.savefig(img_name)\n",
    "mlflow.log_artifact(img_name)"
   ]
  },
  {
   "cell_type": "code",
   "execution_count": 5,
   "metadata": {},
   "outputs": [],
   "source": [
    "csv_clean = csv_clean[csv_clean['antiguedad'] >= 0]"
   ]
  },
  {
   "cell_type": "code",
   "execution_count": 6,
   "metadata": {},
   "outputs": [],
   "source": [
    "csv_clean = csv_clean[csv_clean['renta'] <= 255952]"
   ]
  },
  {
   "cell_type": "code",
   "execution_count": 7,
   "metadata": {},
   "outputs": [
    {
     "data": {
      "text/plain": [
       "(9980486, 33)"
      ]
     },
     "execution_count": 7,
     "metadata": {},
     "output_type": "execute_result"
    }
   ],
   "source": [
    "csv_clean.shape"
   ]
  },
  {
   "cell_type": "code",
   "execution_count": 8,
   "metadata": {},
   "outputs": [],
   "source": [
    "inputs_from_csv = csv_clean[input_columns]\n",
    "output_from_csv = csv_clean[output_columns]"
   ]
  },
  {
   "cell_type": "markdown",
   "metadata": {},
   "source": [
    "<h1>Create Model</h1>"
   ]
  },
  {
   "cell_type": "code",
   "execution_count": 16,
   "metadata": {},
   "outputs": [],
   "source": [
    "import keras"
   ]
  },
  {
   "cell_type": "code",
   "execution_count": 17,
   "metadata": {},
   "outputs": [],
   "source": [
    "model = keras.Sequential()\n",
    "#model.add(keras.Dense(16,input_dim=len(input_columns))\n",
    "model.add(keras.layers.Dense(64, input_dim=len(input_columns), activation='relu'))\n",
    "#model.add(tf.keras.layers.Dense(1, activation='sigmoid'))\n",
    "model.add(keras.layers.Dense(32, activation='relu'))\n",
    "#model.add(tf.keras.layers.Dropout(0.5))\n",
    "#model.add(tf.keras.layers.Dense(4, activation='relu'))\n",
    "#model.add(tf.keras.layers.Dense(4, activation='relu'))\n",
    "#model.add(tf.keras.layers.BatchNormalization((512),epsilon=1e-6,weights=None))\n",
    "model.add(keras.layers.Dense(len(output_columns), activation='softmax'))\n",
    "#model.add(keras.layers.Dense(5, activation='sigmoid'))\n",
    "#sgd = keras.optimizers.SGD(lr=1e-2, decay=1e-6, momentum=0.9, nesterov=True,clipnorm=0.1)\n",
    "#model.compile(loss='binary_crossentropy', optimizer=sgd)\n"
   ]
  },
  {
   "cell_type": "code",
   "execution_count": 9,
   "metadata": {},
   "outputs": [],
   "source": [
    "X_train, X_test, y_train, y_test = train_test_split(inputs_from_csv, output_from_csv, test_size=0.33, random_state=42)"
   ]
  },
  {
   "cell_type": "code",
   "execution_count": 10,
   "metadata": {},
   "outputs": [],
   "source": [
    "y_train_unidemesional = y_train.apply(lambda x: x.argmax(), axis=1).values\n",
    "y_test_unidemesional = y_test.apply(lambda x: x.argmax(), axis=1).values\n"
   ]
  },
  {
   "cell_type": "code",
   "execution_count": 103,
   "metadata": {},
   "outputs": [
    {
     "name": "stdout",
     "output_type": "stream",
     "text": [
      "[0 2 0 ... 2 7 0]\n"
     ]
    },
    {
     "data": {
      "text/plain": [
       "[]"
      ]
     },
     "execution_count": 103,
     "metadata": {},
     "output_type": "execute_result"
    },
    {
     "data": {
      "image/png": "[encoded data removed]",
      "text/plain": [
       "<Figure size 432x288 with 1 Axes>"
      ]
     },
     "metadata": {
      "needs_background": "light"
     },
     "output_type": "display_data"
    }
   ],
   "source": [
    "print(y_train_unidemesional)\n"
   ]
  },
  {
   "cell_type": "code",
   "execution_count": 11,
   "metadata": {},
   "outputs": [
    {
     "name": "stdout",
     "output_type": "stream",
     "text": [
      "[[1. 0. 0. ... 0. 0. 0.]\n",
      " [0. 0. 1. ... 0. 0. 0.]\n",
      " [1. 0. 0. ... 0. 0. 0.]\n",
      " ...\n",
      " [0. 0. 1. ... 0. 0. 0.]\n",
      " [0. 0. 0. ... 0. 0. 0.]\n",
      " [1. 0. 0. ... 0. 0. 0.]]\n"
     ]
    }
   ],
   "source": [
    "from keras.utils import to_categorical\n",
    "\n",
    "encoded = to_categorical(y_train_unidemesional)\n",
    "print(encoded)\n",
    "\n",
    "encondedTest = to_categorical(y_test_unidemesional)\n"
   ]
  },
  {
   "cell_type": "code",
   "execution_count": 18,
   "metadata": {},
   "outputs": [],
   "source": [
    "model.compile(optimizer=tf.keras.optimizers.Adam(learning_rate=0.003),\n",
    "              loss=tf.keras.losses.categorical_crossentropy,\n",
    "              metrics=['accuracy'])"
   ]
  },
  {
   "cell_type": "code",
   "execution_count": 167,
   "metadata": {},
   "outputs": [
    {
     "name": "stdout",
     "output_type": "stream",
     "text": [
      "Model: \"sequential_20\"\n",
      "_________________________________________________________________\n",
      " Layer (type)                Output Shape              Param #   \n",
      "=================================================================\n",
      " dense_53 (Dense)            (None, 64)                576       \n",
      "                                                                 \n",
      " dense_54 (Dense)            (None, 32)                2080      \n",
      "                                                                 \n",
      " dense_55 (Dense)            (None, 24)                792       \n",
      "                                                                 \n",
      "=================================================================\n",
      "Total params: 3,448\n",
      "Trainable params: 3,448\n",
      "Non-trainable params: 0\n",
      "_________________________________________________________________\n"
     ]
    }
   ],
   "source": [
    "model.summary()"
   ]
  },
  {
   "cell_type": "code",
   "execution_count": 20,
   "metadata": {},
   "outputs": [
    {
     "name": "stdout",
     "output_type": "stream",
     "text": [
      "Epoch 1/12\n",
      "40/40 [==============================] - 3118s 78s/step - loss: 467.7794 - accuracy: 0.0417 - val_loss: 3.1633 - val_accuracy: 0.0417\n",
      "Epoch 2/12\n",
      "40/40 [==============================] - 3932s 101s/step - loss: 3.1781 - accuracy: 0.0417 - val_loss: 3.1642 - val_accuracy: 0.0417\n",
      "Epoch 3/12\n",
      "40/40 [==============================] - 3242s 83s/step - loss: 3.1781 - accuracy: 0.0415 - val_loss: 3.1622 - val_accuracy: 0.0417\n",
      "Epoch 4/12\n",
      "40/40 [==============================] - 4194s 107s/step - loss: 3.1781 - accuracy: 0.0415 - val_loss: 3.1622 - val_accuracy: 0.0417\n",
      "Epoch 5/12\n",
      "40/40 [==============================] - 3792s 97s/step - loss: 3.1781 - accuracy: 0.0415 - val_loss: 3.1620 - val_accuracy: 0.0417\n"
     ]
    },
    {
     "data": {
      "text/plain": [
       "<keras.callbacks.History at 0x1b06f93e440>"
      ]
     },
     "execution_count": 20,
     "metadata": {},
     "output_type": "execute_result"
    }
   ],
   "source": [
    "model.fit(\n",
    "    x=X_ros,\n",
    "    y=y_ros,\n",
    "    validation_data=(X_ros_test,y_ros_test),\n",
    "    #batch_size=120,\n",
    "    epochs=12,\n",
    "    verbose='auto',\n",
    "    callbacks=[tf.keras.callbacks.EarlyStopping(monitor='accuracy', patience=3)],\n",
    "    shuffle=True,\n",
    "    initial_epoch=0,\n",
    "    steps_per_epoch=40,\n",
    "    workers=1,\n",
    "    use_multiprocessing=False\n",
    ")\n"
   ]
  },
  {
   "cell_type": "code",
   "execution_count": 150,
   "metadata": {},
   "outputs": [],
   "source": [
    "history = model.history"
   ]
  },
  {
   "cell_type": "code",
   "execution_count": 155,
   "metadata": {},
   "outputs": [
    {
     "data": {
      "image/png": "[encoded data removed]",
      "text/plain": [
       "<Figure size 432x288 with 1 Axes>"
      ]
     },
     "metadata": {
      "needs_background": "light"
     },
     "output_type": "display_data"
    },
    {
     "data": {
      "text/plain": [
       "<Figure size 432x288 with 0 Axes>"
      ]
     },
     "metadata": {},
     "output_type": "display_data"
    }
   ],
   "source": [
    "plt.plot(range(len(history.history['loss'])), history.history['loss'], color='red', label=\"Train Loss\")\n",
    "plt.plot(range(len(history.history['val_loss'])), history.history['val_loss'], color='blue',label=\"Test Loss\")\n",
    "plt.legend(loc='upper right')\n",
    "plt.show()\n",
    "img_name = 'loss_val_loss_con_clases_desbalanceadas'\n",
    "plt.savefig(fname=img_name)\n",
    "\n",
    "mlflow.log_artifact(img_name+'.png')"
   ]
  },
  {
   "cell_type": "code",
   "execution_count": 180,
   "metadata": {},
   "outputs": [
    {
     "data": {
      "image/png": "[encoded data removed]",
      "text/plain": [
       "<Figure size 432x288 with 1 Axes>"
      ]
     },
     "metadata": {
      "needs_background": "light"
     },
     "output_type": "display_data"
    },
    {
     "data": {
      "text/plain": [
       "<Figure size 432x288 with 0 Axes>"
      ]
     },
     "metadata": {},
     "output_type": "display_data"
    }
   ],
   "source": [
    "metric='accuracy'\n",
    "plt.plot(range(len(history.history[metric])), history.history[metric], color='red',label=\"Train Accuracy\")\n",
    "plt.plot(range(len(history.history['val_'+metric])), history.history['val_'+metric], color='blue',label=\"Test Accuracy\")\n",
    "plt.legend(loc=\"lower right\")\n",
    "plt.show()\n",
    "\n",
    "img_name = 'accuracy_val_accuracy_con_clases_desbalanceadas'\n",
    "plt.savefig(img_name+'.png')\n",
    "\n",
    "mlflow.log_artifact(img_name+'.png')"
   ]
  },
  {
   "cell_type": "code",
   "execution_count": 158,
   "metadata": {},
   "outputs": [
    {
     "data": {
      "image/png": "[encoded data removed]",
      "text/plain": [
       "<Figure size 1152x1152 with 1 Axes>"
      ]
     },
     "metadata": {
      "needs_background": "light"
     },
     "output_type": "display_data"
    }
   ],
   "source": [
    "\n",
    "freq=[]\n",
    "df_encoded = pd.DataFrame(encoded)\n",
    "for c in output_columns:\n",
    "    freq.append(df_encoded[output_columns.index(c)].value_counts()[1])\n",
    "\n",
    "plt.figure(figsize=(16,16))\n",
    "plt.barh(output_columns,freq)\n",
    "plt.savefig('./i_cantidad de productos por tipo.jpg')\n",
    "mlflow.log_artifact('./i_cantidad de productos por tipo.jpg')\n",
    "\n",
    "### Balancear clases"
   ]
  },
  {
   "cell_type": "markdown",
   "metadata": {},
   "source": [
    "<h1>Balanceando clases</h1>"
   ]
  },
  {
   "cell_type": "markdown",
   "metadata": {},
   "source": [
    "<h3>Con under sampling</h3>"
   ]
  },
  {
   "cell_type": "code",
   "execution_count": 163,
   "metadata": {},
   "outputs": [],
   "source": [
    "# import library\n",
    "from imblearn.under_sampling import RandomUnderSampler\n",
    "\n",
    "rus = RandomUnderSampler(random_state=42, replacement=True)# fit predictor and target variable\n",
    "x_rus, y_rus = rus.fit_resample(X_train, encoded)\n",
    "\n",
    "x_rus_test, y_rus_test = rus.fit_resample(X_test, encondedTest)\n"
   ]
  },
  {
   "cell_type": "code",
   "execution_count": 176,
   "metadata": {},
   "outputs": [
    {
     "data": {
      "text/plain": [
       "(3720, 24)"
      ]
     },
     "execution_count": 176,
     "metadata": {},
     "output_type": "execute_result"
    }
   ],
   "source": [
    "mlflow.log_param('Shape RandomUnderSampler X',x_rus.shape)\n",
    "mlflow.log_param('Shape RandomUnderSampler Y',y_rus.shape)\n"
   ]
  },
  {
   "cell_type": "code",
   "execution_count": 162,
   "metadata": {},
   "outputs": [
    {
     "data": {
      "image/png": "[encoded data removed]",
      "text/plain": [
       "<Figure size 1152x1152 with 1 Axes>"
      ]
     },
     "metadata": {
      "needs_background": "light"
     },
     "output_type": "display_data"
    }
   ],
   "source": [
    "freq=[]\n",
    "df_rus = pd.DataFrame(y_rus)\n",
    "for c in output_columns:\n",
    "    freq.append(df_rus[output_columns.index(c)].value_counts()[1])\n",
    "\n",
    "plt.figure(figsize=(16,16))\n",
    "plt.barh(output_columns,freq)\n",
    "plt.savefig('./i_cantidad de productos por tipo balanceado RUS.jpg')\n",
    "mlflow.log_artifact('./i_cantidad de productos por tipo balanceado RUS.jpg')"
   ]
  },
  {
   "cell_type": "code",
   "execution_count": 179,
   "metadata": {},
   "outputs": [],
   "source": [
    "mlflow.log_artifact('model_training_UnderSample.png')"
   ]
  },
  {
   "cell_type": "markdown",
   "metadata": {},
   "source": [
    "<h3>Oversample</h3>"
   ]
  },
  {
   "cell_type": "code",
   "execution_count": 12,
   "metadata": {},
   "outputs": [],
   "source": [
    "from imblearn.over_sampling import RandomOverSampler\n",
    "\n",
    "ros = RandomOverSampler(random_state=0)\n",
    "\n",
    "X_ros, y_ros = ros.fit_resample(X_train, encoded)\n",
    "X_ros_test, y_ros_test = ros.fit_resample(X_test, encondedTest)"
   ]
  },
  {
   "cell_type": "code",
   "execution_count": 14,
   "metadata": {},
   "outputs": [
    {
     "data": {
      "image/png": "[encoded data removed]",
      "text/plain": [
       "<Figure size 1152x1152 with 1 Axes>"
      ]
     },
     "metadata": {
      "needs_background": "light"
     },
     "output_type": "display_data"
    }
   ],
   "source": [
    "freq=[]\n",
    "df_rus = pd.DataFrame(y_ros)\n",
    "for c in output_columns:\n",
    "    freq.append(df_rus[output_columns.index(c)].value_counts()[1])\n",
    "\n",
    "plt.figure(figsize=(16,16))\n",
    "plt.barh(output_columns,freq)\n",
    "plt.savefig('./i_cantidad de productos por tipo balanceado ROS.jpg')\n",
    "mlflow.log_artifact('./i_cantidad de productos por tipo balanceado ROS.jpg')"
   ]
  },
  {
   "cell_type": "code",
   "execution_count": 15,
   "metadata": {},
   "outputs": [
    {
     "data": {
      "text/plain": [
       "(105859776, 24)"
      ]
     },
     "execution_count": 15,
     "metadata": {},
     "output_type": "execute_result"
    }
   ],
   "source": [
    "mlflow.log_param('Shape RandomOverSampler X',X_ros.shape)\n",
    "mlflow.log_param('Shape RandomOverSampler Y',y_ros.shape)"
   ]
  },
  {
   "cell_type": "markdown",
   "metadata": {},
   "source": [
    "<h3> SMOTE Method</h3>"
   ]
  },
  {
   "cell_type": "code",
   "execution_count": null,
   "metadata": {},
   "outputs": [],
   "source": [
    "from imblearn.over_sampling import SMOTE\n",
    "\n",
    "sm = SMOTE(random_state=42)\n",
    "X_SMOTE, y_SMOTE = sm.fit_resample(X_train, encoded)\n",
    "X_SMOTE, y_SMOTE = sm.fit_resample(X_test, encodedTest)"
   ]
  },
  {
   "cell_type": "code",
   "execution_count": null,
   "metadata": {},
   "outputs": [],
   "source": [
    "freq=[]\n",
    "df_rus = pd.DataFrame(y_ros)\n",
    "for c in output_columns:\n",
    "    freq.append(df_rus[output_columns.index(c)].value_counts()[1])\n",
    "\n",
    "plt.figure(figsize=(16,16))\n",
    "plt.barh(output_columns,freq)\n",
    "plt.savefig('./i_cantidad de productos por tipo balanceado SMOTE.jpg')\n",
    "mlflow.log_artifact('./i_cantidad de productos por tipo balanceado SMOTE.jpg')"
   ]
  },
  {
   "cell_type": "code",
   "execution_count": null,
   "metadata": {},
   "outputs": [],
   "source": [
    "mlflow.log_param('Shape SMOTE X',X_ros.shape)\n",
    "mlflow.log_param('Shape SMOTE Y',y_ros.shape)"
   ]
  }
 ],
 "metadata": {
  "kernelspec": {
   "display_name": "Python 3.10.4 ('datamining')",
   "language": "python",
   "name": "python3"
  },
  "language_info": {
   "codemirror_mode": {
    "name": "ipython",
    "version": 3
   },
   "file_extension": ".py",
   "mimetype": "text/x-python",
   "name": "python",
   "nbconvert_exporter": "python",
   "pygments_lexer": "ipython3",
   "version": "3.10.4"
  },
  "orig_nbformat": 4,
  "vscode": {
   "interpreter": {
    "hash": "b1a2f1866a1f557c95fdbea5d55a83f40d4475bfb48dd575f4d5c37e61bf0ff4"
   }
  }
 },
 "nbformat": 4,
 "nbformat_minor": 2
}
