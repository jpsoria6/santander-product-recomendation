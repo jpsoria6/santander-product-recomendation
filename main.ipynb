{
 "cells": [
  {
   "cell_type": "code",
   "execution_count": 2,
   "metadata": {},
   "outputs": [],
   "source": [
    "import numpy as np\n",
    "import pandas as pd\n",
    "import matplotlib.pyplot as plt\n",
    "import statsmodels.api as sm\n",
    "import seaborn as sns\n",
    "import pylab\n",
    "import mlflow\n",
    "\n",
    "from sklearn.metrics import mean_squared_error, mean_absolute_error\n",
    "from sklearn import datasets\n",
    "from sklearn.model_selection import train_test_split\n",
    "from sklearn.preprocessing import StandardScaler,MinMaxScaler\n",
    "\n"
   ]
  },
  {
   "cell_type": "code",
   "execution_count": 53,
   "metadata": {},
   "outputs": [
    {
     "name": "stderr",
     "output_type": "stream",
     "text": [
      "C:\\Users\\Administrador\\AppData\\Local\\Temp\\ipykernel_2092\\560558549.py:1: DtypeWarning: Columns (5,8,11,15) have mixed types. Specify dtype option on import or set low_memory=False.\n",
      "  csv_train = pd.read_csv('train_ver2.csv')\n"
     ]
    },
    {
     "data": {
      "text/plain": [
       "Index(['fecha_dato', 'ncodpers', 'ind_empleado', 'pais_residencia', 'sexo',\n",
       "       'age', 'fecha_alta', 'ind_nuevo', 'antiguedad', 'indrel',\n",
       "       'ult_fec_cli_1t', 'indrel_1mes', 'tiprel_1mes', 'indresi', 'indext',\n",
       "       'conyuemp', 'canal_entrada', 'indfall', 'tipodom', 'cod_prov',\n",
       "       'nomprov', 'ind_actividad_cliente', 'renta', 'segmento',\n",
       "       'ind_ahor_fin_ult1', 'ind_aval_fin_ult1', 'ind_cco_fin_ult1',\n",
       "       'ind_cder_fin_ult1', 'ind_cno_fin_ult1', 'ind_ctju_fin_ult1',\n",
       "       'ind_ctma_fin_ult1', 'ind_ctop_fin_ult1', 'ind_ctpp_fin_ult1',\n",
       "       'ind_deco_fin_ult1', 'ind_deme_fin_ult1', 'ind_dela_fin_ult1',\n",
       "       'ind_ecue_fin_ult1', 'ind_fond_fin_ult1', 'ind_hip_fin_ult1',\n",
       "       'ind_plan_fin_ult1', 'ind_pres_fin_ult1', 'ind_reca_fin_ult1',\n",
       "       'ind_tjcr_fin_ult1', 'ind_valo_fin_ult1', 'ind_viv_fin_ult1',\n",
       "       'ind_nomina_ult1', 'ind_nom_pens_ult1', 'ind_recibo_ult1'],\n",
       "      dtype='object')"
      ]
     },
     "execution_count": 53,
     "metadata": {},
     "output_type": "execute_result"
    }
   ],
   "source": [
    "csv_train = pd.read_csv('train_ver2.csv')\n",
    "\n",
    "csv_train.columns"
   ]
  },
  {
   "cell_type": "markdown",
   "metadata": {},
   "source": [
    "<h1>ML Flow Stuff</h1>"
   ]
  },
  {
   "cell_type": "code",
   "execution_count": 72,
   "metadata": {},
   "outputs": [
    {
     "data": {
      "text/plain": [
       "<Experiment: artifact_location='file:///C:/Users/Administrador/Desktop/DataMining/segundo_parcial/mlruns/1', creation_time=1671407413489, experiment_id='1', last_update_time=1671407413489, lifecycle_stage='active', name='analisis_univariado', tags={}>"
      ]
     },
     "execution_count": 72,
     "metadata": {},
     "output_type": "execute_result"
    }
   ],
   "source": [
    "expermient_name = 'analisis_univariado'\n",
    "\n",
    "dict_values = {\n",
    "    'mse':0,\n",
    "    'r2':0,\n",
    "    'rmse':0\n",
    "}\n",
    "\n",
    "\n",
    "def load_create_experiment():\n",
    "    if mlflow.get_experiment_by_name(expermient_name):\n",
    "        return mlflow.get_experiment_by_name(expermient_name)\n",
    "    return mlflow.create_experiment(expermient_name)\n",
    "    \n",
    "current_experiment = load_create_experiment()\n",
    "mlflow.set_experiment(expermient_name)"
   ]
  },
  {
   "cell_type": "markdown",
   "metadata": {},
   "source": [
    "Loggin Params"
   ]
  },
  {
   "cell_type": "code",
   "execution_count": null,
   "metadata": {},
   "outputs": [],
   "source": [
    "\n",
    "#columns_to_drop = ['Model']\n",
    "#mlflow.log_param('drop_columns',columns_to_drop) 1th Param name, value\n"
   ]
  },
  {
   "cell_type": "markdown",
   "metadata": {},
   "source": [
    "Set Tags"
   ]
  },
  {
   "cell_type": "code",
   "execution_count": null,
   "metadata": {},
   "outputs": [],
   "source": [
    "#mlflow.set_tag('Summary',summary)\n"
   ]
  },
  {
   "cell_type": "markdown",
   "metadata": {},
   "source": [
    "Loggin Metrics"
   ]
  },
  {
   "cell_type": "code",
   "execution_count": null,
   "metadata": {},
   "outputs": [],
   "source": [
    "#mlflow.log_metrics(dict_values)\n"
   ]
  },
  {
   "cell_type": "markdown",
   "metadata": {},
   "source": [
    "Save Picture"
   ]
  },
  {
   "cell_type": "code",
   "execution_count": null,
   "metadata": {},
   "outputs": [],
   "source": [
    "#plt.savefig('plotname.png')\n",
    "#mlflow.log_artifact('plotname.png')\n",
    "#plt.show()"
   ]
  },
  {
   "cell_type": "markdown",
   "metadata": {},
   "source": [
    "<h2>Analisis Univariado</h2>"
   ]
  },
  {
   "cell_type": "code",
   "execution_count": 73,
   "metadata": {},
   "outputs": [
    {
     "data": {
      "text/plain": [
       "'conyuemp'"
      ]
     },
     "execution_count": 73,
     "metadata": {},
     "output_type": "execute_result"
    }
   ],
   "source": [
    "column_to_analize = 'conyuemp'\n",
    "mlflow.log_param('Column',column_to_analize)\n"
   ]
  },
  {
   "cell_type": "markdown",
   "metadata": {},
   "source": [
    "Bar plot"
   ]
  },
  {
   "cell_type": "code",
   "execution_count": 74,
   "metadata": {},
   "outputs": [
    {
     "data": {
      "image/png": "[encoded data removed]",
      "text/plain": [
       "<Figure size 432x288 with 1 Axes>"
      ]
     },
     "metadata": {
      "needs_background": "light"
     },
     "output_type": "display_data"
    }
   ],
   "source": [
    "img_name = column_to_analize + '_bar_plot.png'\n",
    "fig = csv_train.groupby(column_to_analize).size().plot(kind='bar').get_figure()\n",
    "fig.savefig(img_name)\n",
    "mlflow.log_artifact(img_name)"
   ]
  },
  {
   "cell_type": "markdown",
   "metadata": {},
   "source": [
    "Box Plot"
   ]
  },
  {
   "cell_type": "code",
   "execution_count": 29,
   "metadata": {},
   "outputs": [
    {
     "data": {
      "image/png": "[encoded data removed]",
      "text/plain": [
       "<Figure size 432x288 with 1 Axes>"
      ]
     },
     "metadata": {
      "needs_background": "light"
     },
     "output_type": "display_data"
    }
   ],
   "source": [
    "img_name = column_to_analize + '_box_plot.png'\n",
    "fig = csv_train.groupby(column_to_analize).size().plot(kind='box').get_figure()\n",
    "fig.savefig(img_name)\n",
    "mlflow.log_artifact(img_name)"
   ]
  },
  {
   "cell_type": "markdown",
   "metadata": {},
   "source": [
    "Comment Column"
   ]
  },
  {
   "cell_type": "code",
   "execution_count": 75,
   "metadata": {},
   "outputs": [],
   "source": [
    "comment = 'Muy sesgado a NO, eliminar'\n",
    "mlflow.set_tag('Comentario',comment)\n"
   ]
  },
  {
   "cell_type": "markdown",
   "metadata": {},
   "source": [
    "<h2>Variables Dummies<h2>"
   ]
  },
  {
   "cell_type": "code",
   "execution_count": 77,
   "metadata": {},
   "outputs": [
    {
     "name": "stderr",
     "output_type": "stream",
     "text": [
      "C:\\Users\\Administrador\\AppData\\Local\\Temp\\ipykernel_2092\\1095953066.py:5: PerformanceWarning: DataFrame is highly fragmented.  This is usually the result of calling `frame.insert` many times, which has poor performance.  Consider joining all columns at once using pd.concat(axis=1) instead. To get a de-fragmented frame, use `newframe = frame.copy()`\n",
      "  csv_train[var_dummies.columns] = var_dummies\n",
      "C:\\Users\\Administrador\\AppData\\Local\\Temp\\ipykernel_2092\\1095953066.py:5: PerformanceWarning: DataFrame is highly fragmented.  This is usually the result of calling `frame.insert` many times, which has poor performance.  Consider joining all columns at once using pd.concat(axis=1) instead. To get a de-fragmented frame, use `newframe = frame.copy()`\n",
      "  csv_train[var_dummies.columns] = var_dummies\n",
      "C:\\Users\\Administrador\\AppData\\Local\\Temp\\ipykernel_2092\\1095953066.py:5: PerformanceWarning: DataFrame is highly fragmented.  This is usually the result of calling `frame.insert` many times, which has poor performance.  Consider joining all columns at once using pd.concat(axis=1) instead. To get a de-fragmented frame, use `newframe = frame.copy()`\n",
      "  csv_train[var_dummies.columns] = var_dummies\n",
      "C:\\Users\\Administrador\\AppData\\Local\\Temp\\ipykernel_2092\\1095953066.py:5: PerformanceWarning: DataFrame is highly fragmented.  This is usually the result of calling `frame.insert` many times, which has poor performance.  Consider joining all columns at once using pd.concat(axis=1) instead. To get a de-fragmented frame, use `newframe = frame.copy()`\n",
      "  csv_train[var_dummies.columns] = var_dummies\n",
      "C:\\Users\\Administrador\\AppData\\Local\\Temp\\ipykernel_2092\\1095953066.py:5: PerformanceWarning: DataFrame is highly fragmented.  This is usually the result of calling `frame.insert` many times, which has poor performance.  Consider joining all columns at once using pd.concat(axis=1) instead. To get a de-fragmented frame, use `newframe = frame.copy()`\n",
      "  csv_train[var_dummies.columns] = var_dummies\n",
      "C:\\Users\\Administrador\\AppData\\Local\\Temp\\ipykernel_2092\\1095953066.py:5: PerformanceWarning: DataFrame is highly fragmented.  This is usually the result of calling `frame.insert` many times, which has poor performance.  Consider joining all columns at once using pd.concat(axis=1) instead. To get a de-fragmented frame, use `newframe = frame.copy()`\n",
      "  csv_train[var_dummies.columns] = var_dummies\n",
      "C:\\Users\\Administrador\\AppData\\Local\\Temp\\ipykernel_2092\\1095953066.py:5: PerformanceWarning: DataFrame is highly fragmented.  This is usually the result of calling `frame.insert` many times, which has poor performance.  Consider joining all columns at once using pd.concat(axis=1) instead. To get a de-fragmented frame, use `newframe = frame.copy()`\n",
      "  csv_train[var_dummies.columns] = var_dummies\n",
      "C:\\Users\\Administrador\\AppData\\Local\\Temp\\ipykernel_2092\\1095953066.py:5: PerformanceWarning: DataFrame is highly fragmented.  This is usually the result of calling `frame.insert` many times, which has poor performance.  Consider joining all columns at once using pd.concat(axis=1) instead. To get a de-fragmented frame, use `newframe = frame.copy()`\n",
      "  csv_train[var_dummies.columns] = var_dummies\n",
      "C:\\Users\\Administrador\\AppData\\Local\\Temp\\ipykernel_2092\\1095953066.py:5: PerformanceWarning: DataFrame is highly fragmented.  This is usually the result of calling `frame.insert` many times, which has poor performance.  Consider joining all columns at once using pd.concat(axis=1) instead. To get a de-fragmented frame, use `newframe = frame.copy()`\n",
      "  csv_train[var_dummies.columns] = var_dummies\n",
      "C:\\Users\\Administrador\\AppData\\Local\\Temp\\ipykernel_2092\\1095953066.py:5: PerformanceWarning: DataFrame is highly fragmented.  This is usually the result of calling `frame.insert` many times, which has poor performance.  Consider joining all columns at once using pd.concat(axis=1) instead. To get a de-fragmented frame, use `newframe = frame.copy()`\n",
      "  csv_train[var_dummies.columns] = var_dummies\n",
      "C:\\Users\\Administrador\\AppData\\Local\\Temp\\ipykernel_2092\\1095953066.py:5: PerformanceWarning: DataFrame is highly fragmented.  This is usually the result of calling `frame.insert` many times, which has poor performance.  Consider joining all columns at once using pd.concat(axis=1) instead. To get a de-fragmented frame, use `newframe = frame.copy()`\n",
      "  csv_train[var_dummies.columns] = var_dummies\n",
      "C:\\Users\\Administrador\\AppData\\Local\\Temp\\ipykernel_2092\\1095953066.py:5: PerformanceWarning: DataFrame is highly fragmented.  This is usually the result of calling `frame.insert` many times, which has poor performance.  Consider joining all columns at once using pd.concat(axis=1) instead. To get a de-fragmented frame, use `newframe = frame.copy()`\n",
      "  csv_train[var_dummies.columns] = var_dummies\n",
      "C:\\Users\\Administrador\\AppData\\Local\\Temp\\ipykernel_2092\\1095953066.py:5: PerformanceWarning: DataFrame is highly fragmented.  This is usually the result of calling `frame.insert` many times, which has poor performance.  Consider joining all columns at once using pd.concat(axis=1) instead. To get a de-fragmented frame, use `newframe = frame.copy()`\n",
      "  csv_train[var_dummies.columns] = var_dummies\n",
      "C:\\Users\\Administrador\\AppData\\Local\\Temp\\ipykernel_2092\\1095953066.py:5: PerformanceWarning: DataFrame is highly fragmented.  This is usually the result of calling `frame.insert` many times, which has poor performance.  Consider joining all columns at once using pd.concat(axis=1) instead. To get a de-fragmented frame, use `newframe = frame.copy()`\n",
      "  csv_train[var_dummies.columns] = var_dummies\n",
      "C:\\Users\\Administrador\\AppData\\Local\\Temp\\ipykernel_2092\\1095953066.py:5: PerformanceWarning: DataFrame is highly fragmented.  This is usually the result of calling `frame.insert` many times, which has poor performance.  Consider joining all columns at once using pd.concat(axis=1) instead. To get a de-fragmented frame, use `newframe = frame.copy()`\n",
      "  csv_train[var_dummies.columns] = var_dummies\n",
      "C:\\Users\\Administrador\\AppData\\Local\\Temp\\ipykernel_2092\\1095953066.py:5: PerformanceWarning: DataFrame is highly fragmented.  This is usually the result of calling `frame.insert` many times, which has poor performance.  Consider joining all columns at once using pd.concat(axis=1) instead. To get a de-fragmented frame, use `newframe = frame.copy()`\n",
      "  csv_train[var_dummies.columns] = var_dummies\n",
      "C:\\Users\\Administrador\\AppData\\Local\\Temp\\ipykernel_2092\\1095953066.py:5: PerformanceWarning: DataFrame is highly fragmented.  This is usually the result of calling `frame.insert` many times, which has poor performance.  Consider joining all columns at once using pd.concat(axis=1) instead. To get a de-fragmented frame, use `newframe = frame.copy()`\n",
      "  csv_train[var_dummies.columns] = var_dummies\n",
      "C:\\Users\\Administrador\\AppData\\Local\\Temp\\ipykernel_2092\\1095953066.py:5: PerformanceWarning: DataFrame is highly fragmented.  This is usually the result of calling `frame.insert` many times, which has poor performance.  Consider joining all columns at once using pd.concat(axis=1) instead. To get a de-fragmented frame, use `newframe = frame.copy()`\n",
      "  csv_train[var_dummies.columns] = var_dummies\n",
      "C:\\Users\\Administrador\\AppData\\Local\\Temp\\ipykernel_2092\\1095953066.py:5: PerformanceWarning: DataFrame is highly fragmented.  This is usually the result of calling `frame.insert` many times, which has poor performance.  Consider joining all columns at once using pd.concat(axis=1) instead. To get a de-fragmented frame, use `newframe = frame.copy()`\n",
      "  csv_train[var_dummies.columns] = var_dummies\n",
      "C:\\Users\\Administrador\\AppData\\Local\\Temp\\ipykernel_2092\\1095953066.py:5: PerformanceWarning: DataFrame is highly fragmented.  This is usually the result of calling `frame.insert` many times, which has poor performance.  Consider joining all columns at once using pd.concat(axis=1) instead. To get a de-fragmented frame, use `newframe = frame.copy()`\n",
      "  csv_train[var_dummies.columns] = var_dummies\n",
      "C:\\Users\\Administrador\\AppData\\Local\\Temp\\ipykernel_2092\\1095953066.py:5: PerformanceWarning: DataFrame is highly fragmented.  This is usually the result of calling `frame.insert` many times, which has poor performance.  Consider joining all columns at once using pd.concat(axis=1) instead. To get a de-fragmented frame, use `newframe = frame.copy()`\n",
      "  csv_train[var_dummies.columns] = var_dummies\n",
      "C:\\Users\\Administrador\\AppData\\Local\\Temp\\ipykernel_2092\\1095953066.py:5: PerformanceWarning: DataFrame is highly fragmented.  This is usually the result of calling `frame.insert` many times, which has poor performance.  Consider joining all columns at once using pd.concat(axis=1) instead. To get a de-fragmented frame, use `newframe = frame.copy()`\n",
      "  csv_train[var_dummies.columns] = var_dummies\n",
      "C:\\Users\\Administrador\\AppData\\Local\\Temp\\ipykernel_2092\\1095953066.py:5: PerformanceWarning: DataFrame is highly fragmented.  This is usually the result of calling `frame.insert` many times, which has poor performance.  Consider joining all columns at once using pd.concat(axis=1) instead. To get a de-fragmented frame, use `newframe = frame.copy()`\n",
      "  csv_train[var_dummies.columns] = var_dummies\n",
      "C:\\Users\\Administrador\\AppData\\Local\\Temp\\ipykernel_2092\\1095953066.py:5: PerformanceWarning: DataFrame is highly fragmented.  This is usually the result of calling `frame.insert` many times, which has poor performance.  Consider joining all columns at once using pd.concat(axis=1) instead. To get a de-fragmented frame, use `newframe = frame.copy()`\n",
      "  csv_train[var_dummies.columns] = var_dummies\n",
      "C:\\Users\\Administrador\\AppData\\Local\\Temp\\ipykernel_2092\\1095953066.py:5: PerformanceWarning: DataFrame is highly fragmented.  This is usually the result of calling `frame.insert` many times, which has poor performance.  Consider joining all columns at once using pd.concat(axis=1) instead. To get a de-fragmented frame, use `newframe = frame.copy()`\n",
      "  csv_train[var_dummies.columns] = var_dummies\n",
      "C:\\Users\\Administrador\\AppData\\Local\\Temp\\ipykernel_2092\\1095953066.py:5: PerformanceWarning: DataFrame is highly fragmented.  This is usually the result of calling `frame.insert` many times, which has poor performance.  Consider joining all columns at once using pd.concat(axis=1) instead. To get a de-fragmented frame, use `newframe = frame.copy()`\n",
      "  csv_train[var_dummies.columns] = var_dummies\n",
      "C:\\Users\\Administrador\\AppData\\Local\\Temp\\ipykernel_2092\\1095953066.py:5: PerformanceWarning: DataFrame is highly fragmented.  This is usually the result of calling `frame.insert` many times, which has poor performance.  Consider joining all columns at once using pd.concat(axis=1) instead. To get a de-fragmented frame, use `newframe = frame.copy()`\n",
      "  csv_train[var_dummies.columns] = var_dummies\n",
      "C:\\Users\\Administrador\\AppData\\Local\\Temp\\ipykernel_2092\\1095953066.py:5: PerformanceWarning: DataFrame is highly fragmented.  This is usually the result of calling `frame.insert` many times, which has poor performance.  Consider joining all columns at once using pd.concat(axis=1) instead. To get a de-fragmented frame, use `newframe = frame.copy()`\n",
      "  csv_train[var_dummies.columns] = var_dummies\n",
      "C:\\Users\\Administrador\\AppData\\Local\\Temp\\ipykernel_2092\\1095953066.py:5: PerformanceWarning: DataFrame is highly fragmented.  This is usually the result of calling `frame.insert` many times, which has poor performance.  Consider joining all columns at once using pd.concat(axis=1) instead. To get a de-fragmented frame, use `newframe = frame.copy()`\n",
      "  csv_train[var_dummies.columns] = var_dummies\n",
      "C:\\Users\\Administrador\\AppData\\Local\\Temp\\ipykernel_2092\\1095953066.py:5: PerformanceWarning: DataFrame is highly fragmented.  This is usually the result of calling `frame.insert` many times, which has poor performance.  Consider joining all columns at once using pd.concat(axis=1) instead. To get a de-fragmented frame, use `newframe = frame.copy()`\n",
      "  csv_train[var_dummies.columns] = var_dummies\n",
      "C:\\Users\\Administrador\\AppData\\Local\\Temp\\ipykernel_2092\\1095953066.py:5: PerformanceWarning: DataFrame is highly fragmented.  This is usually the result of calling `frame.insert` many times, which has poor performance.  Consider joining all columns at once using pd.concat(axis=1) instead. To get a de-fragmented frame, use `newframe = frame.copy()`\n",
      "  csv_train[var_dummies.columns] = var_dummies\n",
      "C:\\Users\\Administrador\\AppData\\Local\\Temp\\ipykernel_2092\\1095953066.py:5: PerformanceWarning: DataFrame is highly fragmented.  This is usually the result of calling `frame.insert` many times, which has poor performance.  Consider joining all columns at once using pd.concat(axis=1) instead. To get a de-fragmented frame, use `newframe = frame.copy()`\n",
      "  csv_train[var_dummies.columns] = var_dummies\n",
      "C:\\Users\\Administrador\\AppData\\Local\\Temp\\ipykernel_2092\\1095953066.py:5: PerformanceWarning: DataFrame is highly fragmented.  This is usually the result of calling `frame.insert` many times, which has poor performance.  Consider joining all columns at once using pd.concat(axis=1) instead. To get a de-fragmented frame, use `newframe = frame.copy()`\n",
      "  csv_train[var_dummies.columns] = var_dummies\n",
      "C:\\Users\\Administrador\\AppData\\Local\\Temp\\ipykernel_2092\\1095953066.py:5: PerformanceWarning: DataFrame is highly fragmented.  This is usually the result of calling `frame.insert` many times, which has poor performance.  Consider joining all columns at once using pd.concat(axis=1) instead. To get a de-fragmented frame, use `newframe = frame.copy()`\n",
      "  csv_train[var_dummies.columns] = var_dummies\n",
      "C:\\Users\\Administrador\\AppData\\Local\\Temp\\ipykernel_2092\\1095953066.py:5: PerformanceWarning: DataFrame is highly fragmented.  This is usually the result of calling `frame.insert` many times, which has poor performance.  Consider joining all columns at once using pd.concat(axis=1) instead. To get a de-fragmented frame, use `newframe = frame.copy()`\n",
      "  csv_train[var_dummies.columns] = var_dummies\n",
      "C:\\Users\\Administrador\\AppData\\Local\\Temp\\ipykernel_2092\\1095953066.py:5: PerformanceWarning: DataFrame is highly fragmented.  This is usually the result of calling `frame.insert` many times, which has poor performance.  Consider joining all columns at once using pd.concat(axis=1) instead. To get a de-fragmented frame, use `newframe = frame.copy()`\n",
      "  csv_train[var_dummies.columns] = var_dummies\n",
      "C:\\Users\\Administrador\\AppData\\Local\\Temp\\ipykernel_2092\\1095953066.py:5: PerformanceWarning: DataFrame is highly fragmented.  This is usually the result of calling `frame.insert` many times, which has poor performance.  Consider joining all columns at once using pd.concat(axis=1) instead. To get a de-fragmented frame, use `newframe = frame.copy()`\n",
      "  csv_train[var_dummies.columns] = var_dummies\n",
      "C:\\Users\\Administrador\\AppData\\Local\\Temp\\ipykernel_2092\\1095953066.py:5: PerformanceWarning: DataFrame is highly fragmented.  This is usually the result of calling `frame.insert` many times, which has poor performance.  Consider joining all columns at once using pd.concat(axis=1) instead. To get a de-fragmented frame, use `newframe = frame.copy()`\n",
      "  csv_train[var_dummies.columns] = var_dummies\n",
      "C:\\Users\\Administrador\\AppData\\Local\\Temp\\ipykernel_2092\\1095953066.py:5: PerformanceWarning: DataFrame is highly fragmented.  This is usually the result of calling `frame.insert` many times, which has poor performance.  Consider joining all columns at once using pd.concat(axis=1) instead. To get a de-fragmented frame, use `newframe = frame.copy()`\n",
      "  csv_train[var_dummies.columns] = var_dummies\n",
      "C:\\Users\\Administrador\\AppData\\Local\\Temp\\ipykernel_2092\\1095953066.py:5: PerformanceWarning: DataFrame is highly fragmented.  This is usually the result of calling `frame.insert` many times, which has poor performance.  Consider joining all columns at once using pd.concat(axis=1) instead. To get a de-fragmented frame, use `newframe = frame.copy()`\n",
      "  csv_train[var_dummies.columns] = var_dummies\n",
      "C:\\Users\\Administrador\\AppData\\Local\\Temp\\ipykernel_2092\\1095953066.py:5: PerformanceWarning: DataFrame is highly fragmented.  This is usually the result of calling `frame.insert` many times, which has poor performance.  Consider joining all columns at once using pd.concat(axis=1) instead. To get a de-fragmented frame, use `newframe = frame.copy()`\n",
      "  csv_train[var_dummies.columns] = var_dummies\n",
      "C:\\Users\\Administrador\\AppData\\Local\\Temp\\ipykernel_2092\\1095953066.py:5: PerformanceWarning: DataFrame is highly fragmented.  This is usually the result of calling `frame.insert` many times, which has poor performance.  Consider joining all columns at once using pd.concat(axis=1) instead. To get a de-fragmented frame, use `newframe = frame.copy()`\n",
      "  csv_train[var_dummies.columns] = var_dummies\n",
      "C:\\Users\\Administrador\\AppData\\Local\\Temp\\ipykernel_2092\\1095953066.py:5: PerformanceWarning: DataFrame is highly fragmented.  This is usually the result of calling `frame.insert` many times, which has poor performance.  Consider joining all columns at once using pd.concat(axis=1) instead. To get a de-fragmented frame, use `newframe = frame.copy()`\n",
      "  csv_train[var_dummies.columns] = var_dummies\n",
      "C:\\Users\\Administrador\\AppData\\Local\\Temp\\ipykernel_2092\\1095953066.py:5: PerformanceWarning: DataFrame is highly fragmented.  This is usually the result of calling `frame.insert` many times, which has poor performance.  Consider joining all columns at once using pd.concat(axis=1) instead. To get a de-fragmented frame, use `newframe = frame.copy()`\n",
      "  csv_train[var_dummies.columns] = var_dummies\n",
      "C:\\Users\\Administrador\\AppData\\Local\\Temp\\ipykernel_2092\\1095953066.py:5: PerformanceWarning: DataFrame is highly fragmented.  This is usually the result of calling `frame.insert` many times, which has poor performance.  Consider joining all columns at once using pd.concat(axis=1) instead. To get a de-fragmented frame, use `newframe = frame.copy()`\n",
      "  csv_train[var_dummies.columns] = var_dummies\n",
      "C:\\Users\\Administrador\\AppData\\Local\\Temp\\ipykernel_2092\\1095953066.py:5: PerformanceWarning: DataFrame is highly fragmented.  This is usually the result of calling `frame.insert` many times, which has poor performance.  Consider joining all columns at once using pd.concat(axis=1) instead. To get a de-fragmented frame, use `newframe = frame.copy()`\n",
      "  csv_train[var_dummies.columns] = var_dummies\n",
      "C:\\Users\\Administrador\\AppData\\Local\\Temp\\ipykernel_2092\\1095953066.py:5: PerformanceWarning: DataFrame is highly fragmented.  This is usually the result of calling `frame.insert` many times, which has poor performance.  Consider joining all columns at once using pd.concat(axis=1) instead. To get a de-fragmented frame, use `newframe = frame.copy()`\n",
      "  csv_train[var_dummies.columns] = var_dummies\n",
      "C:\\Users\\Administrador\\AppData\\Local\\Temp\\ipykernel_2092\\1095953066.py:5: PerformanceWarning: DataFrame is highly fragmented.  This is usually the result of calling `frame.insert` many times, which has poor performance.  Consider joining all columns at once using pd.concat(axis=1) instead. To get a de-fragmented frame, use `newframe = frame.copy()`\n",
      "  csv_train[var_dummies.columns] = var_dummies\n",
      "C:\\Users\\Administrador\\AppData\\Local\\Temp\\ipykernel_2092\\1095953066.py:5: PerformanceWarning: DataFrame is highly fragmented.  This is usually the result of calling `frame.insert` many times, which has poor performance.  Consider joining all columns at once using pd.concat(axis=1) instead. To get a de-fragmented frame, use `newframe = frame.copy()`\n",
      "  csv_train[var_dummies.columns] = var_dummies\n",
      "C:\\Users\\Administrador\\AppData\\Local\\Temp\\ipykernel_2092\\1095953066.py:5: PerformanceWarning: DataFrame is highly fragmented.  This is usually the result of calling `frame.insert` many times, which has poor performance.  Consider joining all columns at once using pd.concat(axis=1) instead. To get a de-fragmented frame, use `newframe = frame.copy()`\n",
      "  csv_train[var_dummies.columns] = var_dummies\n",
      "C:\\Users\\Administrador\\AppData\\Local\\Temp\\ipykernel_2092\\1095953066.py:5: PerformanceWarning: DataFrame is highly fragmented.  This is usually the result of calling `frame.insert` many times, which has poor performance.  Consider joining all columns at once using pd.concat(axis=1) instead. To get a de-fragmented frame, use `newframe = frame.copy()`\n",
      "  csv_train[var_dummies.columns] = var_dummies\n",
      "C:\\Users\\Administrador\\AppData\\Local\\Temp\\ipykernel_2092\\1095953066.py:5: PerformanceWarning: DataFrame is highly fragmented.  This is usually the result of calling `frame.insert` many times, which has poor performance.  Consider joining all columns at once using pd.concat(axis=1) instead. To get a de-fragmented frame, use `newframe = frame.copy()`\n",
      "  csv_train[var_dummies.columns] = var_dummies\n",
      "C:\\Users\\Administrador\\AppData\\Local\\Temp\\ipykernel_2092\\1095953066.py:5: PerformanceWarning: DataFrame is highly fragmented.  This is usually the result of calling `frame.insert` many times, which has poor performance.  Consider joining all columns at once using pd.concat(axis=1) instead. To get a de-fragmented frame, use `newframe = frame.copy()`\n",
      "  csv_train[var_dummies.columns] = var_dummies\n",
      "C:\\Users\\Administrador\\AppData\\Local\\Temp\\ipykernel_2092\\1095953066.py:5: PerformanceWarning: DataFrame is highly fragmented.  This is usually the result of calling `frame.insert` many times, which has poor performance.  Consider joining all columns at once using pd.concat(axis=1) instead. To get a de-fragmented frame, use `newframe = frame.copy()`\n",
      "  csv_train[var_dummies.columns] = var_dummies\n",
      "C:\\Users\\Administrador\\AppData\\Local\\Temp\\ipykernel_2092\\1095953066.py:5: PerformanceWarning: DataFrame is highly fragmented.  This is usually the result of calling `frame.insert` many times, which has poor performance.  Consider joining all columns at once using pd.concat(axis=1) instead. To get a de-fragmented frame, use `newframe = frame.copy()`\n",
      "  csv_train[var_dummies.columns] = var_dummies\n",
      "C:\\Users\\Administrador\\AppData\\Local\\Temp\\ipykernel_2092\\1095953066.py:5: PerformanceWarning: DataFrame is highly fragmented.  This is usually the result of calling `frame.insert` many times, which has poor performance.  Consider joining all columns at once using pd.concat(axis=1) instead. To get a de-fragmented frame, use `newframe = frame.copy()`\n",
      "  csv_train[var_dummies.columns] = var_dummies\n",
      "C:\\Users\\Administrador\\AppData\\Local\\Temp\\ipykernel_2092\\1095953066.py:5: PerformanceWarning: DataFrame is highly fragmented.  This is usually the result of calling `frame.insert` many times, which has poor performance.  Consider joining all columns at once using pd.concat(axis=1) instead. To get a de-fragmented frame, use `newframe = frame.copy()`\n",
      "  csv_train[var_dummies.columns] = var_dummies\n",
      "C:\\Users\\Administrador\\AppData\\Local\\Temp\\ipykernel_2092\\1095953066.py:5: PerformanceWarning: DataFrame is highly fragmented.  This is usually the result of calling `frame.insert` many times, which has poor performance.  Consider joining all columns at once using pd.concat(axis=1) instead. To get a de-fragmented frame, use `newframe = frame.copy()`\n",
      "  csv_train[var_dummies.columns] = var_dummies\n",
      "C:\\Users\\Administrador\\AppData\\Local\\Temp\\ipykernel_2092\\1095953066.py:5: PerformanceWarning: DataFrame is highly fragmented.  This is usually the result of calling `frame.insert` many times, which has poor performance.  Consider joining all columns at once using pd.concat(axis=1) instead. To get a de-fragmented frame, use `newframe = frame.copy()`\n",
      "  csv_train[var_dummies.columns] = var_dummies\n",
      "C:\\Users\\Administrador\\AppData\\Local\\Temp\\ipykernel_2092\\1095953066.py:5: PerformanceWarning: DataFrame is highly fragmented.  This is usually the result of calling `frame.insert` many times, which has poor performance.  Consider joining all columns at once using pd.concat(axis=1) instead. To get a de-fragmented frame, use `newframe = frame.copy()`\n",
      "  csv_train[var_dummies.columns] = var_dummies\n",
      "C:\\Users\\Administrador\\AppData\\Local\\Temp\\ipykernel_2092\\1095953066.py:5: PerformanceWarning: DataFrame is highly fragmented.  This is usually the result of calling `frame.insert` many times, which has poor performance.  Consider joining all columns at once using pd.concat(axis=1) instead. To get a de-fragmented frame, use `newframe = frame.copy()`\n",
      "  csv_train[var_dummies.columns] = var_dummies\n",
      "C:\\Users\\Administrador\\AppData\\Local\\Temp\\ipykernel_2092\\1095953066.py:5: PerformanceWarning: DataFrame is highly fragmented.  This is usually the result of calling `frame.insert` many times, which has poor performance.  Consider joining all columns at once using pd.concat(axis=1) instead. To get a de-fragmented frame, use `newframe = frame.copy()`\n",
      "  csv_train[var_dummies.columns] = var_dummies\n",
      "C:\\Users\\Administrador\\AppData\\Local\\Temp\\ipykernel_2092\\1095953066.py:5: PerformanceWarning: DataFrame is highly fragmented.  This is usually the result of calling `frame.insert` many times, which has poor performance.  Consider joining all columns at once using pd.concat(axis=1) instead. To get a de-fragmented frame, use `newframe = frame.copy()`\n",
      "  csv_train[var_dummies.columns] = var_dummies\n",
      "C:\\Users\\Administrador\\AppData\\Local\\Temp\\ipykernel_2092\\1095953066.py:5: PerformanceWarning: DataFrame is highly fragmented.  This is usually the result of calling `frame.insert` many times, which has poor performance.  Consider joining all columns at once using pd.concat(axis=1) instead. To get a de-fragmented frame, use `newframe = frame.copy()`\n",
      "  csv_train[var_dummies.columns] = var_dummies\n",
      "C:\\Users\\Administrador\\AppData\\Local\\Temp\\ipykernel_2092\\1095953066.py:5: PerformanceWarning: DataFrame is highly fragmented.  This is usually the result of calling `frame.insert` many times, which has poor performance.  Consider joining all columns at once using pd.concat(axis=1) instead. To get a de-fragmented frame, use `newframe = frame.copy()`\n",
      "  csv_train[var_dummies.columns] = var_dummies\n",
      "C:\\Users\\Administrador\\AppData\\Local\\Temp\\ipykernel_2092\\1095953066.py:5: PerformanceWarning: DataFrame is highly fragmented.  This is usually the result of calling `frame.insert` many times, which has poor performance.  Consider joining all columns at once using pd.concat(axis=1) instead. To get a de-fragmented frame, use `newframe = frame.copy()`\n",
      "  csv_train[var_dummies.columns] = var_dummies\n"
     ]
    }
   ],
   "source": [
    "column_dummy = 'canal_entrada'\n",
    "var_dummies = pd.get_dummies(csv_train[column_dummy])\n",
    "csv_train = csv_train.drop(columns=[column_dummy])\n",
    "\n",
    "csv_train[var_dummies.columns] = var_dummies"
   ]
  },
  {
   "cell_type": "code",
   "execution_count": 78,
   "metadata": {},
   "outputs": [
    {
     "name": "stdout",
     "output_type": "stream",
     "text": [
      "Index(['004', '007', '013', '025', 'K00', 'KAA', 'KAB', 'KAC', 'KAD', 'KAE',\n",
      "       ...\n",
      "       'KHK', 'KHL', 'KHM', 'KHN', 'KHO', 'KHP', 'KHQ', 'KHR', 'KHS', 'RED'],\n",
      "      dtype='object', length=162)\n"
     ]
    }
   ],
   "source": [
    "mlflow.set_tag('Var dummies',var_dummies.columns)\n",
    "print(var_dummies.columns)\n"
   ]
  },
  {
   "cell_type": "code",
   "execution_count": 69,
   "metadata": {},
   "outputs": [
    {
     "data": {
      "image/png": "[encoded data removed]",
      "text/plain": [
       "<Figure size 432x288 with 1 Axes>"
      ]
     },
     "metadata": {
      "needs_background": "light"
     },
     "output_type": "display_data"
    }
   ],
   "source": [
    "feature_dummy = 'R'\n",
    "img_name = column_dummy + '_' + feature_dummy + '_bar_plot.png'\n",
    "fig = var_dummies.groupby(feature_dummy).size().plot(kind='bar').get_figure()\n",
    "fig.savefig(img_name)\n",
    "mlflow.log_artifact(img_name)"
   ]
  },
  {
   "cell_type": "markdown",
   "metadata": {},
   "source": [
    "End MlFlow Run"
   ]
  },
  {
   "cell_type": "code",
   "execution_count": 76,
   "metadata": {},
   "outputs": [],
   "source": [
    "mlflow.end_run()"
   ]
  }
 ],
 "metadata": {
  "kernelspec": {
   "display_name": "Python 3.10.4 ('datamining')",
   "language": "python",
   "name": "python3"
  },
  "language_info": {
   "codemirror_mode": {
    "name": "ipython",
    "version": 3
   },
   "file_extension": ".py",
   "mimetype": "text/x-python",
   "name": "python",
   "nbconvert_exporter": "python",
   "pygments_lexer": "ipython3",
   "version": "3.10.4"
  },
  "orig_nbformat": 4,
  "vscode": {
   "interpreter": {
    "hash": "b1a2f1866a1f557c95fdbea5d55a83f40d4475bfb48dd575f4d5c37e61bf0ff4"
   }
  }
 },
 "nbformat": 4,
 "nbformat_minor": 2
}
