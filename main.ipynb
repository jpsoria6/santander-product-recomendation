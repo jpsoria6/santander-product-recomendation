{
 "cells": [
  {
   "cell_type": "code",
   "execution_count": 2,
   "metadata": {},
   "outputs": [],
   "source": [
    "import numpy as np\n",
    "import pandas as pd\n",
    "import matplotlib.pyplot as plt\n",
    "import statsmodels.api as sm\n",
    "import seaborn as sns\n",
    "import pylab\n",
    "import mlflow\n",
    "\n",
    "from sklearn.metrics import mean_squared_error, mean_absolute_error\n",
    "from sklearn import datasets\n",
    "from sklearn.model_selection import train_test_split\n",
    "from sklearn.preprocessing import StandardScaler,MinMaxScaler\n",
    "\n",
    "\n",
    "\n",
    "from kneed import KneeLocator\n",
    "from sklearn.cluster import KMeans\n",
    "from sklearn.metrics import silhouette_score\n",
    "from sklearn.preprocessing import StandardScaler\n",
    "from sklearn.ensemble import HistGradientBoostingClassifier\n",
    "\n"
   ]
  },
  {
   "cell_type": "code",
   "execution_count": 5,
   "metadata": {},
   "outputs": [
    {
     "name": "stderr",
     "output_type": "stream",
     "text": [
      "C:\\Users\\Administrador\\AppData\\Local\\Temp\\ipykernel_22052\\560558549.py:1: DtypeWarning: Columns (5,8,11,15) have mixed types. Specify dtype option on import or set low_memory=False.\n",
      "  csv_train = pd.read_csv('train_ver2.csv')\n"
     ]
    },
    {
     "data": {
      "text/plain": [
       "Index(['fecha_dato', 'ncodpers', 'ind_empleado', 'pais_residencia', 'sexo',\n",
       "       'age', 'fecha_alta', 'ind_nuevo', 'antiguedad', 'indrel',\n",
       "       'ult_fec_cli_1t', 'indrel_1mes', 'tiprel_1mes', 'indresi', 'indext',\n",
       "       'conyuemp', 'canal_entrada', 'indfall', 'tipodom', 'cod_prov',\n",
       "       'nomprov', 'ind_actividad_cliente', 'renta', 'segmento',\n",
       "       'ind_ahor_fin_ult1', 'ind_aval_fin_ult1', 'ind_cco_fin_ult1',\n",
       "       'ind_cder_fin_ult1', 'ind_cno_fin_ult1', 'ind_ctju_fin_ult1',\n",
       "       'ind_ctma_fin_ult1', 'ind_ctop_fin_ult1', 'ind_ctpp_fin_ult1',\n",
       "       'ind_deco_fin_ult1', 'ind_deme_fin_ult1', 'ind_dela_fin_ult1',\n",
       "       'ind_ecue_fin_ult1', 'ind_fond_fin_ult1', 'ind_hip_fin_ult1',\n",
       "       'ind_plan_fin_ult1', 'ind_pres_fin_ult1', 'ind_reca_fin_ult1',\n",
       "       'ind_tjcr_fin_ult1', 'ind_valo_fin_ult1', 'ind_viv_fin_ult1',\n",
       "       'ind_nomina_ult1', 'ind_nom_pens_ult1', 'ind_recibo_ult1'],\n",
       "      dtype='object')"
      ]
     },
     "execution_count": 5,
     "metadata": {},
     "output_type": "execute_result"
    }
   ],
   "source": [
    "csv_train = pd.read_csv('train_ver2.csv')\n",
    "\n",
    "csv_train.columns"
   ]
  },
  {
   "cell_type": "markdown",
   "metadata": {},
   "source": [
    "<h1>ML Flow Stuff</h1>"
   ]
  },
  {
   "cell_type": "code",
   "execution_count": 16,
   "metadata": {},
   "outputs": [
    {
     "data": {
      "text/plain": [
       "<Experiment: artifact_location='file:///C:/Users/Administrador/Desktop/DataMining/segundo_parcial/mlruns/6', creation_time=1672232166932, experiment_id='6', last_update_time=1672232166932, lifecycle_stage='active', name='testing_NN', tags={}>"
      ]
     },
     "execution_count": 16,
     "metadata": {},
     "output_type": "execute_result"
    }
   ],
   "source": [
    "expermient_name = 'testing_NN'\n",
    "\n",
    "dict_values = {\n",
    "    'mse':0,\n",
    "    'r2':0,\n",
    "    'rmse':0\n",
    "}\n",
    "\n",
    "\n",
    "def load_create_experiment():\n",
    "    if mlflow.get_experiment_by_name(expermient_name):\n",
    "        return mlflow.get_experiment_by_name(expermient_name)\n",
    "    return mlflow.create_experiment(expermient_name)\n",
    "    \n",
    "current_experiment = load_create_experiment()\n",
    "mlflow.set_experiment(expermient_name)"
   ]
  },
  {
   "cell_type": "markdown",
   "metadata": {},
   "source": [
    "Loggin Params"
   ]
  },
  {
   "cell_type": "code",
   "execution_count": null,
   "metadata": {},
   "outputs": [],
   "source": [
    "\n",
    "#columns_to_drop = ['Model']\n",
    "#mlflow.log_param('drop_columns',columns_to_drop) 1th Param name, value\n"
   ]
  },
  {
   "cell_type": "markdown",
   "metadata": {},
   "source": [
    "Set Tags"
   ]
  },
  {
   "cell_type": "code",
   "execution_count": null,
   "metadata": {},
   "outputs": [],
   "source": [
    "#mlflow.set_tag('Summary',summary)\n"
   ]
  },
  {
   "cell_type": "markdown",
   "metadata": {},
   "source": [
    "Loggin Metrics"
   ]
  },
  {
   "cell_type": "code",
   "execution_count": null,
   "metadata": {},
   "outputs": [],
   "source": [
    "#mlflow.log_metrics(dict_values)\n"
   ]
  },
  {
   "cell_type": "markdown",
   "metadata": {},
   "source": [
    "Save Picture"
   ]
  },
  {
   "cell_type": "code",
   "execution_count": null,
   "metadata": {},
   "outputs": [],
   "source": [
    "#plt.savefig('plotname.png')\n",
    "#mlflow.log_artifact('plotname.png')\n",
    "#plt.show()"
   ]
  },
  {
   "cell_type": "markdown",
   "metadata": {},
   "source": [
    "<h2>Analisis Univariado</h2>"
   ]
  },
  {
   "cell_type": "code",
   "execution_count": 4,
   "metadata": {},
   "outputs": [
    {
     "data": {
      "text/plain": [
       "'renta'"
      ]
     },
     "execution_count": 4,
     "metadata": {},
     "output_type": "execute_result"
    }
   ],
   "source": [
    "column_to_analize = 'renta'\n",
    "mlflow.log_param('Column',column_to_analize)\n"
   ]
  },
  {
   "cell_type": "markdown",
   "metadata": {},
   "source": [
    "Bar plot"
   ]
  },
  {
   "cell_type": "code",
   "execution_count": 14,
   "metadata": {},
   "outputs": [
    {
     "data": {
      "image/png": "[encoded data removed]",
      "text/plain": [
       "<Figure size 432x288 with 1 Axes>"
      ]
     },
     "metadata": {
      "needs_background": "light"
     },
     "output_type": "display_data"
    }
   ],
   "source": [
    "img_name = column_to_analize + '_bar_plot.png'\n",
    "fig = csv_train.groupby(column_to_analize).size().plot(kind='bar').get_figure()\n",
    "fig.savefig(img_name)\n",
    "mlflow.log_artifact(img_name)"
   ]
  },
  {
   "cell_type": "markdown",
   "metadata": {},
   "source": [
    "Box Plot"
   ]
  },
  {
   "cell_type": "code",
   "execution_count": 29,
   "metadata": {},
   "outputs": [
    {
     "data": {
      "image/png": "[encoded data removed]",
      "text/plain": [
       "<Figure size 432x288 with 1 Axes>"
      ]
     },
     "metadata": {
      "needs_background": "light"
     },
     "output_type": "display_data"
    }
   ],
   "source": [
    "img_name = column_to_analize + '_box_plot.png'\n",
    "fig = csv_train.groupby(column_to_analize).size().plot(kind='box').get_figure()\n",
    "fig.savefig(img_name)\n",
    "mlflow.log_artifact(img_name)"
   ]
  },
  {
   "cell_type": "markdown",
   "metadata": {},
   "source": [
    "Hist Plot\n"
   ]
  },
  {
   "cell_type": "code",
   "execution_count": 6,
   "metadata": {},
   "outputs": [
    {
     "data": {
      "image/png": "[encoded data removed]",
      "text/plain": [
       "<Figure size 432x288 with 1 Axes>"
      ]
     },
     "metadata": {
      "needs_background": "light"
     },
     "output_type": "display_data"
    }
   ],
   "source": [
    "img_name = column_to_analize + '_hist_plot.png'\n",
    "fig = csv_train[column_to_analize].plot(kind='hist').get_figure()\n",
    "fig.savefig(img_name)\n",
    "mlflow.log_artifact(img_name)"
   ]
  },
  {
   "cell_type": "markdown",
   "metadata": {},
   "source": [
    "Comment Column"
   ]
  },
  {
   "cell_type": "code",
   "execution_count": 31,
   "metadata": {},
   "outputs": [],
   "source": [
    "comment ='Realizar analisis mas a fondo'\n",
    "mlflow.set_tag('Comentario',comment)\n"
   ]
  },
  {
   "cell_type": "markdown",
   "metadata": {},
   "source": [
    "<h2>Variables Dummies<h2>"
   ]
  },
  {
   "cell_type": "code",
   "execution_count": 26,
   "metadata": {},
   "outputs": [],
   "source": [
    "column_dummy = 'segmento'\n",
    "var_dummies = pd.get_dummies(csv_train[column_dummy])\n",
    "csv_train = csv_train.drop(columns=[column_dummy])\n",
    "\n",
    "csv_train[var_dummies.columns] = var_dummies"
   ]
  },
  {
   "cell_type": "code",
   "execution_count": 27,
   "metadata": {},
   "outputs": [
    {
     "name": "stdout",
     "output_type": "stream",
     "text": [
      "Index(['01 - TOP', '02 - PARTICULARES', '03 - UNIVERSITARIO'], dtype='object')\n"
     ]
    }
   ],
   "source": [
    "mlflow.set_tag('Var dummies',var_dummies.columns)\n",
    "print(var_dummies.columns)\n"
   ]
  },
  {
   "cell_type": "code",
   "execution_count": 30,
   "metadata": {},
   "outputs": [
    {
     "data": {
      "image/png": "[encoded data removed]",
      "text/plain": [
       "<Figure size 432x288 with 1 Axes>"
      ]
     },
     "metadata": {
      "needs_background": "light"
     },
     "output_type": "display_data"
    }
   ],
   "source": [
    "feature_dummy = '03 - UNIVERSITARIO'\n",
    "img_name = column_dummy + '_' + feature_dummy + '_bar_plot.png'\n",
    "fig = var_dummies.groupby(feature_dummy).size().plot(kind='bar').get_figure()\n",
    "fig.savefig(img_name)\n",
    "mlflow.log_artifact(img_name)"
   ]
  },
  {
   "cell_type": "markdown",
   "metadata": {},
   "source": [
    "End MlFlow Run"
   ]
  },
  {
   "cell_type": "code",
   "execution_count": 20,
   "metadata": {},
   "outputs": [],
   "source": [
    "mlflow.end_run()"
   ]
  },
  {
   "cell_type": "markdown",
   "metadata": {},
   "source": [
    "Describe DataSet"
   ]
  },
  {
   "cell_type": "code",
   "execution_count": 8,
   "metadata": {},
   "outputs": [
    {
     "data": {
      "text/html": [
       "<div>\n",
       "<style scoped>\n",
       "    .dataframe tbody tr th:only-of-type {\n",
       "        vertical-align: middle;\n",
       "    }\n",
       "\n",
       "    .dataframe tbody tr th {\n",
       "        vertical-align: top;\n",
       "    }\n",
       "\n",
       "    .dataframe thead th {\n",
       "        text-align: right;\n",
       "    }\n",
       "</style>\n",
       "<table border=\"1\" class=\"dataframe\">\n",
       "  <thead>\n",
       "    <tr style=\"text-align: right;\">\n",
       "      <th></th>\n",
       "      <th>count</th>\n",
       "      <th>mean</th>\n",
       "      <th>std</th>\n",
       "      <th>min</th>\n",
       "      <th>25%</th>\n",
       "      <th>50%</th>\n",
       "      <th>75%</th>\n",
       "      <th>max</th>\n",
       "    </tr>\n",
       "  </thead>\n",
       "  <tbody>\n",
       "    <tr>\n",
       "      <th>ncodpers</th>\n",
       "      <td>13647309.0</td>\n",
       "      <td>834904.211501</td>\n",
       "      <td>431565.025784</td>\n",
       "      <td>15889.00</td>\n",
       "      <td>452813.00</td>\n",
       "      <td>931893.0</td>\n",
       "      <td>1199286.00</td>\n",
       "      <td>1553689.00</td>\n",
       "    </tr>\n",
       "    <tr>\n",
       "      <th>ind_nuevo</th>\n",
       "      <td>13619575.0</td>\n",
       "      <td>0.059562</td>\n",
       "      <td>0.236673</td>\n",
       "      <td>0.00</td>\n",
       "      <td>0.00</td>\n",
       "      <td>0.0</td>\n",
       "      <td>0.00</td>\n",
       "      <td>1.00</td>\n",
       "    </tr>\n",
       "    <tr>\n",
       "      <th>indrel</th>\n",
       "      <td>13619575.0</td>\n",
       "      <td>1.178399</td>\n",
       "      <td>4.177469</td>\n",
       "      <td>1.00</td>\n",
       "      <td>1.00</td>\n",
       "      <td>1.0</td>\n",
       "      <td>1.00</td>\n",
       "      <td>99.00</td>\n",
       "    </tr>\n",
       "    <tr>\n",
       "      <th>tipodom</th>\n",
       "      <td>13619574.0</td>\n",
       "      <td>1.000000</td>\n",
       "      <td>0.000000</td>\n",
       "      <td>1.00</td>\n",
       "      <td>1.00</td>\n",
       "      <td>1.0</td>\n",
       "      <td>1.00</td>\n",
       "      <td>1.00</td>\n",
       "    </tr>\n",
       "    <tr>\n",
       "      <th>cod_prov</th>\n",
       "      <td>13553718.0</td>\n",
       "      <td>26.571470</td>\n",
       "      <td>12.784017</td>\n",
       "      <td>1.00</td>\n",
       "      <td>15.00</td>\n",
       "      <td>28.0</td>\n",
       "      <td>35.00</td>\n",
       "      <td>52.00</td>\n",
       "    </tr>\n",
       "    <tr>\n",
       "      <th>ind_actividad_cliente</th>\n",
       "      <td>13619575.0</td>\n",
       "      <td>0.457811</td>\n",
       "      <td>0.498217</td>\n",
       "      <td>0.00</td>\n",
       "      <td>0.00</td>\n",
       "      <td>0.0</td>\n",
       "      <td>1.00</td>\n",
       "      <td>1.00</td>\n",
       "    </tr>\n",
       "    <tr>\n",
       "      <th>renta</th>\n",
       "      <td>10852934.0</td>\n",
       "      <td>134254.318238</td>\n",
       "      <td>230620.238822</td>\n",
       "      <td>1202.73</td>\n",
       "      <td>68710.98</td>\n",
       "      <td>101850.0</td>\n",
       "      <td>155955.96</td>\n",
       "      <td>28894395.51</td>\n",
       "    </tr>\n",
       "    <tr>\n",
       "      <th>ind_ahor_fin_ult1</th>\n",
       "      <td>13647309.0</td>\n",
       "      <td>0.000102</td>\n",
       "      <td>0.010113</td>\n",
       "      <td>0.00</td>\n",
       "      <td>0.00</td>\n",
       "      <td>0.0</td>\n",
       "      <td>0.00</td>\n",
       "      <td>1.00</td>\n",
       "    </tr>\n",
       "    <tr>\n",
       "      <th>ind_aval_fin_ult1</th>\n",
       "      <td>13647309.0</td>\n",
       "      <td>0.000023</td>\n",
       "      <td>0.004812</td>\n",
       "      <td>0.00</td>\n",
       "      <td>0.00</td>\n",
       "      <td>0.0</td>\n",
       "      <td>0.00</td>\n",
       "      <td>1.00</td>\n",
       "    </tr>\n",
       "    <tr>\n",
       "      <th>ind_cco_fin_ult1</th>\n",
       "      <td>13647309.0</td>\n",
       "      <td>0.655484</td>\n",
       "      <td>0.475210</td>\n",
       "      <td>0.00</td>\n",
       "      <td>0.00</td>\n",
       "      <td>1.0</td>\n",
       "      <td>1.00</td>\n",
       "      <td>1.00</td>\n",
       "    </tr>\n",
       "    <tr>\n",
       "      <th>ind_cder_fin_ult1</th>\n",
       "      <td>13647309.0</td>\n",
       "      <td>0.000394</td>\n",
       "      <td>0.019844</td>\n",
       "      <td>0.00</td>\n",
       "      <td>0.00</td>\n",
       "      <td>0.0</td>\n",
       "      <td>0.00</td>\n",
       "      <td>1.00</td>\n",
       "    </tr>\n",
       "    <tr>\n",
       "      <th>ind_cno_fin_ult1</th>\n",
       "      <td>13647309.0</td>\n",
       "      <td>0.080867</td>\n",
       "      <td>0.272631</td>\n",
       "      <td>0.00</td>\n",
       "      <td>0.00</td>\n",
       "      <td>0.0</td>\n",
       "      <td>0.00</td>\n",
       "      <td>1.00</td>\n",
       "    </tr>\n",
       "    <tr>\n",
       "      <th>ind_ctju_fin_ult1</th>\n",
       "      <td>13647309.0</td>\n",
       "      <td>0.009474</td>\n",
       "      <td>0.096873</td>\n",
       "      <td>0.00</td>\n",
       "      <td>0.00</td>\n",
       "      <td>0.0</td>\n",
       "      <td>0.00</td>\n",
       "      <td>1.00</td>\n",
       "    </tr>\n",
       "    <tr>\n",
       "      <th>ind_ctma_fin_ult1</th>\n",
       "      <td>13647309.0</td>\n",
       "      <td>0.009727</td>\n",
       "      <td>0.098143</td>\n",
       "      <td>0.00</td>\n",
       "      <td>0.00</td>\n",
       "      <td>0.0</td>\n",
       "      <td>0.00</td>\n",
       "      <td>1.00</td>\n",
       "    </tr>\n",
       "    <tr>\n",
       "      <th>ind_ctop_fin_ult1</th>\n",
       "      <td>13647309.0</td>\n",
       "      <td>0.129008</td>\n",
       "      <td>0.335209</td>\n",
       "      <td>0.00</td>\n",
       "      <td>0.00</td>\n",
       "      <td>0.0</td>\n",
       "      <td>0.00</td>\n",
       "      <td>1.00</td>\n",
       "    </tr>\n",
       "    <tr>\n",
       "      <th>ind_ctpp_fin_ult1</th>\n",
       "      <td>13647309.0</td>\n",
       "      <td>0.043306</td>\n",
       "      <td>0.203545</td>\n",
       "      <td>0.00</td>\n",
       "      <td>0.00</td>\n",
       "      <td>0.0</td>\n",
       "      <td>0.00</td>\n",
       "      <td>1.00</td>\n",
       "    </tr>\n",
       "    <tr>\n",
       "      <th>ind_deco_fin_ult1</th>\n",
       "      <td>13647309.0</td>\n",
       "      <td>0.001779</td>\n",
       "      <td>0.042138</td>\n",
       "      <td>0.00</td>\n",
       "      <td>0.00</td>\n",
       "      <td>0.0</td>\n",
       "      <td>0.00</td>\n",
       "      <td>1.00</td>\n",
       "    </tr>\n",
       "    <tr>\n",
       "      <th>ind_deme_fin_ult1</th>\n",
       "      <td>13647309.0</td>\n",
       "      <td>0.001661</td>\n",
       "      <td>0.040721</td>\n",
       "      <td>0.00</td>\n",
       "      <td>0.00</td>\n",
       "      <td>0.0</td>\n",
       "      <td>0.00</td>\n",
       "      <td>1.00</td>\n",
       "    </tr>\n",
       "    <tr>\n",
       "      <th>ind_dela_fin_ult1</th>\n",
       "      <td>13647309.0</td>\n",
       "      <td>0.042967</td>\n",
       "      <td>0.202782</td>\n",
       "      <td>0.00</td>\n",
       "      <td>0.00</td>\n",
       "      <td>0.0</td>\n",
       "      <td>0.00</td>\n",
       "      <td>1.00</td>\n",
       "    </tr>\n",
       "    <tr>\n",
       "      <th>ind_ecue_fin_ult1</th>\n",
       "      <td>13647309.0</td>\n",
       "      <td>0.082744</td>\n",
       "      <td>0.275494</td>\n",
       "      <td>0.00</td>\n",
       "      <td>0.00</td>\n",
       "      <td>0.0</td>\n",
       "      <td>0.00</td>\n",
       "      <td>1.00</td>\n",
       "    </tr>\n",
       "    <tr>\n",
       "      <th>ind_fond_fin_ult1</th>\n",
       "      <td>13647309.0</td>\n",
       "      <td>0.018486</td>\n",
       "      <td>0.134701</td>\n",
       "      <td>0.00</td>\n",
       "      <td>0.00</td>\n",
       "      <td>0.0</td>\n",
       "      <td>0.00</td>\n",
       "      <td>1.00</td>\n",
       "    </tr>\n",
       "    <tr>\n",
       "      <th>ind_hip_fin_ult1</th>\n",
       "      <td>13647309.0</td>\n",
       "      <td>0.005887</td>\n",
       "      <td>0.076498</td>\n",
       "      <td>0.00</td>\n",
       "      <td>0.00</td>\n",
       "      <td>0.0</td>\n",
       "      <td>0.00</td>\n",
       "      <td>1.00</td>\n",
       "    </tr>\n",
       "    <tr>\n",
       "      <th>ind_plan_fin_ult1</th>\n",
       "      <td>13647309.0</td>\n",
       "      <td>0.009171</td>\n",
       "      <td>0.095325</td>\n",
       "      <td>0.00</td>\n",
       "      <td>0.00</td>\n",
       "      <td>0.0</td>\n",
       "      <td>0.00</td>\n",
       "      <td>1.00</td>\n",
       "    </tr>\n",
       "    <tr>\n",
       "      <th>ind_pres_fin_ult1</th>\n",
       "      <td>13647309.0</td>\n",
       "      <td>0.002627</td>\n",
       "      <td>0.051191</td>\n",
       "      <td>0.00</td>\n",
       "      <td>0.00</td>\n",
       "      <td>0.0</td>\n",
       "      <td>0.00</td>\n",
       "      <td>1.00</td>\n",
       "    </tr>\n",
       "    <tr>\n",
       "      <th>ind_reca_fin_ult1</th>\n",
       "      <td>13647309.0</td>\n",
       "      <td>0.052536</td>\n",
       "      <td>0.223106</td>\n",
       "      <td>0.00</td>\n",
       "      <td>0.00</td>\n",
       "      <td>0.0</td>\n",
       "      <td>0.00</td>\n",
       "      <td>1.00</td>\n",
       "    </tr>\n",
       "    <tr>\n",
       "      <th>ind_tjcr_fin_ult1</th>\n",
       "      <td>13647309.0</td>\n",
       "      <td>0.044389</td>\n",
       "      <td>0.205957</td>\n",
       "      <td>0.00</td>\n",
       "      <td>0.00</td>\n",
       "      <td>0.0</td>\n",
       "      <td>0.00</td>\n",
       "      <td>1.00</td>\n",
       "    </tr>\n",
       "    <tr>\n",
       "      <th>ind_valo_fin_ult1</th>\n",
       "      <td>13647309.0</td>\n",
       "      <td>0.025608</td>\n",
       "      <td>0.157962</td>\n",
       "      <td>0.00</td>\n",
       "      <td>0.00</td>\n",
       "      <td>0.0</td>\n",
       "      <td>0.00</td>\n",
       "      <td>1.00</td>\n",
       "    </tr>\n",
       "    <tr>\n",
       "      <th>ind_viv_fin_ult1</th>\n",
       "      <td>13647309.0</td>\n",
       "      <td>0.003848</td>\n",
       "      <td>0.061911</td>\n",
       "      <td>0.00</td>\n",
       "      <td>0.00</td>\n",
       "      <td>0.0</td>\n",
       "      <td>0.00</td>\n",
       "      <td>1.00</td>\n",
       "    </tr>\n",
       "    <tr>\n",
       "      <th>ind_nomina_ult1</th>\n",
       "      <td>13631246.0</td>\n",
       "      <td>0.054724</td>\n",
       "      <td>0.227441</td>\n",
       "      <td>0.00</td>\n",
       "      <td>0.00</td>\n",
       "      <td>0.0</td>\n",
       "      <td>0.00</td>\n",
       "      <td>1.00</td>\n",
       "    </tr>\n",
       "    <tr>\n",
       "      <th>ind_nom_pens_ult1</th>\n",
       "      <td>13631246.0</td>\n",
       "      <td>0.059429</td>\n",
       "      <td>0.236425</td>\n",
       "      <td>0.00</td>\n",
       "      <td>0.00</td>\n",
       "      <td>0.0</td>\n",
       "      <td>0.00</td>\n",
       "      <td>1.00</td>\n",
       "    </tr>\n",
       "    <tr>\n",
       "      <th>ind_recibo_ult1</th>\n",
       "      <td>13647309.0</td>\n",
       "      <td>0.127916</td>\n",
       "      <td>0.333996</td>\n",
       "      <td>0.00</td>\n",
       "      <td>0.00</td>\n",
       "      <td>0.0</td>\n",
       "      <td>0.00</td>\n",
       "      <td>1.00</td>\n",
       "    </tr>\n",
       "  </tbody>\n",
       "</table>\n",
       "</div>"
      ],
      "text/plain": [
       "                            count           mean            std       min  \\\n",
       "ncodpers               13647309.0  834904.211501  431565.025784  15889.00   \n",
       "ind_nuevo              13619575.0       0.059562       0.236673      0.00   \n",
       "indrel                 13619575.0       1.178399       4.177469      1.00   \n",
       "tipodom                13619574.0       1.000000       0.000000      1.00   \n",
       "cod_prov               13553718.0      26.571470      12.784017      1.00   \n",
       "ind_actividad_cliente  13619575.0       0.457811       0.498217      0.00   \n",
       "renta                  10852934.0  134254.318238  230620.238822   1202.73   \n",
       "ind_ahor_fin_ult1      13647309.0       0.000102       0.010113      0.00   \n",
       "ind_aval_fin_ult1      13647309.0       0.000023       0.004812      0.00   \n",
       "ind_cco_fin_ult1       13647309.0       0.655484       0.475210      0.00   \n",
       "ind_cder_fin_ult1      13647309.0       0.000394       0.019844      0.00   \n",
       "ind_cno_fin_ult1       13647309.0       0.080867       0.272631      0.00   \n",
       "ind_ctju_fin_ult1      13647309.0       0.009474       0.096873      0.00   \n",
       "ind_ctma_fin_ult1      13647309.0       0.009727       0.098143      0.00   \n",
       "ind_ctop_fin_ult1      13647309.0       0.129008       0.335209      0.00   \n",
       "ind_ctpp_fin_ult1      13647309.0       0.043306       0.203545      0.00   \n",
       "ind_deco_fin_ult1      13647309.0       0.001779       0.042138      0.00   \n",
       "ind_deme_fin_ult1      13647309.0       0.001661       0.040721      0.00   \n",
       "ind_dela_fin_ult1      13647309.0       0.042967       0.202782      0.00   \n",
       "ind_ecue_fin_ult1      13647309.0       0.082744       0.275494      0.00   \n",
       "ind_fond_fin_ult1      13647309.0       0.018486       0.134701      0.00   \n",
       "ind_hip_fin_ult1       13647309.0       0.005887       0.076498      0.00   \n",
       "ind_plan_fin_ult1      13647309.0       0.009171       0.095325      0.00   \n",
       "ind_pres_fin_ult1      13647309.0       0.002627       0.051191      0.00   \n",
       "ind_reca_fin_ult1      13647309.0       0.052536       0.223106      0.00   \n",
       "ind_tjcr_fin_ult1      13647309.0       0.044389       0.205957      0.00   \n",
       "ind_valo_fin_ult1      13647309.0       0.025608       0.157962      0.00   \n",
       "ind_viv_fin_ult1       13647309.0       0.003848       0.061911      0.00   \n",
       "ind_nomina_ult1        13631246.0       0.054724       0.227441      0.00   \n",
       "ind_nom_pens_ult1      13631246.0       0.059429       0.236425      0.00   \n",
       "ind_recibo_ult1        13647309.0       0.127916       0.333996      0.00   \n",
       "\n",
       "                             25%       50%         75%          max  \n",
       "ncodpers               452813.00  931893.0  1199286.00   1553689.00  \n",
       "ind_nuevo                   0.00       0.0        0.00         1.00  \n",
       "indrel                      1.00       1.0        1.00        99.00  \n",
       "tipodom                     1.00       1.0        1.00         1.00  \n",
       "cod_prov                   15.00      28.0       35.00        52.00  \n",
       "ind_actividad_cliente       0.00       0.0        1.00         1.00  \n",
       "renta                   68710.98  101850.0   155955.96  28894395.51  \n",
       "ind_ahor_fin_ult1           0.00       0.0        0.00         1.00  \n",
       "ind_aval_fin_ult1           0.00       0.0        0.00         1.00  \n",
       "ind_cco_fin_ult1            0.00       1.0        1.00         1.00  \n",
       "ind_cder_fin_ult1           0.00       0.0        0.00         1.00  \n",
       "ind_cno_fin_ult1            0.00       0.0        0.00         1.00  \n",
       "ind_ctju_fin_ult1           0.00       0.0        0.00         1.00  \n",
       "ind_ctma_fin_ult1           0.00       0.0        0.00         1.00  \n",
       "ind_ctop_fin_ult1           0.00       0.0        0.00         1.00  \n",
       "ind_ctpp_fin_ult1           0.00       0.0        0.00         1.00  \n",
       "ind_deco_fin_ult1           0.00       0.0        0.00         1.00  \n",
       "ind_deme_fin_ult1           0.00       0.0        0.00         1.00  \n",
       "ind_dela_fin_ult1           0.00       0.0        0.00         1.00  \n",
       "ind_ecue_fin_ult1           0.00       0.0        0.00         1.00  \n",
       "ind_fond_fin_ult1           0.00       0.0        0.00         1.00  \n",
       "ind_hip_fin_ult1            0.00       0.0        0.00         1.00  \n",
       "ind_plan_fin_ult1           0.00       0.0        0.00         1.00  \n",
       "ind_pres_fin_ult1           0.00       0.0        0.00         1.00  \n",
       "ind_reca_fin_ult1           0.00       0.0        0.00         1.00  \n",
       "ind_tjcr_fin_ult1           0.00       0.0        0.00         1.00  \n",
       "ind_valo_fin_ult1           0.00       0.0        0.00         1.00  \n",
       "ind_viv_fin_ult1            0.00       0.0        0.00         1.00  \n",
       "ind_nomina_ult1             0.00       0.0        0.00         1.00  \n",
       "ind_nom_pens_ult1           0.00       0.0        0.00         1.00  \n",
       "ind_recibo_ult1             0.00       0.0        0.00         1.00  "
      ]
     },
     "execution_count": 8,
     "metadata": {},
     "output_type": "execute_result"
    }
   ],
   "source": [
    "csv_train.describe().T"
   ]
  },
  {
   "cell_type": "code",
   "execution_count": 12,
   "metadata": {},
   "outputs": [],
   "source": [
    "nullValues = csv_train.isnull().sum()\n",
    "mlflow.set_tag('Null values on DataSet',nullValues)"
   ]
  },
  {
   "cell_type": "code",
   "execution_count": 7,
   "metadata": {},
   "outputs": [],
   "source": [
    "df_without_nulls = csv_train[csv_train.renta.notnull()]"
   ]
  },
  {
   "cell_type": "code",
   "execution_count": 13,
   "metadata": {},
   "outputs": [
    {
     "data": {
      "text/plain": [
       "'age'"
      ]
     },
     "execution_count": 13,
     "metadata": {},
     "output_type": "execute_result"
    }
   ],
   "source": [
    "column_to_analize = 'age'\n",
    "mlflow.log_param('Column',column_to_analize)\n"
   ]
  },
  {
   "cell_type": "code",
   "execution_count": 14,
   "metadata": {},
   "outputs": [
    {
     "data": {
      "image/png": "[encoded data removed]",
      "text/plain": [
       "<Figure size 432x288 with 1 Axes>"
      ]
     },
     "metadata": {
      "needs_background": "light"
     },
     "output_type": "display_data"
    }
   ],
   "source": [
    "img_name = column_to_analize + '_bar_plot.png'\n",
    "fig = df_without_nulls.groupby(column_to_analize).size().plot(kind='bar').get_figure()\n",
    "fig.savefig(img_name)\n",
    "mlflow.log_artifact(img_name)"
   ]
  },
  {
   "cell_type": "markdown",
   "metadata": {},
   "source": [
    "Stadardization"
   ]
  },
  {
   "cell_type": "code",
   "execution_count": 14,
   "metadata": {},
   "outputs": [],
   "source": [
    "columns_to_drop = ['canal_entrada','fecha_dato','ncodpers','indresi','indext','ind_empleado','pais_residencia','fecha_alta','indrel','ult_fec_cli_1t','indrel_1mes','conyuemp','indfall','tipodom','nomprov','tiprel_1mes']\n",
    "df_clean = pd.DataFrame(df_without_nulls.drop(columns=columns_to_drop))"
   ]
  },
  {
   "cell_type": "code",
   "execution_count": 78,
   "metadata": {},
   "outputs": [
    {
     "data": {
      "text/plain": [
       "['canal_entrada',\n",
       " 'fecha_dato',\n",
       " 'ncodpers',\n",
       " 'indresi',\n",
       " 'indext',\n",
       " 'ind_empleado',\n",
       " 'pais_residencia',\n",
       " 'fecha_alta',\n",
       " 'indrel',\n",
       " 'ult_fec_cli_1t',\n",
       " 'indrel_1mes',\n",
       " 'conyuemp',\n",
       " 'indfall',\n",
       " 'tipodom',\n",
       " 'nomprov',\n",
       " 'tiprel_1mes']"
      ]
     },
     "execution_count": 78,
     "metadata": {},
     "output_type": "execute_result"
    }
   ],
   "source": [
    "mlflow.log_param('Drop Columns',columns_to_drop)"
   ]
  },
  {
   "cell_type": "code",
   "execution_count": 19,
   "metadata": {},
   "outputs": [
    {
     "data": {
      "text/plain": [
       "(10852934, 32)"
      ]
     },
     "execution_count": 19,
     "metadata": {},
     "output_type": "execute_result"
    }
   ],
   "source": [
    "df_clean.shape"
   ]
  },
  {
   "cell_type": "code",
   "execution_count": 20,
   "metadata": {},
   "outputs": [
    {
     "data": {
      "text/html": [
       "<div>\n",
       "<style scoped>\n",
       "    .dataframe tbody tr th:only-of-type {\n",
       "        vertical-align: middle;\n",
       "    }\n",
       "\n",
       "    .dataframe tbody tr th {\n",
       "        vertical-align: top;\n",
       "    }\n",
       "\n",
       "    .dataframe thead th {\n",
       "        text-align: right;\n",
       "    }\n",
       "</style>\n",
       "<table border=\"1\" class=\"dataframe\">\n",
       "  <thead>\n",
       "    <tr style=\"text-align: right;\">\n",
       "      <th></th>\n",
       "      <th>count</th>\n",
       "      <th>unique</th>\n",
       "      <th>top</th>\n",
       "      <th>freq</th>\n",
       "      <th>mean</th>\n",
       "      <th>std</th>\n",
       "      <th>min</th>\n",
       "      <th>25%</th>\n",
       "      <th>50%</th>\n",
       "      <th>75%</th>\n",
       "      <th>max</th>\n",
       "    </tr>\n",
       "  </thead>\n",
       "  <tbody>\n",
       "    <tr>\n",
       "      <th>sexo</th>\n",
       "      <td>10852898</td>\n",
       "      <td>2</td>\n",
       "      <td>V</td>\n",
       "      <td>5943966</td>\n",
       "      <td>NaN</td>\n",
       "      <td>NaN</td>\n",
       "      <td>NaN</td>\n",
       "      <td>NaN</td>\n",
       "      <td>NaN</td>\n",
       "      <td>NaN</td>\n",
       "      <td>NaN</td>\n",
       "    </tr>\n",
       "    <tr>\n",
       "      <th>age</th>\n",
       "      <td>10852934.0</td>\n",
       "      <td>232.0</td>\n",
       "      <td>23.0</td>\n",
       "      <td>422497.0</td>\n",
       "      <td>NaN</td>\n",
       "      <td>NaN</td>\n",
       "      <td>NaN</td>\n",
       "      <td>NaN</td>\n",
       "      <td>NaN</td>\n",
       "      <td>NaN</td>\n",
       "      <td>NaN</td>\n",
       "    </tr>\n",
       "    <tr>\n",
       "      <th>ind_nuevo</th>\n",
       "      <td>10852934.0</td>\n",
       "      <td>NaN</td>\n",
       "      <td>NaN</td>\n",
       "      <td>NaN</td>\n",
       "      <td>0.027092</td>\n",
       "      <td>0.162352</td>\n",
       "      <td>0.0</td>\n",
       "      <td>0.0</td>\n",
       "      <td>0.0</td>\n",
       "      <td>0.0</td>\n",
       "      <td>1.0</td>\n",
       "    </tr>\n",
       "    <tr>\n",
       "      <th>antiguedad</th>\n",
       "      <td>10852934.0</td>\n",
       "      <td>506.0</td>\n",
       "      <td>12.0</td>\n",
       "      <td>106876.0</td>\n",
       "      <td>NaN</td>\n",
       "      <td>NaN</td>\n",
       "      <td>NaN</td>\n",
       "      <td>NaN</td>\n",
       "      <td>NaN</td>\n",
       "      <td>NaN</td>\n",
       "      <td>NaN</td>\n",
       "    </tr>\n",
       "    <tr>\n",
       "      <th>cod_prov</th>\n",
       "      <td>10852726.0</td>\n",
       "      <td>NaN</td>\n",
       "      <td>NaN</td>\n",
       "      <td>NaN</td>\n",
       "      <td>26.480537</td>\n",
       "      <td>12.498091</td>\n",
       "      <td>1.0</td>\n",
       "      <td>15.0</td>\n",
       "      <td>28.0</td>\n",
       "      <td>33.0</td>\n",
       "      <td>52.0</td>\n",
       "    </tr>\n",
       "    <tr>\n",
       "      <th>ind_actividad_cliente</th>\n",
       "      <td>10852934.0</td>\n",
       "      <td>NaN</td>\n",
       "      <td>NaN</td>\n",
       "      <td>NaN</td>\n",
       "      <td>0.469303</td>\n",
       "      <td>0.499057</td>\n",
       "      <td>0.0</td>\n",
       "      <td>0.0</td>\n",
       "      <td>0.0</td>\n",
       "      <td>1.0</td>\n",
       "      <td>1.0</td>\n",
       "    </tr>\n",
       "    <tr>\n",
       "      <th>renta</th>\n",
       "      <td>10852934.0</td>\n",
       "      <td>NaN</td>\n",
       "      <td>NaN</td>\n",
       "      <td>NaN</td>\n",
       "      <td>134254.318238</td>\n",
       "      <td>230620.238822</td>\n",
       "      <td>1202.73</td>\n",
       "      <td>68710.98</td>\n",
       "      <td>101850.0</td>\n",
       "      <td>155955.96</td>\n",
       "      <td>28894395.51</td>\n",
       "    </tr>\n",
       "    <tr>\n",
       "      <th>segmento</th>\n",
       "      <td>10796101</td>\n",
       "      <td>3</td>\n",
       "      <td>02 - PARTICULARES</td>\n",
       "      <td>6522878</td>\n",
       "      <td>NaN</td>\n",
       "      <td>NaN</td>\n",
       "      <td>NaN</td>\n",
       "      <td>NaN</td>\n",
       "      <td>NaN</td>\n",
       "      <td>NaN</td>\n",
       "      <td>NaN</td>\n",
       "    </tr>\n",
       "    <tr>\n",
       "      <th>ind_ahor_fin_ult1</th>\n",
       "      <td>10852934.0</td>\n",
       "      <td>NaN</td>\n",
       "      <td>NaN</td>\n",
       "      <td>NaN</td>\n",
       "      <td>0.000115</td>\n",
       "      <td>0.010727</td>\n",
       "      <td>0.0</td>\n",
       "      <td>0.0</td>\n",
       "      <td>0.0</td>\n",
       "      <td>0.0</td>\n",
       "      <td>1.0</td>\n",
       "    </tr>\n",
       "    <tr>\n",
       "      <th>ind_aval_fin_ult1</th>\n",
       "      <td>10852934.0</td>\n",
       "      <td>NaN</td>\n",
       "      <td>NaN</td>\n",
       "      <td>NaN</td>\n",
       "      <td>0.000027</td>\n",
       "      <td>0.005205</td>\n",
       "      <td>0.0</td>\n",
       "      <td>0.0</td>\n",
       "      <td>0.0</td>\n",
       "      <td>0.0</td>\n",
       "      <td>1.0</td>\n",
       "    </tr>\n",
       "    <tr>\n",
       "      <th>ind_cco_fin_ult1</th>\n",
       "      <td>10852934.0</td>\n",
       "      <td>NaN</td>\n",
       "      <td>NaN</td>\n",
       "      <td>NaN</td>\n",
       "      <td>0.655166</td>\n",
       "      <td>0.475314</td>\n",
       "      <td>0.0</td>\n",
       "      <td>0.0</td>\n",
       "      <td>1.0</td>\n",
       "      <td>1.0</td>\n",
       "      <td>1.0</td>\n",
       "    </tr>\n",
       "    <tr>\n",
       "      <th>ind_cder_fin_ult1</th>\n",
       "      <td>10852934.0</td>\n",
       "      <td>NaN</td>\n",
       "      <td>NaN</td>\n",
       "      <td>NaN</td>\n",
       "      <td>0.000419</td>\n",
       "      <td>0.020458</td>\n",
       "      <td>0.0</td>\n",
       "      <td>0.0</td>\n",
       "      <td>0.0</td>\n",
       "      <td>0.0</td>\n",
       "      <td>1.0</td>\n",
       "    </tr>\n",
       "    <tr>\n",
       "      <th>ind_cno_fin_ult1</th>\n",
       "      <td>10852934.0</td>\n",
       "      <td>NaN</td>\n",
       "      <td>NaN</td>\n",
       "      <td>NaN</td>\n",
       "      <td>0.087814</td>\n",
       "      <td>0.283024</td>\n",
       "      <td>0.0</td>\n",
       "      <td>0.0</td>\n",
       "      <td>0.0</td>\n",
       "      <td>0.0</td>\n",
       "      <td>1.0</td>\n",
       "    </tr>\n",
       "    <tr>\n",
       "      <th>ind_ctju_fin_ult1</th>\n",
       "      <td>10852934.0</td>\n",
       "      <td>NaN</td>\n",
       "      <td>NaN</td>\n",
       "      <td>NaN</td>\n",
       "      <td>0.010279</td>\n",
       "      <td>0.100864</td>\n",
       "      <td>0.0</td>\n",
       "      <td>0.0</td>\n",
       "      <td>0.0</td>\n",
       "      <td>0.0</td>\n",
       "      <td>1.0</td>\n",
       "    </tr>\n",
       "    <tr>\n",
       "      <th>ind_ctma_fin_ult1</th>\n",
       "      <td>10852934.0</td>\n",
       "      <td>NaN</td>\n",
       "      <td>NaN</td>\n",
       "      <td>NaN</td>\n",
       "      <td>0.009228</td>\n",
       "      <td>0.095618</td>\n",
       "      <td>0.0</td>\n",
       "      <td>0.0</td>\n",
       "      <td>0.0</td>\n",
       "      <td>0.0</td>\n",
       "      <td>1.0</td>\n",
       "    </tr>\n",
       "    <tr>\n",
       "      <th>ind_ctop_fin_ult1</th>\n",
       "      <td>10852934.0</td>\n",
       "      <td>NaN</td>\n",
       "      <td>NaN</td>\n",
       "      <td>NaN</td>\n",
       "      <td>0.13772</td>\n",
       "      <td>0.344606</td>\n",
       "      <td>0.0</td>\n",
       "      <td>0.0</td>\n",
       "      <td>0.0</td>\n",
       "      <td>0.0</td>\n",
       "      <td>1.0</td>\n",
       "    </tr>\n",
       "    <tr>\n",
       "      <th>ind_ctpp_fin_ult1</th>\n",
       "      <td>10852934.0</td>\n",
       "      <td>NaN</td>\n",
       "      <td>NaN</td>\n",
       "      <td>NaN</td>\n",
       "      <td>0.046873</td>\n",
       "      <td>0.211367</td>\n",
       "      <td>0.0</td>\n",
       "      <td>0.0</td>\n",
       "      <td>0.0</td>\n",
       "      <td>0.0</td>\n",
       "      <td>1.0</td>\n",
       "    </tr>\n",
       "    <tr>\n",
       "      <th>ind_deco_fin_ult1</th>\n",
       "      <td>10852934.0</td>\n",
       "      <td>NaN</td>\n",
       "      <td>NaN</td>\n",
       "      <td>NaN</td>\n",
       "      <td>0.001699</td>\n",
       "      <td>0.041184</td>\n",
       "      <td>0.0</td>\n",
       "      <td>0.0</td>\n",
       "      <td>0.0</td>\n",
       "      <td>0.0</td>\n",
       "      <td>1.0</td>\n",
       "    </tr>\n",
       "    <tr>\n",
       "      <th>ind_deme_fin_ult1</th>\n",
       "      <td>10852934.0</td>\n",
       "      <td>NaN</td>\n",
       "      <td>NaN</td>\n",
       "      <td>NaN</td>\n",
       "      <td>0.001762</td>\n",
       "      <td>0.041945</td>\n",
       "      <td>0.0</td>\n",
       "      <td>0.0</td>\n",
       "      <td>0.0</td>\n",
       "      <td>0.0</td>\n",
       "      <td>1.0</td>\n",
       "    </tr>\n",
       "    <tr>\n",
       "      <th>ind_dela_fin_ult1</th>\n",
       "      <td>10852934.0</td>\n",
       "      <td>NaN</td>\n",
       "      <td>NaN</td>\n",
       "      <td>NaN</td>\n",
       "      <td>0.046601</td>\n",
       "      <td>0.210782</td>\n",
       "      <td>0.0</td>\n",
       "      <td>0.0</td>\n",
       "      <td>0.0</td>\n",
       "      <td>0.0</td>\n",
       "      <td>1.0</td>\n",
       "    </tr>\n",
       "    <tr>\n",
       "      <th>ind_ecue_fin_ult1</th>\n",
       "      <td>10852934.0</td>\n",
       "      <td>NaN</td>\n",
       "      <td>NaN</td>\n",
       "      <td>NaN</td>\n",
       "      <td>0.089522</td>\n",
       "      <td>0.285495</td>\n",
       "      <td>0.0</td>\n",
       "      <td>0.0</td>\n",
       "      <td>0.0</td>\n",
       "      <td>0.0</td>\n",
       "      <td>1.0</td>\n",
       "    </tr>\n",
       "    <tr>\n",
       "      <th>ind_fond_fin_ult1</th>\n",
       "      <td>10852934.0</td>\n",
       "      <td>NaN</td>\n",
       "      <td>NaN</td>\n",
       "      <td>NaN</td>\n",
       "      <td>0.019872</td>\n",
       "      <td>0.139562</td>\n",
       "      <td>0.0</td>\n",
       "      <td>0.0</td>\n",
       "      <td>0.0</td>\n",
       "      <td>0.0</td>\n",
       "      <td>1.0</td>\n",
       "    </tr>\n",
       "    <tr>\n",
       "      <th>ind_hip_fin_ult1</th>\n",
       "      <td>10852934.0</td>\n",
       "      <td>NaN</td>\n",
       "      <td>NaN</td>\n",
       "      <td>NaN</td>\n",
       "      <td>0.006517</td>\n",
       "      <td>0.080464</td>\n",
       "      <td>0.0</td>\n",
       "      <td>0.0</td>\n",
       "      <td>0.0</td>\n",
       "      <td>0.0</td>\n",
       "      <td>1.0</td>\n",
       "    </tr>\n",
       "    <tr>\n",
       "      <th>ind_plan_fin_ult1</th>\n",
       "      <td>10852934.0</td>\n",
       "      <td>NaN</td>\n",
       "      <td>NaN</td>\n",
       "      <td>NaN</td>\n",
       "      <td>0.010118</td>\n",
       "      <td>0.100078</td>\n",
       "      <td>0.0</td>\n",
       "      <td>0.0</td>\n",
       "      <td>0.0</td>\n",
       "      <td>0.0</td>\n",
       "      <td>1.0</td>\n",
       "    </tr>\n",
       "    <tr>\n",
       "      <th>ind_pres_fin_ult1</th>\n",
       "      <td>10852934.0</td>\n",
       "      <td>NaN</td>\n",
       "      <td>NaN</td>\n",
       "      <td>NaN</td>\n",
       "      <td>0.002624</td>\n",
       "      <td>0.051155</td>\n",
       "      <td>0.0</td>\n",
       "      <td>0.0</td>\n",
       "      <td>0.0</td>\n",
       "      <td>0.0</td>\n",
       "      <td>1.0</td>\n",
       "    </tr>\n",
       "    <tr>\n",
       "      <th>ind_reca_fin_ult1</th>\n",
       "      <td>10852934.0</td>\n",
       "      <td>NaN</td>\n",
       "      <td>NaN</td>\n",
       "      <td>NaN</td>\n",
       "      <td>0.057468</td>\n",
       "      <td>0.232735</td>\n",
       "      <td>0.0</td>\n",
       "      <td>0.0</td>\n",
       "      <td>0.0</td>\n",
       "      <td>0.0</td>\n",
       "      <td>1.0</td>\n",
       "    </tr>\n",
       "    <tr>\n",
       "      <th>ind_tjcr_fin_ult1</th>\n",
       "      <td>10852934.0</td>\n",
       "      <td>NaN</td>\n",
       "      <td>NaN</td>\n",
       "      <td>NaN</td>\n",
       "      <td>0.048535</td>\n",
       "      <td>0.214893</td>\n",
       "      <td>0.0</td>\n",
       "      <td>0.0</td>\n",
       "      <td>0.0</td>\n",
       "      <td>0.0</td>\n",
       "      <td>1.0</td>\n",
       "    </tr>\n",
       "    <tr>\n",
       "      <th>ind_valo_fin_ult1</th>\n",
       "      <td>10852934.0</td>\n",
       "      <td>NaN</td>\n",
       "      <td>NaN</td>\n",
       "      <td>NaN</td>\n",
       "      <td>0.027324</td>\n",
       "      <td>0.163025</td>\n",
       "      <td>0.0</td>\n",
       "      <td>0.0</td>\n",
       "      <td>0.0</td>\n",
       "      <td>0.0</td>\n",
       "      <td>1.0</td>\n",
       "    </tr>\n",
       "    <tr>\n",
       "      <th>ind_viv_fin_ult1</th>\n",
       "      <td>10852934.0</td>\n",
       "      <td>NaN</td>\n",
       "      <td>NaN</td>\n",
       "      <td>NaN</td>\n",
       "      <td>0.004286</td>\n",
       "      <td>0.065331</td>\n",
       "      <td>0.0</td>\n",
       "      <td>0.0</td>\n",
       "      <td>0.0</td>\n",
       "      <td>0.0</td>\n",
       "      <td>1.0</td>\n",
       "    </tr>\n",
       "    <tr>\n",
       "      <th>ind_nomina_ult1</th>\n",
       "      <td>10852757.0</td>\n",
       "      <td>NaN</td>\n",
       "      <td>NaN</td>\n",
       "      <td>NaN</td>\n",
       "      <td>0.059721</td>\n",
       "      <td>0.236969</td>\n",
       "      <td>0.0</td>\n",
       "      <td>0.0</td>\n",
       "      <td>0.0</td>\n",
       "      <td>0.0</td>\n",
       "      <td>1.0</td>\n",
       "    </tr>\n",
       "    <tr>\n",
       "      <th>ind_nom_pens_ult1</th>\n",
       "      <td>10852757.0</td>\n",
       "      <td>NaN</td>\n",
       "      <td>NaN</td>\n",
       "      <td>NaN</td>\n",
       "      <td>0.064892</td>\n",
       "      <td>0.246335</td>\n",
       "      <td>0.0</td>\n",
       "      <td>0.0</td>\n",
       "      <td>0.0</td>\n",
       "      <td>0.0</td>\n",
       "      <td>1.0</td>\n",
       "    </tr>\n",
       "    <tr>\n",
       "      <th>ind_recibo_ult1</th>\n",
       "      <td>10852934.0</td>\n",
       "      <td>NaN</td>\n",
       "      <td>NaN</td>\n",
       "      <td>NaN</td>\n",
       "      <td>0.13751</td>\n",
       "      <td>0.344385</td>\n",
       "      <td>0.0</td>\n",
       "      <td>0.0</td>\n",
       "      <td>0.0</td>\n",
       "      <td>0.0</td>\n",
       "      <td>1.0</td>\n",
       "    </tr>\n",
       "  </tbody>\n",
       "</table>\n",
       "</div>"
      ],
      "text/plain": [
       "                            count unique                top      freq  \\\n",
       "sexo                     10852898      2                  V   5943966   \n",
       "age                    10852934.0  232.0               23.0  422497.0   \n",
       "ind_nuevo              10852934.0    NaN                NaN       NaN   \n",
       "antiguedad             10852934.0  506.0               12.0  106876.0   \n",
       "cod_prov               10852726.0    NaN                NaN       NaN   \n",
       "ind_actividad_cliente  10852934.0    NaN                NaN       NaN   \n",
       "renta                  10852934.0    NaN                NaN       NaN   \n",
       "segmento                 10796101      3  02 - PARTICULARES   6522878   \n",
       "ind_ahor_fin_ult1      10852934.0    NaN                NaN       NaN   \n",
       "ind_aval_fin_ult1      10852934.0    NaN                NaN       NaN   \n",
       "ind_cco_fin_ult1       10852934.0    NaN                NaN       NaN   \n",
       "ind_cder_fin_ult1      10852934.0    NaN                NaN       NaN   \n",
       "ind_cno_fin_ult1       10852934.0    NaN                NaN       NaN   \n",
       "ind_ctju_fin_ult1      10852934.0    NaN                NaN       NaN   \n",
       "ind_ctma_fin_ult1      10852934.0    NaN                NaN       NaN   \n",
       "ind_ctop_fin_ult1      10852934.0    NaN                NaN       NaN   \n",
       "ind_ctpp_fin_ult1      10852934.0    NaN                NaN       NaN   \n",
       "ind_deco_fin_ult1      10852934.0    NaN                NaN       NaN   \n",
       "ind_deme_fin_ult1      10852934.0    NaN                NaN       NaN   \n",
       "ind_dela_fin_ult1      10852934.0    NaN                NaN       NaN   \n",
       "ind_ecue_fin_ult1      10852934.0    NaN                NaN       NaN   \n",
       "ind_fond_fin_ult1      10852934.0    NaN                NaN       NaN   \n",
       "ind_hip_fin_ult1       10852934.0    NaN                NaN       NaN   \n",
       "ind_plan_fin_ult1      10852934.0    NaN                NaN       NaN   \n",
       "ind_pres_fin_ult1      10852934.0    NaN                NaN       NaN   \n",
       "ind_reca_fin_ult1      10852934.0    NaN                NaN       NaN   \n",
       "ind_tjcr_fin_ult1      10852934.0    NaN                NaN       NaN   \n",
       "ind_valo_fin_ult1      10852934.0    NaN                NaN       NaN   \n",
       "ind_viv_fin_ult1       10852934.0    NaN                NaN       NaN   \n",
       "ind_nomina_ult1        10852757.0    NaN                NaN       NaN   \n",
       "ind_nom_pens_ult1      10852757.0    NaN                NaN       NaN   \n",
       "ind_recibo_ult1        10852934.0    NaN                NaN       NaN   \n",
       "\n",
       "                                mean            std      min       25%  \\\n",
       "sexo                             NaN            NaN      NaN       NaN   \n",
       "age                              NaN            NaN      NaN       NaN   \n",
       "ind_nuevo                   0.027092       0.162352      0.0       0.0   \n",
       "antiguedad                       NaN            NaN      NaN       NaN   \n",
       "cod_prov                   26.480537      12.498091      1.0      15.0   \n",
       "ind_actividad_cliente       0.469303       0.499057      0.0       0.0   \n",
       "renta                  134254.318238  230620.238822  1202.73  68710.98   \n",
       "segmento                         NaN            NaN      NaN       NaN   \n",
       "ind_ahor_fin_ult1           0.000115       0.010727      0.0       0.0   \n",
       "ind_aval_fin_ult1           0.000027       0.005205      0.0       0.0   \n",
       "ind_cco_fin_ult1            0.655166       0.475314      0.0       0.0   \n",
       "ind_cder_fin_ult1           0.000419       0.020458      0.0       0.0   \n",
       "ind_cno_fin_ult1            0.087814       0.283024      0.0       0.0   \n",
       "ind_ctju_fin_ult1           0.010279       0.100864      0.0       0.0   \n",
       "ind_ctma_fin_ult1           0.009228       0.095618      0.0       0.0   \n",
       "ind_ctop_fin_ult1            0.13772       0.344606      0.0       0.0   \n",
       "ind_ctpp_fin_ult1           0.046873       0.211367      0.0       0.0   \n",
       "ind_deco_fin_ult1           0.001699       0.041184      0.0       0.0   \n",
       "ind_deme_fin_ult1           0.001762       0.041945      0.0       0.0   \n",
       "ind_dela_fin_ult1           0.046601       0.210782      0.0       0.0   \n",
       "ind_ecue_fin_ult1           0.089522       0.285495      0.0       0.0   \n",
       "ind_fond_fin_ult1           0.019872       0.139562      0.0       0.0   \n",
       "ind_hip_fin_ult1            0.006517       0.080464      0.0       0.0   \n",
       "ind_plan_fin_ult1           0.010118       0.100078      0.0       0.0   \n",
       "ind_pres_fin_ult1           0.002624       0.051155      0.0       0.0   \n",
       "ind_reca_fin_ult1           0.057468       0.232735      0.0       0.0   \n",
       "ind_tjcr_fin_ult1           0.048535       0.214893      0.0       0.0   \n",
       "ind_valo_fin_ult1           0.027324       0.163025      0.0       0.0   \n",
       "ind_viv_fin_ult1            0.004286       0.065331      0.0       0.0   \n",
       "ind_nomina_ult1             0.059721       0.236969      0.0       0.0   \n",
       "ind_nom_pens_ult1           0.064892       0.246335      0.0       0.0   \n",
       "ind_recibo_ult1              0.13751       0.344385      0.0       0.0   \n",
       "\n",
       "                            50%        75%          max  \n",
       "sexo                        NaN        NaN          NaN  \n",
       "age                         NaN        NaN          NaN  \n",
       "ind_nuevo                   0.0        0.0          1.0  \n",
       "antiguedad                  NaN        NaN          NaN  \n",
       "cod_prov                   28.0       33.0         52.0  \n",
       "ind_actividad_cliente       0.0        1.0          1.0  \n",
       "renta                  101850.0  155955.96  28894395.51  \n",
       "segmento                    NaN        NaN          NaN  \n",
       "ind_ahor_fin_ult1           0.0        0.0          1.0  \n",
       "ind_aval_fin_ult1           0.0        0.0          1.0  \n",
       "ind_cco_fin_ult1            1.0        1.0          1.0  \n",
       "ind_cder_fin_ult1           0.0        0.0          1.0  \n",
       "ind_cno_fin_ult1            0.0        0.0          1.0  \n",
       "ind_ctju_fin_ult1           0.0        0.0          1.0  \n",
       "ind_ctma_fin_ult1           0.0        0.0          1.0  \n",
       "ind_ctop_fin_ult1           0.0        0.0          1.0  \n",
       "ind_ctpp_fin_ult1           0.0        0.0          1.0  \n",
       "ind_deco_fin_ult1           0.0        0.0          1.0  \n",
       "ind_deme_fin_ult1           0.0        0.0          1.0  \n",
       "ind_dela_fin_ult1           0.0        0.0          1.0  \n",
       "ind_ecue_fin_ult1           0.0        0.0          1.0  \n",
       "ind_fond_fin_ult1           0.0        0.0          1.0  \n",
       "ind_hip_fin_ult1            0.0        0.0          1.0  \n",
       "ind_plan_fin_ult1           0.0        0.0          1.0  \n",
       "ind_pres_fin_ult1           0.0        0.0          1.0  \n",
       "ind_reca_fin_ult1           0.0        0.0          1.0  \n",
       "ind_tjcr_fin_ult1           0.0        0.0          1.0  \n",
       "ind_valo_fin_ult1           0.0        0.0          1.0  \n",
       "ind_viv_fin_ult1            0.0        0.0          1.0  \n",
       "ind_nomina_ult1             0.0        0.0          1.0  \n",
       "ind_nom_pens_ult1           0.0        0.0          1.0  \n",
       "ind_recibo_ult1             0.0        0.0          1.0  "
      ]
     },
     "execution_count": 20,
     "metadata": {},
     "output_type": "execute_result"
    }
   ],
   "source": [
    "df_clean.describe(include='all').T"
   ]
  },
  {
   "cell_type": "markdown",
   "metadata": {},
   "source": [
    "Change char and string values to binary or number values"
   ]
  },
  {
   "cell_type": "code",
   "execution_count": 15,
   "metadata": {},
   "outputs": [],
   "source": [
    "df_clean['sexo_binario'] = df_clean['sexo'].map({'H': 1, 'V': 0}) \n",
    "df_clean['segmento_enum'] = df_clean['segmento'].map({'01 - TOP': 1, '02 - PARTICULARES': 2, '03 - UNIVERSITARIO':3}) \n"
   ]
  },
  {
   "cell_type": "code",
   "execution_count": 19,
   "metadata": {},
   "outputs": [],
   "source": [
    "#Drop base columns\n",
    "df_clean = df_clean.drop(columns=['sexo','segmento'])"
   ]
  },
  {
   "cell_type": "code",
   "execution_count": 28,
   "metadata": {},
   "outputs": [
    {
     "data": {
      "text/plain": [
       "(10852934, 33)"
      ]
     },
     "execution_count": 28,
     "metadata": {},
     "output_type": "execute_result"
    }
   ],
   "source": [
    "df_clean.shape"
   ]
  },
  {
   "cell_type": "code",
   "execution_count": null,
   "metadata": {},
   "outputs": [],
   "source": [
    "df_clean.to_csv('df_clean.csv')"
   ]
  },
  {
   "cell_type": "code",
   "execution_count": 3,
   "metadata": {},
   "outputs": [],
   "source": [
    "df_clean = pd.read_csv('clean_data_def.csv')"
   ]
  },
  {
   "cell_type": "code",
   "execution_count": 4,
   "metadata": {},
   "outputs": [],
   "source": [
    "scaler = StandardScaler()\n",
    "scaled_features = scaler.fit_transform(df_clean)"
   ]
  },
  {
   "cell_type": "code",
   "execution_count": 5,
   "metadata": {},
   "outputs": [],
   "source": [
    "outputs = ['ind_ahor_fin_ult1', 'ind_aval_fin_ult1', 'ind_cco_fin_ult1',\n",
    "       'ind_cder_fin_ult1', 'ind_cno_fin_ult1', 'ind_ctju_fin_ult1',\n",
    "       'ind_ctma_fin_ult1', 'ind_ctop_fin_ult1', 'ind_ctpp_fin_ult1',\n",
    "       'ind_deco_fin_ult1', 'ind_deme_fin_ult1', 'ind_dela_fin_ult1',\n",
    "       'ind_ecue_fin_ult1', 'ind_fond_fin_ult1', 'ind_hip_fin_ult1',\n",
    "       'ind_plan_fin_ult1', 'ind_pres_fin_ult1', 'ind_reca_fin_ult1',\n",
    "       'ind_tjcr_fin_ult1', 'ind_valo_fin_ult1', 'ind_viv_fin_ult1',\n",
    "       'ind_nomina_ult1', 'ind_nom_pens_ult1', 'ind_recibo_ult1']\n",
    "\n",
    "y = df_clean[outputs]\n",
    "x = df_clean.drop(columns=outputs)"
   ]
  },
  {
   "cell_type": "code",
   "execution_count": 6,
   "metadata": {},
   "outputs": [],
   "source": [
    "X_train, X_test, y_train, y_test = train_test_split(x, y, test_size=0.33, random_state=42)"
   ]
  },
  {
   "cell_type": "code",
   "execution_count": 7,
   "metadata": {},
   "outputs": [],
   "source": [
    "y_train_unidemesional = y_train.apply(lambda x: x.argmax(), axis=1).values\n"
   ]
  },
  {
   "cell_type": "code",
   "execution_count": 8,
   "metadata": {},
   "outputs": [
    {
     "data": {
      "text/plain": [
       "array([ 2, 15,  2, ...,  2,  2,  0], dtype=int64)"
      ]
     },
     "execution_count": 8,
     "metadata": {},
     "output_type": "execute_result"
    }
   ],
   "source": [
    "y_train_unidemesional"
   ]
  },
  {
   "cell_type": "code",
   "execution_count": 9,
   "metadata": {},
   "outputs": [
    {
     "name": "stdout",
     "output_type": "stream",
     "text": [
      "(7271465, 9)\n",
      "(7271465, 24)\n",
      "7271465\n"
     ]
    }
   ],
   "source": [
    "print(X_train.shape)\n",
    "print(y_train.shape)\n",
    "print(y_train_unidemesional.size)"
   ]
  },
  {
   "cell_type": "code",
   "execution_count": 10,
   "metadata": {},
   "outputs": [],
   "source": [
    "clf = HistGradientBoostingClassifier().fit(X_train, y_train_unidemesional)\n"
   ]
  },
  {
   "cell_type": "code",
   "execution_count": 11,
   "metadata": {},
   "outputs": [
    {
     "data": {
      "text/plain": [
       "0.728867154005417"
      ]
     },
     "execution_count": 11,
     "metadata": {},
     "output_type": "execute_result"
    }
   ],
   "source": [
    "clf.score(X_train, y_train_unidemesional)\n"
   ]
  },
  {
   "cell_type": "code",
   "execution_count": 14,
   "metadata": {},
   "outputs": [
    {
     "data": {
      "text/plain": [
       "-12.194506665068772"
      ]
     },
     "execution_count": 14,
     "metadata": {},
     "output_type": "execute_result"
    }
   ],
   "source": []
  },
  {
   "cell_type": "code",
   "execution_count": 79,
   "metadata": {},
   "outputs": [
    {
     "data": {
      "text/plain": [
       "0.7242338373353925"
      ]
     },
     "execution_count": 79,
     "metadata": {},
     "output_type": "execute_result"
    }
   ],
   "source": [
    "mlflow.log_param('Model','Hist Gradient Boosting Classifier')\n",
    "mlflow.log_param('Score',clf.score(X_train, y_train_unidemesional))\n"
   ]
  },
  {
   "cell_type": "code",
   "execution_count": null,
   "metadata": {},
   "outputs": [],
   "source": []
  },
  {
   "cell_type": "markdown",
   "metadata": {},
   "source": [
    "Confusion Matrix"
   ]
  },
  {
   "cell_type": "code",
   "execution_count": 59,
   "metadata": {},
   "outputs": [],
   "source": [
    "from sklearn.metrics import confusion_matrix\n",
    "\n",
    "y_pred = clf.predict(X_test)\n"
   ]
  },
  {
   "cell_type": "code",
   "execution_count": 61,
   "metadata": {},
   "outputs": [
    {
     "data": {
      "text/plain": [
       "array([2, 2, 2, ..., 2, 2, 2], dtype=int64)"
      ]
     },
     "execution_count": 61,
     "metadata": {},
     "output_type": "execute_result"
    }
   ],
   "source": [
    "y_pred"
   ]
  },
  {
   "cell_type": "code",
   "execution_count": 70,
   "metadata": {},
   "outputs": [],
   "source": [
    "y_test_unidemesional = y_test.apply(lambda x: x.argmax(), axis=1).values\n"
   ]
  },
  {
   "cell_type": "code",
   "execution_count": 76,
   "metadata": {},
   "outputs": [
    {
     "data": {
      "image/png": "[encoded data removed]",
      "text/plain": [
       "<Figure size 432x288 with 2 Axes>"
      ]
     },
     "metadata": {},
     "output_type": "display_data"
    },
    {
     "data": {
      "text/plain": [
       "<Figure size 720x720 with 0 Axes>"
      ]
     },
     "metadata": {},
     "output_type": "display_data"
    }
   ],
   "source": [
    "import seaborn as sn\n",
    "import matplotlib.pyplot as plt\n",
    "from sklearn import metrics\n",
    "\n",
    "\n",
    "\n",
    "matrix = confusion_matrix(y_test_unidemesional, y_pred)\n",
    "\n",
    "cm_display = metrics.ConfusionMatrixDisplay(confusion_matrix = matrix, display_labels = y_test.columns)\n",
    "\n",
    "cm_display.plot()\n",
    "plt.figure(figsize=(10, 10))\n",
    "plt.show()\n",
    "\n",
    "\n"
   ]
  },
  {
   "cell_type": "code",
   "execution_count": 80,
   "metadata": {},
   "outputs": [],
   "source": [
    "mlflow.log_artifact('conf_matrix_entire_dataset.png')\n"
   ]
  },
  {
   "cell_type": "code",
   "execution_count": 81,
   "metadata": {},
   "outputs": [],
   "source": [
    "mlflow.set_tag('Comment','Se eliminaron los valores nulos de rentas, y se realizaron tratamiento con las variables de tipo char y string')"
   ]
  },
  {
   "cell_type": "code",
   "execution_count": 22,
   "metadata": {},
   "outputs": [
    {
     "data": {
      "text/plain": [
       "(10852934, 32)"
      ]
     },
     "execution_count": 22,
     "metadata": {},
     "output_type": "execute_result"
    }
   ],
   "source": [
    "#df_clean.to_csv('clean_data_def.csv')"
   ]
  },
  {
   "cell_type": "code",
   "execution_count": 20,
   "metadata": {},
   "outputs": [],
   "source": [
    "csv_clean = pd.read_csv('clean_data_def.csv')"
   ]
  },
  {
   "cell_type": "code",
   "execution_count": 24,
   "metadata": {},
   "outputs": [
    {
     "data": {
      "text/html": [
       "<div>\n",
       "<style scoped>\n",
       "    .dataframe tbody tr th:only-of-type {\n",
       "        vertical-align: middle;\n",
       "    }\n",
       "\n",
       "    .dataframe tbody tr th {\n",
       "        vertical-align: top;\n",
       "    }\n",
       "\n",
       "    .dataframe thead th {\n",
       "        text-align: right;\n",
       "    }\n",
       "</style>\n",
       "<table border=\"1\" class=\"dataframe\">\n",
       "  <thead>\n",
       "    <tr style=\"text-align: right;\">\n",
       "      <th></th>\n",
       "      <th>count</th>\n",
       "      <th>mean</th>\n",
       "      <th>std</th>\n",
       "      <th>min</th>\n",
       "      <th>25%</th>\n",
       "      <th>50%</th>\n",
       "      <th>75%</th>\n",
       "      <th>max</th>\n",
       "    </tr>\n",
       "  </thead>\n",
       "  <tbody>\n",
       "    <tr>\n",
       "      <th>Unnamed: 0</th>\n",
       "      <td>10852934.0</td>\n",
       "      <td>6.691840e+06</td>\n",
       "      <td>3.931321e+06</td>\n",
       "      <td>0.00</td>\n",
       "      <td>3292875.25</td>\n",
       "      <td>6578581.5</td>\n",
       "      <td>10063634.50</td>\n",
       "      <td>13647307.00</td>\n",
       "    </tr>\n",
       "    <tr>\n",
       "      <th>age</th>\n",
       "      <td>10852934.0</td>\n",
       "      <td>4.079660e+01</td>\n",
       "      <td>1.723656e+01</td>\n",
       "      <td>2.00</td>\n",
       "      <td>25.00</td>\n",
       "      <td>40.0</td>\n",
       "      <td>51.00</td>\n",
       "      <td>127.00</td>\n",
       "    </tr>\n",
       "    <tr>\n",
       "      <th>ind_nuevo</th>\n",
       "      <td>10852934.0</td>\n",
       "      <td>2.709203e-02</td>\n",
       "      <td>1.623516e-01</td>\n",
       "      <td>0.00</td>\n",
       "      <td>0.00</td>\n",
       "      <td>0.0</td>\n",
       "      <td>0.00</td>\n",
       "      <td>1.00</td>\n",
       "    </tr>\n",
       "    <tr>\n",
       "      <th>antiguedad</th>\n",
       "      <td>10852934.0</td>\n",
       "      <td>8.035941e+01</td>\n",
       "      <td>1.771351e+03</td>\n",
       "      <td>-999999.00</td>\n",
       "      <td>26.00</td>\n",
       "      <td>54.0</td>\n",
       "      <td>140.00</td>\n",
       "      <td>256.00</td>\n",
       "    </tr>\n",
       "    <tr>\n",
       "      <th>cod_prov</th>\n",
       "      <td>10852726.0</td>\n",
       "      <td>2.648054e+01</td>\n",
       "      <td>1.249809e+01</td>\n",
       "      <td>1.00</td>\n",
       "      <td>15.00</td>\n",
       "      <td>28.0</td>\n",
       "      <td>33.00</td>\n",
       "      <td>52.00</td>\n",
       "    </tr>\n",
       "    <tr>\n",
       "      <th>ind_actividad_cliente</th>\n",
       "      <td>10852934.0</td>\n",
       "      <td>4.693031e-01</td>\n",
       "      <td>4.990568e-01</td>\n",
       "      <td>0.00</td>\n",
       "      <td>0.00</td>\n",
       "      <td>0.0</td>\n",
       "      <td>1.00</td>\n",
       "      <td>1.00</td>\n",
       "    </tr>\n",
       "    <tr>\n",
       "      <th>renta</th>\n",
       "      <td>10852934.0</td>\n",
       "      <td>1.342543e+05</td>\n",
       "      <td>2.306202e+05</td>\n",
       "      <td>1202.73</td>\n",
       "      <td>68710.98</td>\n",
       "      <td>101850.0</td>\n",
       "      <td>155955.96</td>\n",
       "      <td>28894395.51</td>\n",
       "    </tr>\n",
       "    <tr>\n",
       "      <th>ind_ahor_fin_ult1</th>\n",
       "      <td>10852934.0</td>\n",
       "      <td>1.150841e-04</td>\n",
       "      <td>1.072711e-02</td>\n",
       "      <td>0.00</td>\n",
       "      <td>0.00</td>\n",
       "      <td>0.0</td>\n",
       "      <td>0.00</td>\n",
       "      <td>1.00</td>\n",
       "    </tr>\n",
       "    <tr>\n",
       "      <th>ind_aval_fin_ult1</th>\n",
       "      <td>10852934.0</td>\n",
       "      <td>2.708945e-05</td>\n",
       "      <td>5.204682e-03</td>\n",
       "      <td>0.00</td>\n",
       "      <td>0.00</td>\n",
       "      <td>0.0</td>\n",
       "      <td>0.00</td>\n",
       "      <td>1.00</td>\n",
       "    </tr>\n",
       "    <tr>\n",
       "      <th>ind_cco_fin_ult1</th>\n",
       "      <td>10852934.0</td>\n",
       "      <td>6.551657e-01</td>\n",
       "      <td>4.753142e-01</td>\n",
       "      <td>0.00</td>\n",
       "      <td>0.00</td>\n",
       "      <td>1.0</td>\n",
       "      <td>1.00</td>\n",
       "      <td>1.00</td>\n",
       "    </tr>\n",
       "    <tr>\n",
       "      <th>ind_cder_fin_ult1</th>\n",
       "      <td>10852934.0</td>\n",
       "      <td>4.186886e-04</td>\n",
       "      <td>2.045760e-02</td>\n",
       "      <td>0.00</td>\n",
       "      <td>0.00</td>\n",
       "      <td>0.0</td>\n",
       "      <td>0.00</td>\n",
       "      <td>1.00</td>\n",
       "    </tr>\n",
       "    <tr>\n",
       "      <th>ind_cno_fin_ult1</th>\n",
       "      <td>10852934.0</td>\n",
       "      <td>8.781367e-02</td>\n",
       "      <td>2.830237e-01</td>\n",
       "      <td>0.00</td>\n",
       "      <td>0.00</td>\n",
       "      <td>0.0</td>\n",
       "      <td>0.00</td>\n",
       "      <td>1.00</td>\n",
       "    </tr>\n",
       "    <tr>\n",
       "      <th>ind_ctju_fin_ult1</th>\n",
       "      <td>10852934.0</td>\n",
       "      <td>1.027925e-02</td>\n",
       "      <td>1.008642e-01</td>\n",
       "      <td>0.00</td>\n",
       "      <td>0.00</td>\n",
       "      <td>0.0</td>\n",
       "      <td>0.00</td>\n",
       "      <td>1.00</td>\n",
       "    </tr>\n",
       "    <tr>\n",
       "      <th>ind_ctma_fin_ult1</th>\n",
       "      <td>10852934.0</td>\n",
       "      <td>9.228012e-03</td>\n",
       "      <td>9.561828e-02</td>\n",
       "      <td>0.00</td>\n",
       "      <td>0.00</td>\n",
       "      <td>0.0</td>\n",
       "      <td>0.00</td>\n",
       "      <td>1.00</td>\n",
       "    </tr>\n",
       "    <tr>\n",
       "      <th>ind_ctop_fin_ult1</th>\n",
       "      <td>10852934.0</td>\n",
       "      <td>1.377199e-01</td>\n",
       "      <td>3.446058e-01</td>\n",
       "      <td>0.00</td>\n",
       "      <td>0.00</td>\n",
       "      <td>0.0</td>\n",
       "      <td>0.00</td>\n",
       "      <td>1.00</td>\n",
       "    </tr>\n",
       "    <tr>\n",
       "      <th>ind_ctpp_fin_ult1</th>\n",
       "      <td>10852934.0</td>\n",
       "      <td>4.687332e-02</td>\n",
       "      <td>2.113675e-01</td>\n",
       "      <td>0.00</td>\n",
       "      <td>0.00</td>\n",
       "      <td>0.0</td>\n",
       "      <td>0.00</td>\n",
       "      <td>1.00</td>\n",
       "    </tr>\n",
       "    <tr>\n",
       "      <th>ind_deco_fin_ult1</th>\n",
       "      <td>10852934.0</td>\n",
       "      <td>1.698988e-03</td>\n",
       "      <td>4.118375e-02</td>\n",
       "      <td>0.00</td>\n",
       "      <td>0.00</td>\n",
       "      <td>0.0</td>\n",
       "      <td>0.00</td>\n",
       "      <td>1.00</td>\n",
       "    </tr>\n",
       "    <tr>\n",
       "      <th>ind_deme_fin_ult1</th>\n",
       "      <td>10852934.0</td>\n",
       "      <td>1.762473e-03</td>\n",
       "      <td>4.194480e-02</td>\n",
       "      <td>0.00</td>\n",
       "      <td>0.00</td>\n",
       "      <td>0.0</td>\n",
       "      <td>0.00</td>\n",
       "      <td>1.00</td>\n",
       "    </tr>\n",
       "    <tr>\n",
       "      <th>ind_dela_fin_ult1</th>\n",
       "      <td>10852934.0</td>\n",
       "      <td>4.660085e-02</td>\n",
       "      <td>2.107824e-01</td>\n",
       "      <td>0.00</td>\n",
       "      <td>0.00</td>\n",
       "      <td>0.0</td>\n",
       "      <td>0.00</td>\n",
       "      <td>1.00</td>\n",
       "    </tr>\n",
       "    <tr>\n",
       "      <th>ind_ecue_fin_ult1</th>\n",
       "      <td>10852934.0</td>\n",
       "      <td>8.952151e-02</td>\n",
       "      <td>2.854950e-01</td>\n",
       "      <td>0.00</td>\n",
       "      <td>0.00</td>\n",
       "      <td>0.0</td>\n",
       "      <td>0.00</td>\n",
       "      <td>1.00</td>\n",
       "    </tr>\n",
       "    <tr>\n",
       "      <th>ind_fond_fin_ult1</th>\n",
       "      <td>10852934.0</td>\n",
       "      <td>1.987232e-02</td>\n",
       "      <td>1.395615e-01</td>\n",
       "      <td>0.00</td>\n",
       "      <td>0.00</td>\n",
       "      <td>0.0</td>\n",
       "      <td>0.00</td>\n",
       "      <td>1.00</td>\n",
       "    </tr>\n",
       "    <tr>\n",
       "      <th>ind_hip_fin_ult1</th>\n",
       "      <td>10852934.0</td>\n",
       "      <td>6.516947e-03</td>\n",
       "      <td>8.046414e-02</td>\n",
       "      <td>0.00</td>\n",
       "      <td>0.00</td>\n",
       "      <td>0.0</td>\n",
       "      <td>0.00</td>\n",
       "      <td>1.00</td>\n",
       "    </tr>\n",
       "    <tr>\n",
       "      <th>ind_plan_fin_ult1</th>\n",
       "      <td>10852934.0</td>\n",
       "      <td>1.011800e-02</td>\n",
       "      <td>1.000781e-01</td>\n",
       "      <td>0.00</td>\n",
       "      <td>0.00</td>\n",
       "      <td>0.0</td>\n",
       "      <td>0.00</td>\n",
       "      <td>1.00</td>\n",
       "    </tr>\n",
       "    <tr>\n",
       "      <th>ind_pres_fin_ult1</th>\n",
       "      <td>10852934.0</td>\n",
       "      <td>2.623714e-03</td>\n",
       "      <td>5.115497e-02</td>\n",
       "      <td>0.00</td>\n",
       "      <td>0.00</td>\n",
       "      <td>0.0</td>\n",
       "      <td>0.00</td>\n",
       "      <td>1.00</td>\n",
       "    </tr>\n",
       "    <tr>\n",
       "      <th>ind_reca_fin_ult1</th>\n",
       "      <td>10852934.0</td>\n",
       "      <td>5.746805e-02</td>\n",
       "      <td>2.327348e-01</td>\n",
       "      <td>0.00</td>\n",
       "      <td>0.00</td>\n",
       "      <td>0.0</td>\n",
       "      <td>0.00</td>\n",
       "      <td>1.00</td>\n",
       "    </tr>\n",
       "    <tr>\n",
       "      <th>ind_tjcr_fin_ult1</th>\n",
       "      <td>10852934.0</td>\n",
       "      <td>4.853480e-02</td>\n",
       "      <td>2.148934e-01</td>\n",
       "      <td>0.00</td>\n",
       "      <td>0.00</td>\n",
       "      <td>0.0</td>\n",
       "      <td>0.00</td>\n",
       "      <td>1.00</td>\n",
       "    </tr>\n",
       "    <tr>\n",
       "      <th>ind_valo_fin_ult1</th>\n",
       "      <td>10852934.0</td>\n",
       "      <td>2.732358e-02</td>\n",
       "      <td>1.630245e-01</td>\n",
       "      <td>0.00</td>\n",
       "      <td>0.00</td>\n",
       "      <td>0.0</td>\n",
       "      <td>0.00</td>\n",
       "      <td>1.00</td>\n",
       "    </tr>\n",
       "    <tr>\n",
       "      <th>ind_viv_fin_ult1</th>\n",
       "      <td>10852934.0</td>\n",
       "      <td>4.286491e-03</td>\n",
       "      <td>6.533083e-02</td>\n",
       "      <td>0.00</td>\n",
       "      <td>0.00</td>\n",
       "      <td>0.0</td>\n",
       "      <td>0.00</td>\n",
       "      <td>1.00</td>\n",
       "    </tr>\n",
       "    <tr>\n",
       "      <th>ind_nomina_ult1</th>\n",
       "      <td>10852757.0</td>\n",
       "      <td>5.972095e-02</td>\n",
       "      <td>2.369691e-01</td>\n",
       "      <td>0.00</td>\n",
       "      <td>0.00</td>\n",
       "      <td>0.0</td>\n",
       "      <td>0.00</td>\n",
       "      <td>1.00</td>\n",
       "    </tr>\n",
       "    <tr>\n",
       "      <th>ind_nom_pens_ult1</th>\n",
       "      <td>10852757.0</td>\n",
       "      <td>6.489199e-02</td>\n",
       "      <td>2.463352e-01</td>\n",
       "      <td>0.00</td>\n",
       "      <td>0.00</td>\n",
       "      <td>0.0</td>\n",
       "      <td>0.00</td>\n",
       "      <td>1.00</td>\n",
       "    </tr>\n",
       "    <tr>\n",
       "      <th>ind_recibo_ult1</th>\n",
       "      <td>10852934.0</td>\n",
       "      <td>1.375100e-01</td>\n",
       "      <td>3.443850e-01</td>\n",
       "      <td>0.00</td>\n",
       "      <td>0.00</td>\n",
       "      <td>0.0</td>\n",
       "      <td>0.00</td>\n",
       "      <td>1.00</td>\n",
       "    </tr>\n",
       "    <tr>\n",
       "      <th>sexo_binario</th>\n",
       "      <td>10852898.0</td>\n",
       "      <td>4.523153e-01</td>\n",
       "      <td>4.977210e-01</td>\n",
       "      <td>0.00</td>\n",
       "      <td>0.00</td>\n",
       "      <td>0.0</td>\n",
       "      <td>1.00</td>\n",
       "      <td>1.00</td>\n",
       "    </tr>\n",
       "    <tr>\n",
       "      <th>segmento_enum</th>\n",
       "      <td>10796101.0</td>\n",
       "      <td>2.306932e+00</td>\n",
       "      <td>5.491851e-01</td>\n",
       "      <td>1.00</td>\n",
       "      <td>2.00</td>\n",
       "      <td>2.0</td>\n",
       "      <td>3.00</td>\n",
       "      <td>3.00</td>\n",
       "    </tr>\n",
       "  </tbody>\n",
       "</table>\n",
       "</div>"
      ],
      "text/plain": [
       "                            count          mean           std        min  \\\n",
       "Unnamed: 0             10852934.0  6.691840e+06  3.931321e+06       0.00   \n",
       "age                    10852934.0  4.079660e+01  1.723656e+01       2.00   \n",
       "ind_nuevo              10852934.0  2.709203e-02  1.623516e-01       0.00   \n",
       "antiguedad             10852934.0  8.035941e+01  1.771351e+03 -999999.00   \n",
       "cod_prov               10852726.0  2.648054e+01  1.249809e+01       1.00   \n",
       "ind_actividad_cliente  10852934.0  4.693031e-01  4.990568e-01       0.00   \n",
       "renta                  10852934.0  1.342543e+05  2.306202e+05    1202.73   \n",
       "ind_ahor_fin_ult1      10852934.0  1.150841e-04  1.072711e-02       0.00   \n",
       "ind_aval_fin_ult1      10852934.0  2.708945e-05  5.204682e-03       0.00   \n",
       "ind_cco_fin_ult1       10852934.0  6.551657e-01  4.753142e-01       0.00   \n",
       "ind_cder_fin_ult1      10852934.0  4.186886e-04  2.045760e-02       0.00   \n",
       "ind_cno_fin_ult1       10852934.0  8.781367e-02  2.830237e-01       0.00   \n",
       "ind_ctju_fin_ult1      10852934.0  1.027925e-02  1.008642e-01       0.00   \n",
       "ind_ctma_fin_ult1      10852934.0  9.228012e-03  9.561828e-02       0.00   \n",
       "ind_ctop_fin_ult1      10852934.0  1.377199e-01  3.446058e-01       0.00   \n",
       "ind_ctpp_fin_ult1      10852934.0  4.687332e-02  2.113675e-01       0.00   \n",
       "ind_deco_fin_ult1      10852934.0  1.698988e-03  4.118375e-02       0.00   \n",
       "ind_deme_fin_ult1      10852934.0  1.762473e-03  4.194480e-02       0.00   \n",
       "ind_dela_fin_ult1      10852934.0  4.660085e-02  2.107824e-01       0.00   \n",
       "ind_ecue_fin_ult1      10852934.0  8.952151e-02  2.854950e-01       0.00   \n",
       "ind_fond_fin_ult1      10852934.0  1.987232e-02  1.395615e-01       0.00   \n",
       "ind_hip_fin_ult1       10852934.0  6.516947e-03  8.046414e-02       0.00   \n",
       "ind_plan_fin_ult1      10852934.0  1.011800e-02  1.000781e-01       0.00   \n",
       "ind_pres_fin_ult1      10852934.0  2.623714e-03  5.115497e-02       0.00   \n",
       "ind_reca_fin_ult1      10852934.0  5.746805e-02  2.327348e-01       0.00   \n",
       "ind_tjcr_fin_ult1      10852934.0  4.853480e-02  2.148934e-01       0.00   \n",
       "ind_valo_fin_ult1      10852934.0  2.732358e-02  1.630245e-01       0.00   \n",
       "ind_viv_fin_ult1       10852934.0  4.286491e-03  6.533083e-02       0.00   \n",
       "ind_nomina_ult1        10852757.0  5.972095e-02  2.369691e-01       0.00   \n",
       "ind_nom_pens_ult1      10852757.0  6.489199e-02  2.463352e-01       0.00   \n",
       "ind_recibo_ult1        10852934.0  1.375100e-01  3.443850e-01       0.00   \n",
       "sexo_binario           10852898.0  4.523153e-01  4.977210e-01       0.00   \n",
       "segmento_enum          10796101.0  2.306932e+00  5.491851e-01       1.00   \n",
       "\n",
       "                              25%        50%          75%          max  \n",
       "Unnamed: 0             3292875.25  6578581.5  10063634.50  13647307.00  \n",
       "age                         25.00       40.0        51.00       127.00  \n",
       "ind_nuevo                    0.00        0.0         0.00         1.00  \n",
       "antiguedad                  26.00       54.0       140.00       256.00  \n",
       "cod_prov                    15.00       28.0        33.00        52.00  \n",
       "ind_actividad_cliente        0.00        0.0         1.00         1.00  \n",
       "renta                    68710.98   101850.0    155955.96  28894395.51  \n",
       "ind_ahor_fin_ult1            0.00        0.0         0.00         1.00  \n",
       "ind_aval_fin_ult1            0.00        0.0         0.00         1.00  \n",
       "ind_cco_fin_ult1             0.00        1.0         1.00         1.00  \n",
       "ind_cder_fin_ult1            0.00        0.0         0.00         1.00  \n",
       "ind_cno_fin_ult1             0.00        0.0         0.00         1.00  \n",
       "ind_ctju_fin_ult1            0.00        0.0         0.00         1.00  \n",
       "ind_ctma_fin_ult1            0.00        0.0         0.00         1.00  \n",
       "ind_ctop_fin_ult1            0.00        0.0         0.00         1.00  \n",
       "ind_ctpp_fin_ult1            0.00        0.0         0.00         1.00  \n",
       "ind_deco_fin_ult1            0.00        0.0         0.00         1.00  \n",
       "ind_deme_fin_ult1            0.00        0.0         0.00         1.00  \n",
       "ind_dela_fin_ult1            0.00        0.0         0.00         1.00  \n",
       "ind_ecue_fin_ult1            0.00        0.0         0.00         1.00  \n",
       "ind_fond_fin_ult1            0.00        0.0         0.00         1.00  \n",
       "ind_hip_fin_ult1             0.00        0.0         0.00         1.00  \n",
       "ind_plan_fin_ult1            0.00        0.0         0.00         1.00  \n",
       "ind_pres_fin_ult1            0.00        0.0         0.00         1.00  \n",
       "ind_reca_fin_ult1            0.00        0.0         0.00         1.00  \n",
       "ind_tjcr_fin_ult1            0.00        0.0         0.00         1.00  \n",
       "ind_valo_fin_ult1            0.00        0.0         0.00         1.00  \n",
       "ind_viv_fin_ult1             0.00        0.0         0.00         1.00  \n",
       "ind_nomina_ult1              0.00        0.0         0.00         1.00  \n",
       "ind_nom_pens_ult1            0.00        0.0         0.00         1.00  \n",
       "ind_recibo_ult1              0.00        0.0         0.00         1.00  \n",
       "sexo_binario                 0.00        0.0         1.00         1.00  \n",
       "segmento_enum                2.00        2.0         3.00         3.00  "
      ]
     },
     "execution_count": 24,
     "metadata": {},
     "output_type": "execute_result"
    }
   ],
   "source": [
    "csv_clean.describe().T"
   ]
  },
  {
   "cell_type": "code",
   "execution_count": 31,
   "metadata": {},
   "outputs": [
    {
     "data": {
      "text/plain": [
       "count    1.085293e+07\n",
       "mean     4.079660e+01\n",
       "std      1.723656e+01\n",
       "min      2.000000e+00\n",
       "25%      2.500000e+01\n",
       "50%      4.000000e+01\n",
       "75%      5.100000e+01\n",
       "max      1.270000e+02\n",
       "Name: age, dtype: float64"
      ]
     },
     "execution_count": 31,
     "metadata": {},
     "output_type": "execute_result"
    }
   ],
   "source": [
    "csv_clean['age'].mean()\n",
    "csv_clean['age'].describe()"
   ]
  },
  {
   "cell_type": "code",
   "execution_count": 40,
   "metadata": {},
   "outputs": [
    {
     "data": {
      "image/png": "[encoded data removed]",
      "text/plain": [
       "<Figure size 432x288 with 1 Axes>"
      ]
     },
     "metadata": {
      "needs_background": "light"
     },
     "output_type": "display_data"
    }
   ],
   "source": [
    "column_to_analize = 'age'\n",
    "img_name = column_to_analize + 'or_box_plot.png'\n",
    "fig = csv_clean.groupby(column_to_analize).size().plot(kind='bar').get_figure()\n",
    "fig.savefig(img_name)\n",
    "mlflow.log_artifact(img_name)"
   ]
  },
  {
   "cell_type": "code",
   "execution_count": 21,
   "metadata": {},
   "outputs": [],
   "source": [
    "df_age_trunc = csv_clean[csv_clean['age'] < 100]"
   ]
  },
  {
   "cell_type": "code",
   "execution_count": 43,
   "metadata": {},
   "outputs": [
    {
     "data": {
      "image/png": "[encoded data removed]",
      "text/plain": [
       "<Figure size 432x288 with 1 Axes>"
      ]
     },
     "metadata": {
      "needs_background": "light"
     },
     "output_type": "display_data"
    }
   ],
   "source": [
    "column_to_analize = 'age'\n",
    "img_name = column_to_analize + 'trunc_box_plot.png'\n",
    "fig = df_age_trunc.groupby(column_to_analize).size().plot(kind='bar').get_figure()\n",
    "fig.savefig(img_name)\n",
    "mlflow.log_artifact(img_name)"
   ]
  },
  {
   "cell_type": "code",
   "execution_count": 22,
   "metadata": {},
   "outputs": [],
   "source": [
    "scaler = StandardScaler()\n",
    "scaled_features = scaler.fit_transform(df_age_trunc)"
   ]
  },
  {
   "cell_type": "code",
   "execution_count": 45,
   "metadata": {},
   "outputs": [],
   "source": [
    "outputs = ['ind_ahor_fin_ult1', 'ind_aval_fin_ult1', 'ind_cco_fin_ult1',\n",
    "       'ind_cder_fin_ult1', 'ind_cno_fin_ult1', 'ind_ctju_fin_ult1',\n",
    "       'ind_ctma_fin_ult1', 'ind_ctop_fin_ult1', 'ind_ctpp_fin_ult1',\n",
    "       'ind_deco_fin_ult1', 'ind_deme_fin_ult1', 'ind_dela_fin_ult1',\n",
    "       'ind_ecue_fin_ult1', 'ind_fond_fin_ult1', 'ind_hip_fin_ult1',\n",
    "       'ind_plan_fin_ult1', 'ind_pres_fin_ult1', 'ind_reca_fin_ult1',\n",
    "       'ind_tjcr_fin_ult1', 'ind_valo_fin_ult1', 'ind_viv_fin_ult1',\n",
    "       'ind_nomina_ult1', 'ind_nom_pens_ult1', 'ind_recibo_ult1']\n",
    "\n",
    "y = df_age_trunc[outputs]\n",
    "x = df_age_trunc.drop(columns=outputs)"
   ]
  },
  {
   "cell_type": "code",
   "execution_count": 46,
   "metadata": {},
   "outputs": [],
   "source": [
    "y_unid = y.apply(lambda x: x.argmax(), axis=1).values"
   ]
  },
  {
   "cell_type": "code",
   "execution_count": 47,
   "metadata": {},
   "outputs": [],
   "source": [
    "X_train, X_test, y_train, y_test = train_test_split(x, y_unid, test_size=0.33, random_state=42)"
   ]
  },
  {
   "cell_type": "code",
   "execution_count": 48,
   "metadata": {},
   "outputs": [],
   "source": [
    "clf = HistGradientBoostingClassifier().fit(X_train, y_train)\n"
   ]
  },
  {
   "cell_type": "code",
   "execution_count": 49,
   "metadata": {},
   "outputs": [
    {
     "data": {
      "text/plain": [
       "0.7289985736259739"
      ]
     },
     "execution_count": 49,
     "metadata": {},
     "output_type": "execute_result"
    }
   ],
   "source": [
    "clf.score(X_train, y_train)"
   ]
  },
  {
   "cell_type": "code",
   "execution_count": null,
   "metadata": {},
   "outputs": [],
   "source": [
    "mlflow.log_param('Model','Hist Gradient Boosting Classifier')\n",
    "mlflow.log_param('Score',clf.score(X_train, y_train_unidemesional))\n"
   ]
  },
  {
   "cell_type": "markdown",
   "metadata": {},
   "source": [
    "<h2>Neural Network</h2>"
   ]
  },
  {
   "cell_type": "code",
   "execution_count": 52,
   "metadata": {},
   "outputs": [
    {
     "data": {
      "text/plain": [
       "'0.001'"
      ]
     },
     "execution_count": 52,
     "metadata": {},
     "output_type": "execute_result"
    }
   ],
   "source": [
    "from sklearn.neural_network import MLPClassifier\n",
    "\n",
    "\n",
    "\n",
    "clf = MLPClassifier(solver='adam', alpha=1e-5,\n",
    "        hidden_layer_sizes=(125,2), random_state=1,\n",
    "        learning_rate_init = 0.001,\n",
    "        early_stopping=True)\n",
    "\n",
    "\n",
    "mlflow.log_param('Hidden Layer Size','125,2')\n",
    "mlflow.log_param('Learning Rate','0.001')\n",
    "\n",
    "\n"
   ]
  },
  {
   "cell_type": "markdown",
   "metadata": {},
   "source": [
    "Handler NaN values"
   ]
  },
  {
   "cell_type": "code",
   "execution_count": 43,
   "metadata": {},
   "outputs": [
    {
     "ename": "KeyboardInterrupt",
     "evalue": "",
     "output_type": "error",
     "traceback": [
      "\u001b[1;31m---------------------------------------------------------------------------\u001b[0m",
      "\u001b[1;31mKeyboardInterrupt\u001b[0m                         Traceback (most recent call last)",
      "\u001b[1;32mc:\\Users\\Administrador\\Desktop\\DataMining\\segundo_parcial\\main.ipynb Celda 81\u001b[0m in \u001b[0;36m<cell line: 1>\u001b[1;34m()\u001b[0m\n\u001b[1;32m----> <a href='vscode-notebook-cell:/c%3A/Users/Administrador/Desktop/DataMining/segundo_parcial/main.ipynb#Y141sZmlsZQ%3D%3D?line=0'>1</a>\u001b[0m df_without_nan \u001b[39m=\u001b[39m df_age_trunc\u001b[39m.\u001b[39;49mdropna()\n",
      "File \u001b[1;32mc:\\ProgramData\\Anaconda3\\envs\\datamining\\lib\\site-packages\\pandas\\util\\_decorators.py:311\u001b[0m, in \u001b[0;36mdeprecate_nonkeyword_arguments.<locals>.decorate.<locals>.wrapper\u001b[1;34m(*args, **kwargs)\u001b[0m\n\u001b[0;32m    305\u001b[0m \u001b[39mif\u001b[39;00m \u001b[39mlen\u001b[39m(args) \u001b[39m>\u001b[39m num_allow_args:\n\u001b[0;32m    306\u001b[0m     warnings\u001b[39m.\u001b[39mwarn(\n\u001b[0;32m    307\u001b[0m         msg\u001b[39m.\u001b[39mformat(arguments\u001b[39m=\u001b[39marguments),\n\u001b[0;32m    308\u001b[0m         \u001b[39mFutureWarning\u001b[39;00m,\n\u001b[0;32m    309\u001b[0m         stacklevel\u001b[39m=\u001b[39mstacklevel,\n\u001b[0;32m    310\u001b[0m     )\n\u001b[1;32m--> 311\u001b[0m \u001b[39mreturn\u001b[39;00m func(\u001b[39m*\u001b[39margs, \u001b[39m*\u001b[39m\u001b[39m*\u001b[39mkwargs)\n",
      "File \u001b[1;32mc:\\ProgramData\\Anaconda3\\envs\\datamining\\lib\\site-packages\\pandas\\core\\frame.py:6029\u001b[0m, in \u001b[0;36mDataFrame.dropna\u001b[1;34m(self, axis, how, thresh, subset, inplace)\u001b[0m\n\u001b[0;32m   6027\u001b[0m     result \u001b[39m=\u001b[39m \u001b[39mself\u001b[39m\u001b[39m.\u001b[39mcopy()\n\u001b[0;32m   6028\u001b[0m \u001b[39melse\u001b[39;00m:\n\u001b[1;32m-> 6029\u001b[0m     result \u001b[39m=\u001b[39m \u001b[39mself\u001b[39;49m\u001b[39m.\u001b[39;49mloc(axis\u001b[39m=\u001b[39;49maxis)[mask]\n\u001b[0;32m   6031\u001b[0m \u001b[39mif\u001b[39;00m inplace:\n\u001b[0;32m   6032\u001b[0m     \u001b[39mself\u001b[39m\u001b[39m.\u001b[39m_update_inplace(result)\n",
      "File \u001b[1;32mc:\\ProgramData\\Anaconda3\\envs\\datamining\\lib\\site-packages\\pandas\\core\\indexing.py:967\u001b[0m, in \u001b[0;36m_LocationIndexer.__getitem__\u001b[1;34m(self, key)\u001b[0m\n\u001b[0;32m    964\u001b[0m axis \u001b[39m=\u001b[39m \u001b[39mself\u001b[39m\u001b[39m.\u001b[39maxis \u001b[39mor\u001b[39;00m \u001b[39m0\u001b[39m\n\u001b[0;32m    966\u001b[0m maybe_callable \u001b[39m=\u001b[39m com\u001b[39m.\u001b[39mapply_if_callable(key, \u001b[39mself\u001b[39m\u001b[39m.\u001b[39mobj)\n\u001b[1;32m--> 967\u001b[0m \u001b[39mreturn\u001b[39;00m \u001b[39mself\u001b[39;49m\u001b[39m.\u001b[39;49m_getitem_axis(maybe_callable, axis\u001b[39m=\u001b[39;49maxis)\n",
      "File \u001b[1;32mc:\\ProgramData\\Anaconda3\\envs\\datamining\\lib\\site-packages\\pandas\\core\\indexing.py:1182\u001b[0m, in \u001b[0;36m_LocIndexer._getitem_axis\u001b[1;34m(self, key, axis)\u001b[0m\n\u001b[0;32m   1180\u001b[0m     \u001b[39mreturn\u001b[39;00m \u001b[39mself\u001b[39m\u001b[39m.\u001b[39m_get_slice_axis(key, axis\u001b[39m=\u001b[39maxis)\n\u001b[0;32m   1181\u001b[0m \u001b[39melif\u001b[39;00m com\u001b[39m.\u001b[39mis_bool_indexer(key):\n\u001b[1;32m-> 1182\u001b[0m     \u001b[39mreturn\u001b[39;00m \u001b[39mself\u001b[39;49m\u001b[39m.\u001b[39;49m_getbool_axis(key, axis\u001b[39m=\u001b[39;49maxis)\n\u001b[0;32m   1183\u001b[0m \u001b[39melif\u001b[39;00m is_list_like_indexer(key):\n\u001b[0;32m   1184\u001b[0m \n\u001b[0;32m   1185\u001b[0m     \u001b[39m# an iterable multi-selection\u001b[39;00m\n\u001b[0;32m   1186\u001b[0m     \u001b[39mif\u001b[39;00m \u001b[39mnot\u001b[39;00m (\u001b[39misinstance\u001b[39m(key, \u001b[39mtuple\u001b[39m) \u001b[39mand\u001b[39;00m \u001b[39misinstance\u001b[39m(labels, MultiIndex)):\n",
      "File \u001b[1;32mc:\\ProgramData\\Anaconda3\\envs\\datamining\\lib\\site-packages\\pandas\\core\\indexing.py:986\u001b[0m, in \u001b[0;36m_LocationIndexer._getbool_axis\u001b[1;34m(self, key, axis)\u001b[0m\n\u001b[0;32m    984\u001b[0m key \u001b[39m=\u001b[39m check_bool_indexer(labels, key)\n\u001b[0;32m    985\u001b[0m inds \u001b[39m=\u001b[39m key\u001b[39m.\u001b[39mnonzero()[\u001b[39m0\u001b[39m]\n\u001b[1;32m--> 986\u001b[0m \u001b[39mreturn\u001b[39;00m \u001b[39mself\u001b[39;49m\u001b[39m.\u001b[39;49mobj\u001b[39m.\u001b[39;49m_take_with_is_copy(inds, axis\u001b[39m=\u001b[39;49maxis)\n",
      "File \u001b[1;32mc:\\ProgramData\\Anaconda3\\envs\\datamining\\lib\\site-packages\\pandas\\core\\generic.py:3716\u001b[0m, in \u001b[0;36mNDFrame._take_with_is_copy\u001b[1;34m(self, indices, axis)\u001b[0m\n\u001b[0;32m   3708\u001b[0m \u001b[39mdef\u001b[39;00m \u001b[39m_take_with_is_copy\u001b[39m(\u001b[39mself\u001b[39m: NDFrameT, indices, axis\u001b[39m=\u001b[39m\u001b[39m0\u001b[39m) \u001b[39m-\u001b[39m\u001b[39m>\u001b[39m NDFrameT:\n\u001b[0;32m   3709\u001b[0m     \u001b[39m\"\"\"\u001b[39;00m\n\u001b[0;32m   3710\u001b[0m \u001b[39m    Internal version of the `take` method that sets the `_is_copy`\u001b[39;00m\n\u001b[0;32m   3711\u001b[0m \u001b[39m    attribute to keep track of the parent dataframe (using in indexing\u001b[39;00m\n\u001b[1;32m   (...)\u001b[0m\n\u001b[0;32m   3714\u001b[0m \u001b[39m    See the docstring of `take` for full explanation of the parameters.\u001b[39;00m\n\u001b[0;32m   3715\u001b[0m \u001b[39m    \"\"\"\u001b[39;00m\n\u001b[1;32m-> 3716\u001b[0m     result \u001b[39m=\u001b[39m \u001b[39mself\u001b[39;49m\u001b[39m.\u001b[39;49mtake(indices\u001b[39m=\u001b[39;49mindices, axis\u001b[39m=\u001b[39;49maxis)\n\u001b[0;32m   3717\u001b[0m     \u001b[39m# Maybe set copy if we didn't actually change the index.\u001b[39;00m\n\u001b[0;32m   3718\u001b[0m     \u001b[39mif\u001b[39;00m \u001b[39mnot\u001b[39;00m result\u001b[39m.\u001b[39m_get_axis(axis)\u001b[39m.\u001b[39mequals(\u001b[39mself\u001b[39m\u001b[39m.\u001b[39m_get_axis(axis)):\n",
      "File \u001b[1;32mc:\\ProgramData\\Anaconda3\\envs\\datamining\\lib\\site-packages\\pandas\\core\\generic.py:3703\u001b[0m, in \u001b[0;36mNDFrame.take\u001b[1;34m(self, indices, axis, is_copy, **kwargs)\u001b[0m\n\u001b[0;32m   3699\u001b[0m nv\u001b[39m.\u001b[39mvalidate_take((), kwargs)\n\u001b[0;32m   3701\u001b[0m \u001b[39mself\u001b[39m\u001b[39m.\u001b[39m_consolidate_inplace()\n\u001b[1;32m-> 3703\u001b[0m new_data \u001b[39m=\u001b[39m \u001b[39mself\u001b[39;49m\u001b[39m.\u001b[39;49m_mgr\u001b[39m.\u001b[39;49mtake(\n\u001b[0;32m   3704\u001b[0m     indices, axis\u001b[39m=\u001b[39;49m\u001b[39mself\u001b[39;49m\u001b[39m.\u001b[39;49m_get_block_manager_axis(axis), verify\u001b[39m=\u001b[39;49m\u001b[39mTrue\u001b[39;49;00m\n\u001b[0;32m   3705\u001b[0m )\n\u001b[0;32m   3706\u001b[0m \u001b[39mreturn\u001b[39;00m \u001b[39mself\u001b[39m\u001b[39m.\u001b[39m_constructor(new_data)\u001b[39m.\u001b[39m__finalize__(\u001b[39mself\u001b[39m, method\u001b[39m=\u001b[39m\u001b[39m\"\u001b[39m\u001b[39mtake\u001b[39m\u001b[39m\"\u001b[39m)\n",
      "File \u001b[1;32mc:\\ProgramData\\Anaconda3\\envs\\datamining\\lib\\site-packages\\pandas\\core\\internals\\managers.py:899\u001b[0m, in \u001b[0;36mBaseBlockManager.take\u001b[1;34m(self, indexer, axis, verify)\u001b[0m\n\u001b[0;32m    896\u001b[0m n \u001b[39m=\u001b[39m \u001b[39mself\u001b[39m\u001b[39m.\u001b[39mshape[axis]\n\u001b[0;32m    897\u001b[0m indexer \u001b[39m=\u001b[39m maybe_convert_indices(indexer, n, verify\u001b[39m=\u001b[39mverify)\n\u001b[1;32m--> 899\u001b[0m new_labels \u001b[39m=\u001b[39m \u001b[39mself\u001b[39;49m\u001b[39m.\u001b[39;49maxes[axis]\u001b[39m.\u001b[39;49mtake(indexer)\n\u001b[0;32m    900\u001b[0m \u001b[39mreturn\u001b[39;00m \u001b[39mself\u001b[39m\u001b[39m.\u001b[39mreindex_indexer(\n\u001b[0;32m    901\u001b[0m     new_axis\u001b[39m=\u001b[39mnew_labels,\n\u001b[0;32m    902\u001b[0m     indexer\u001b[39m=\u001b[39mindexer,\n\u001b[1;32m   (...)\u001b[0m\n\u001b[0;32m    905\u001b[0m     consolidate\u001b[39m=\u001b[39m\u001b[39mFalse\u001b[39;00m,\n\u001b[0;32m    906\u001b[0m )\n",
      "File \u001b[1;32mc:\\ProgramData\\Anaconda3\\envs\\datamining\\lib\\site-packages\\pandas\\core\\indexes\\base.py:1113\u001b[0m, in \u001b[0;36mIndex.take\u001b[1;34m(self, indices, axis, allow_fill, fill_value, **kwargs)\u001b[0m\n\u001b[0;32m   1111\u001b[0m values \u001b[39m=\u001b[39m \u001b[39mself\u001b[39m\u001b[39m.\u001b[39m_values\n\u001b[0;32m   1112\u001b[0m \u001b[39mif\u001b[39;00m \u001b[39misinstance\u001b[39m(values, np\u001b[39m.\u001b[39mndarray):\n\u001b[1;32m-> 1113\u001b[0m     taken \u001b[39m=\u001b[39m algos\u001b[39m.\u001b[39;49mtake(\n\u001b[0;32m   1114\u001b[0m         values, indices, allow_fill\u001b[39m=\u001b[39;49mallow_fill, fill_value\u001b[39m=\u001b[39;49m\u001b[39mself\u001b[39;49m\u001b[39m.\u001b[39;49m_na_value\n\u001b[0;32m   1115\u001b[0m     )\n\u001b[0;32m   1116\u001b[0m \u001b[39melse\u001b[39;00m:\n\u001b[0;32m   1117\u001b[0m     \u001b[39m# algos.take passes 'axis' keyword which not all EAs accept\u001b[39;00m\n\u001b[0;32m   1118\u001b[0m     taken \u001b[39m=\u001b[39m values\u001b[39m.\u001b[39mtake(\n\u001b[0;32m   1119\u001b[0m         indices, allow_fill\u001b[39m=\u001b[39mallow_fill, fill_value\u001b[39m=\u001b[39m\u001b[39mself\u001b[39m\u001b[39m.\u001b[39m_na_value\n\u001b[0;32m   1120\u001b[0m     )\n",
      "File \u001b[1;32mc:\\ProgramData\\Anaconda3\\envs\\datamining\\lib\\site-packages\\pandas\\core\\algorithms.py:1449\u001b[0m, in \u001b[0;36mtake\u001b[1;34m(arr, indices, axis, allow_fill, fill_value)\u001b[0m\n\u001b[0;32m   1444\u001b[0m     result \u001b[39m=\u001b[39m take_nd(\n\u001b[0;32m   1445\u001b[0m         arr, indices, axis\u001b[39m=\u001b[39maxis, allow_fill\u001b[39m=\u001b[39m\u001b[39mTrue\u001b[39;00m, fill_value\u001b[39m=\u001b[39mfill_value\n\u001b[0;32m   1446\u001b[0m     )\n\u001b[0;32m   1447\u001b[0m \u001b[39melse\u001b[39;00m:\n\u001b[0;32m   1448\u001b[0m     \u001b[39m# NumPy style\u001b[39;00m\n\u001b[1;32m-> 1449\u001b[0m     result \u001b[39m=\u001b[39m arr\u001b[39m.\u001b[39;49mtake(indices, axis\u001b[39m=\u001b[39;49maxis)\n\u001b[0;32m   1450\u001b[0m \u001b[39mreturn\u001b[39;00m result\n",
      "\u001b[1;31mKeyboardInterrupt\u001b[0m: "
     ]
    }
   ],
   "source": [
    "df_without_nan = df_age_trunc.dropna()"
   ]
  },
  {
   "cell_type": "code",
   "execution_count": 24,
   "metadata": {},
   "outputs": [
    {
     "data": {
      "text/plain": [
       "(10839510, 33)"
      ]
     },
     "execution_count": 24,
     "metadata": {},
     "output_type": "execute_result"
    }
   ],
   "source": [
    "df_age_trunc.shape"
   ]
  },
  {
   "cell_type": "code",
   "execution_count": 56,
   "metadata": {},
   "outputs": [
    {
     "data": {
      "text/plain": [
       "(10782773, 33)"
      ]
     },
     "execution_count": 56,
     "metadata": {},
     "output_type": "execute_result"
    }
   ],
   "source": [
    "df_without_nan.shape"
   ]
  },
  {
   "cell_type": "code",
   "execution_count": 25,
   "metadata": {},
   "outputs": [],
   "source": [
    "y_nan = df_without_nan[outputs]\n",
    "x_nan = df_without_nan.drop(columns=outputs)"
   ]
  },
  {
   "cell_type": "code",
   "execution_count": 26,
   "metadata": {},
   "outputs": [],
   "source": [
    "X_train_not_nan, X_test_not_nan, y_train_not_nan, y_test_not_nan = train_test_split(x_nan, y_nan, test_size=0.33, random_state=42)\n"
   ]
  },
  {
   "cell_type": "code",
   "execution_count": 53,
   "metadata": {},
   "outputs": [
    {
     "name": "stderr",
     "output_type": "stream",
     "text": [
      "c:\\ProgramData\\Anaconda3\\envs\\datamining\\lib\\site-packages\\sklearn\\base.py:450: UserWarning: X does not have valid feature names, but MLPClassifier was fitted with feature names\n",
      "  warnings.warn(\n",
      "c:\\ProgramData\\Anaconda3\\envs\\datamining\\lib\\site-packages\\sklearn\\base.py:450: UserWarning: X does not have valid feature names, but MLPClassifier was fitted with feature names\n",
      "  warnings.warn(\n",
      "c:\\ProgramData\\Anaconda3\\envs\\datamining\\lib\\site-packages\\sklearn\\base.py:450: UserWarning: X does not have valid feature names, but MLPClassifier was fitted with feature names\n",
      "  warnings.warn(\n",
      "c:\\ProgramData\\Anaconda3\\envs\\datamining\\lib\\site-packages\\sklearn\\base.py:450: UserWarning: X does not have valid feature names, but MLPClassifier was fitted with feature names\n",
      "  warnings.warn(\n",
      "c:\\ProgramData\\Anaconda3\\envs\\datamining\\lib\\site-packages\\sklearn\\base.py:450: UserWarning: X does not have valid feature names, but MLPClassifier was fitted with feature names\n",
      "  warnings.warn(\n",
      "c:\\ProgramData\\Anaconda3\\envs\\datamining\\lib\\site-packages\\sklearn\\base.py:450: UserWarning: X does not have valid feature names, but MLPClassifier was fitted with feature names\n",
      "  warnings.warn(\n",
      "c:\\ProgramData\\Anaconda3\\envs\\datamining\\lib\\site-packages\\sklearn\\base.py:450: UserWarning: X does not have valid feature names, but MLPClassifier was fitted with feature names\n",
      "  warnings.warn(\n",
      "c:\\ProgramData\\Anaconda3\\envs\\datamining\\lib\\site-packages\\sklearn\\base.py:450: UserWarning: X does not have valid feature names, but MLPClassifier was fitted with feature names\n",
      "  warnings.warn(\n",
      "c:\\ProgramData\\Anaconda3\\envs\\datamining\\lib\\site-packages\\sklearn\\base.py:450: UserWarning: X does not have valid feature names, but MLPClassifier was fitted with feature names\n",
      "  warnings.warn(\n",
      "c:\\ProgramData\\Anaconda3\\envs\\datamining\\lib\\site-packages\\sklearn\\base.py:450: UserWarning: X does not have valid feature names, but MLPClassifier was fitted with feature names\n",
      "  warnings.warn(\n",
      "c:\\ProgramData\\Anaconda3\\envs\\datamining\\lib\\site-packages\\sklearn\\base.py:450: UserWarning: X does not have valid feature names, but MLPClassifier was fitted with feature names\n",
      "  warnings.warn(\n",
      "c:\\ProgramData\\Anaconda3\\envs\\datamining\\lib\\site-packages\\sklearn\\base.py:450: UserWarning: X does not have valid feature names, but MLPClassifier was fitted with feature names\n",
      "  warnings.warn(\n"
     ]
    },
    {
     "data": {
      "text/html": [
       "<style>#sk-container-id-6 {color: black;background-color: white;}#sk-container-id-6 pre{padding: 0;}#sk-container-id-6 div.sk-toggleable {background-color: white;}#sk-container-id-6 label.sk-toggleable__label {cursor: pointer;display: block;width: 100%;margin-bottom: 0;padding: 0.3em;box-sizing: border-box;text-align: center;}#sk-container-id-6 label.sk-toggleable__label-arrow:before {content: \"▸\";float: left;margin-right: 0.25em;color: #696969;}#sk-container-id-6 label.sk-toggleable__label-arrow:hover:before {color: black;}#sk-container-id-6 div.sk-estimator:hover label.sk-toggleable__label-arrow:before {color: black;}#sk-container-id-6 div.sk-toggleable__content {max-height: 0;max-width: 0;overflow: hidden;text-align: left;background-color: #f0f8ff;}#sk-container-id-6 div.sk-toggleable__content pre {margin: 0.2em;color: black;border-radius: 0.25em;background-color: #f0f8ff;}#sk-container-id-6 input.sk-toggleable__control:checked~div.sk-toggleable__content {max-height: 200px;max-width: 100%;overflow: auto;}#sk-container-id-6 input.sk-toggleable__control:checked~label.sk-toggleable__label-arrow:before {content: \"▾\";}#sk-container-id-6 div.sk-estimator input.sk-toggleable__control:checked~label.sk-toggleable__label {background-color: #d4ebff;}#sk-container-id-6 div.sk-label input.sk-toggleable__control:checked~label.sk-toggleable__label {background-color: #d4ebff;}#sk-container-id-6 input.sk-hidden--visually {border: 0;clip: rect(1px 1px 1px 1px);clip: rect(1px, 1px, 1px, 1px);height: 1px;margin: -1px;overflow: hidden;padding: 0;position: absolute;width: 1px;}#sk-container-id-6 div.sk-estimator {font-family: monospace;background-color: #f0f8ff;border: 1px dotted black;border-radius: 0.25em;box-sizing: border-box;margin-bottom: 0.5em;}#sk-container-id-6 div.sk-estimator:hover {background-color: #d4ebff;}#sk-container-id-6 div.sk-parallel-item::after {content: \"\";width: 100%;border-bottom: 1px solid gray;flex-grow: 1;}#sk-container-id-6 div.sk-label:hover label.sk-toggleable__label {background-color: #d4ebff;}#sk-container-id-6 div.sk-serial::before {content: \"\";position: absolute;border-left: 1px solid gray;box-sizing: border-box;top: 0;bottom: 0;left: 50%;z-index: 0;}#sk-container-id-6 div.sk-serial {display: flex;flex-direction: column;align-items: center;background-color: white;padding-right: 0.2em;padding-left: 0.2em;position: relative;}#sk-container-id-6 div.sk-item {position: relative;z-index: 1;}#sk-container-id-6 div.sk-parallel {display: flex;align-items: stretch;justify-content: center;background-color: white;position: relative;}#sk-container-id-6 div.sk-item::before, #sk-container-id-6 div.sk-parallel-item::before {content: \"\";position: absolute;border-left: 1px solid gray;box-sizing: border-box;top: 0;bottom: 0;left: 50%;z-index: -1;}#sk-container-id-6 div.sk-parallel-item {display: flex;flex-direction: column;z-index: 1;position: relative;background-color: white;}#sk-container-id-6 div.sk-parallel-item:first-child::after {align-self: flex-end;width: 50%;}#sk-container-id-6 div.sk-parallel-item:last-child::after {align-self: flex-start;width: 50%;}#sk-container-id-6 div.sk-parallel-item:only-child::after {width: 0;}#sk-container-id-6 div.sk-dashed-wrapped {border: 1px dashed gray;margin: 0 0.4em 0.5em 0.4em;box-sizing: border-box;padding-bottom: 0.4em;background-color: white;}#sk-container-id-6 div.sk-label label {font-family: monospace;font-weight: bold;display: inline-block;line-height: 1.2em;}#sk-container-id-6 div.sk-label-container {text-align: center;}#sk-container-id-6 div.sk-container {/* jupyter's `normalize.less` sets `[hidden] { display: none; }` but bootstrap.min.css set `[hidden] { display: none !important; }` so we also need the `!important` here to be able to override the default hidden behavior on the sphinx rendered scikit-learn.org. See: https://github.com/scikit-learn/scikit-learn/issues/21755 */display: inline-block !important;position: relative;}#sk-container-id-6 div.sk-text-repr-fallback {display: none;}</style><div id=\"sk-container-id-6\" class=\"sk-top-container\"><div class=\"sk-text-repr-fallback\"><pre>MLPClassifier(alpha=1e-05, early_stopping=True, hidden_layer_sizes=(125, 2),\n",
       "              random_state=1)</pre><b>In a Jupyter environment, please rerun this cell to show the HTML representation or trust the notebook. <br />On GitHub, the HTML representation is unable to render, please try loading this page with nbviewer.org.</b></div><div class=\"sk-container\" hidden><div class=\"sk-item\"><div class=\"sk-estimator sk-toggleable\"><input class=\"sk-toggleable__control sk-hidden--visually\" id=\"sk-estimator-id-6\" type=\"checkbox\" checked><label for=\"sk-estimator-id-6\" class=\"sk-toggleable__label sk-toggleable__label-arrow\">MLPClassifier</label><div class=\"sk-toggleable__content\"><pre>MLPClassifier(alpha=1e-05, early_stopping=True, hidden_layer_sizes=(125, 2),\n",
       "              random_state=1)</pre></div></div></div></div></div>"
      ],
      "text/plain": [
       "MLPClassifier(alpha=1e-05, early_stopping=True, hidden_layer_sizes=(125, 2),\n",
       "              random_state=1)"
      ]
     },
     "execution_count": 53,
     "metadata": {},
     "output_type": "execute_result"
    }
   ],
   "source": [
    "clf.fit(X_train_not_nan,y_train_not_nan)"
   ]
  },
  {
   "cell_type": "code",
   "execution_count": 45,
   "metadata": {},
   "outputs": [
    {
     "data": {
      "text/plain": [
       "0.4332465132382846"
      ]
     },
     "execution_count": 45,
     "metadata": {},
     "output_type": "execute_result"
    }
   ],
   "source": [
    "clf.score(X_test_not_nan, y_test_not_nan)"
   ]
  },
  {
   "cell_type": "code",
   "execution_count": 54,
   "metadata": {},
   "outputs": [
    {
     "data": {
      "text/plain": [
       "0.4332465132382846"
      ]
     },
     "execution_count": 54,
     "metadata": {},
     "output_type": "execute_result"
    }
   ],
   "source": [
    "mlflow.log_param('Model','MLPClassifier')\n",
    "mlflow.log_param('Score',clf.score(X_test_not_nan, y_test_not_nan))\n"
   ]
  },
  {
   "cell_type": "code",
   "execution_count": 55,
   "metadata": {},
   "outputs": [],
   "source": [
    "mlflow.end_run()"
   ]
  }
 ],
 "metadata": {
  "kernelspec": {
   "display_name": "Python 3.10.4 ('datamining')",
   "language": "python",
   "name": "python3"
  },
  "language_info": {
   "codemirror_mode": {
    "name": "ipython",
    "version": 3
   },
   "file_extension": ".py",
   "mimetype": "text/x-python",
   "name": "python",
   "nbconvert_exporter": "python",
   "pygments_lexer": "ipython3",
   "version": "3.10.4"
  },
  "orig_nbformat": 4,
  "vscode": {
   "interpreter": {
    "hash": "b1a2f1866a1f557c95fdbea5d55a83f40d4475bfb48dd575f4d5c37e61bf0ff4"
   }
  }
 },
 "nbformat": 4,
 "nbformat_minor": 2
}
