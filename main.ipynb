{
 "cells": [
  {
   "cell_type": "code",
   "execution_count": 32,
   "metadata": {},
   "outputs": [],
   "source": [
    "import numpy as np\n",
    "import pandas as pd\n",
    "import matplotlib.pyplot as plt\n",
    "import statsmodels.api as sm\n",
    "import seaborn as sns\n",
    "import pylab\n",
    "import mlflow\n",
    "\n",
    "from sklearn.metrics import mean_squared_error, mean_absolute_error\n",
    "from sklearn import datasets\n",
    "from sklearn.model_selection import train_test_split\n",
    "from sklearn.preprocessing import StandardScaler,MinMaxScaler\n",
    "\n",
    "\n",
    "\n",
    "from kneed import KneeLocator\n",
    "from sklearn.cluster import KMeans\n",
    "from sklearn.metrics import silhouette_score\n",
    "from sklearn.preprocessing import StandardScaler\n",
    "from sklearn.ensemble import HistGradientBoostingClassifier\n",
    "\n"
   ]
  },
  {
   "cell_type": "code",
   "execution_count": 15,
   "metadata": {},
   "outputs": [
    {
     "name": "stderr",
     "output_type": "stream",
     "text": [
      "C:\\Users\\Administrador\\AppData\\Local\\Temp\\ipykernel_7028\\560558549.py:1: DtypeWarning: Columns (5,8,11,15) have mixed types. Specify dtype option on import or set low_memory=False.\n",
      "  csv_train = pd.read_csv('train_ver2.csv')\n"
     ]
    },
    {
     "data": {
      "text/plain": [
       "Index(['fecha_dato', 'ncodpers', 'ind_empleado', 'pais_residencia', 'sexo',\n",
       "       'age', 'fecha_alta', 'ind_nuevo', 'antiguedad', 'indrel',\n",
       "       'ult_fec_cli_1t', 'indrel_1mes', 'tiprel_1mes', 'indresi', 'indext',\n",
       "       'conyuemp', 'canal_entrada', 'indfall', 'tipodom', 'cod_prov',\n",
       "       'nomprov', 'ind_actividad_cliente', 'renta', 'segmento',\n",
       "       'ind_ahor_fin_ult1', 'ind_aval_fin_ult1', 'ind_cco_fin_ult1',\n",
       "       'ind_cder_fin_ult1', 'ind_cno_fin_ult1', 'ind_ctju_fin_ult1',\n",
       "       'ind_ctma_fin_ult1', 'ind_ctop_fin_ult1', 'ind_ctpp_fin_ult1',\n",
       "       'ind_deco_fin_ult1', 'ind_deme_fin_ult1', 'ind_dela_fin_ult1',\n",
       "       'ind_ecue_fin_ult1', 'ind_fond_fin_ult1', 'ind_hip_fin_ult1',\n",
       "       'ind_plan_fin_ult1', 'ind_pres_fin_ult1', 'ind_reca_fin_ult1',\n",
       "       'ind_tjcr_fin_ult1', 'ind_valo_fin_ult1', 'ind_viv_fin_ult1',\n",
       "       'ind_nomina_ult1', 'ind_nom_pens_ult1', 'ind_recibo_ult1'],\n",
       "      dtype='object')"
      ]
     },
     "execution_count": 15,
     "metadata": {},
     "output_type": "execute_result"
    }
   ],
   "source": [
    "csv_train = pd.read_csv('train_ver2.csv')\n",
    "\n",
    "csv_train.columns"
   ]
  },
  {
   "cell_type": "markdown",
   "metadata": {},
   "source": [
    "<h1>ML Flow Stuff</h1>"
   ]
  },
  {
   "cell_type": "code",
   "execution_count": 16,
   "metadata": {},
   "outputs": [
    {
     "data": {
      "text/plain": [
       "<Experiment: artifact_location='file:///C:/Users/Administrador/Desktop/DataMining/segundo_parcial/mlruns/3', creation_time=1671665749345, experiment_id='3', last_update_time=1671665749345, lifecycle_stage='active', name='clustering_test', tags={}>"
      ]
     },
     "execution_count": 16,
     "metadata": {},
     "output_type": "execute_result"
    }
   ],
   "source": [
    "expermient_name = 'clustering_test'\n",
    "\n",
    "dict_values = {\n",
    "    'mse':0,\n",
    "    'r2':0,\n",
    "    'rmse':0\n",
    "}\n",
    "\n",
    "\n",
    "def load_create_experiment():\n",
    "    if mlflow.get_experiment_by_name(expermient_name):\n",
    "        return mlflow.get_experiment_by_name(expermient_name)\n",
    "    return mlflow.create_experiment(expermient_name)\n",
    "    \n",
    "current_experiment = load_create_experiment()\n",
    "mlflow.set_experiment(expermient_name)"
   ]
  },
  {
   "cell_type": "markdown",
   "metadata": {},
   "source": [
    "Loggin Params"
   ]
  },
  {
   "cell_type": "code",
   "execution_count": null,
   "metadata": {},
   "outputs": [],
   "source": [
    "\n",
    "#columns_to_drop = ['Model']\n",
    "#mlflow.log_param('drop_columns',columns_to_drop) 1th Param name, value\n"
   ]
  },
  {
   "cell_type": "markdown",
   "metadata": {},
   "source": [
    "Set Tags"
   ]
  },
  {
   "cell_type": "code",
   "execution_count": null,
   "metadata": {},
   "outputs": [],
   "source": [
    "#mlflow.set_tag('Summary',summary)\n"
   ]
  },
  {
   "cell_type": "markdown",
   "metadata": {},
   "source": [
    "Loggin Metrics"
   ]
  },
  {
   "cell_type": "code",
   "execution_count": null,
   "metadata": {},
   "outputs": [],
   "source": [
    "#mlflow.log_metrics(dict_values)\n"
   ]
  },
  {
   "cell_type": "markdown",
   "metadata": {},
   "source": [
    "Save Picture"
   ]
  },
  {
   "cell_type": "code",
   "execution_count": null,
   "metadata": {},
   "outputs": [],
   "source": [
    "#plt.savefig('plotname.png')\n",
    "#mlflow.log_artifact('plotname.png')\n",
    "#plt.show()"
   ]
  },
  {
   "cell_type": "markdown",
   "metadata": {},
   "source": [
    "<h2>Analisis Univariado</h2>"
   ]
  },
  {
   "cell_type": "code",
   "execution_count": 4,
   "metadata": {},
   "outputs": [
    {
     "data": {
      "text/plain": [
       "'renta'"
      ]
     },
     "execution_count": 4,
     "metadata": {},
     "output_type": "execute_result"
    }
   ],
   "source": [
    "column_to_analize = 'renta'\n",
    "mlflow.log_param('Column',column_to_analize)\n"
   ]
  },
  {
   "cell_type": "markdown",
   "metadata": {},
   "source": [
    "Bar plot"
   ]
  },
  {
   "cell_type": "code",
   "execution_count": 14,
   "metadata": {},
   "outputs": [
    {
     "data": {
      "image/png": "[encoded data removed]",
      "text/plain": [
       "<Figure size 432x288 with 1 Axes>"
      ]
     },
     "metadata": {
      "needs_background": "light"
     },
     "output_type": "display_data"
    }
   ],
   "source": [
    "img_name = column_to_analize + '_bar_plot.png'\n",
    "fig = csv_train.groupby(column_to_analize).size().plot(kind='bar').get_figure()\n",
    "fig.savefig(img_name)\n",
    "mlflow.log_artifact(img_name)"
   ]
  },
  {
   "cell_type": "markdown",
   "metadata": {},
   "source": [
    "Box Plot"
   ]
  },
  {
   "cell_type": "code",
   "execution_count": 29,
   "metadata": {},
   "outputs": [
    {
     "data": {
      "image/png": "[encoded data removed]",
      "text/plain": [
       "<Figure size 432x288 with 1 Axes>"
      ]
     },
     "metadata": {
      "needs_background": "light"
     },
     "output_type": "display_data"
    }
   ],
   "source": [
    "img_name = column_to_analize + '_box_plot.png'\n",
    "fig = csv_train.groupby(column_to_analize).size().plot(kind='box').get_figure()\n",
    "fig.savefig(img_name)\n",
    "mlflow.log_artifact(img_name)"
   ]
  },
  {
   "cell_type": "markdown",
   "metadata": {},
   "source": [
    "Hist Plot\n"
   ]
  },
  {
   "cell_type": "code",
   "execution_count": 6,
   "metadata": {},
   "outputs": [
    {
     "data": {
      "image/png": "[encoded data removed]",
      "text/plain": [
       "<Figure size 432x288 with 1 Axes>"
      ]
     },
     "metadata": {
      "needs_background": "light"
     },
     "output_type": "display_data"
    }
   ],
   "source": [
    "img_name = column_to_analize + '_hist_plot.png'\n",
    "fig = csv_train[column_to_analize].plot(kind='hist').get_figure()\n",
    "fig.savefig(img_name)\n",
    "mlflow.log_artifact(img_name)"
   ]
  },
  {
   "cell_type": "markdown",
   "metadata": {},
   "source": [
    "Comment Column"
   ]
  },
  {
   "cell_type": "code",
   "execution_count": 31,
   "metadata": {},
   "outputs": [],
   "source": [
    "comment ='Realizar analisis mas a fondo'\n",
    "mlflow.set_tag('Comentario',comment)\n"
   ]
  },
  {
   "cell_type": "markdown",
   "metadata": {},
   "source": [
    "<h2>Variables Dummies<h2>"
   ]
  },
  {
   "cell_type": "code",
   "execution_count": 26,
   "metadata": {},
   "outputs": [],
   "source": [
    "column_dummy = 'segmento'\n",
    "var_dummies = pd.get_dummies(csv_train[column_dummy])\n",
    "csv_train = csv_train.drop(columns=[column_dummy])\n",
    "\n",
    "csv_train[var_dummies.columns] = var_dummies"
   ]
  },
  {
   "cell_type": "code",
   "execution_count": 27,
   "metadata": {},
   "outputs": [
    {
     "name": "stdout",
     "output_type": "stream",
     "text": [
      "Index(['01 - TOP', '02 - PARTICULARES', '03 - UNIVERSITARIO'], dtype='object')\n"
     ]
    }
   ],
   "source": [
    "mlflow.set_tag('Var dummies',var_dummies.columns)\n",
    "print(var_dummies.columns)\n"
   ]
  },
  {
   "cell_type": "code",
   "execution_count": 30,
   "metadata": {},
   "outputs": [
    {
     "data": {
      "image/png": "[encoded data removed]",
      "text/plain": [
       "<Figure size 432x288 with 1 Axes>"
      ]
     },
     "metadata": {
      "needs_background": "light"
     },
     "output_type": "display_data"
    }
   ],
   "source": [
    "feature_dummy = '03 - UNIVERSITARIO'\n",
    "img_name = column_dummy + '_' + feature_dummy + '_bar_plot.png'\n",
    "fig = var_dummies.groupby(feature_dummy).size().plot(kind='bar').get_figure()\n",
    "fig.savefig(img_name)\n",
    "mlflow.log_artifact(img_name)"
   ]
  },
  {
   "cell_type": "markdown",
   "metadata": {},
   "source": [
    "End MlFlow Run"
   ]
  },
  {
   "cell_type": "code",
   "execution_count": 20,
   "metadata": {},
   "outputs": [],
   "source": [
    "mlflow.end_run()"
   ]
  },
  {
   "cell_type": "markdown",
   "metadata": {},
   "source": [
    "Describe DataSet"
   ]
  },
  {
   "cell_type": "code",
   "execution_count": 8,
   "metadata": {},
   "outputs": [
    {
     "data": {
      "text/html": [
       "<div>\n",
       "<style scoped>\n",
       "    .dataframe tbody tr th:only-of-type {\n",
       "        vertical-align: middle;\n",
       "    }\n",
       "\n",
       "    .dataframe tbody tr th {\n",
       "        vertical-align: top;\n",
       "    }\n",
       "\n",
       "    .dataframe thead th {\n",
       "        text-align: right;\n",
       "    }\n",
       "</style>\n",
       "<table border=\"1\" class=\"dataframe\">\n",
       "  <thead>\n",
       "    <tr style=\"text-align: right;\">\n",
       "      <th></th>\n",
       "      <th>count</th>\n",
       "      <th>mean</th>\n",
       "      <th>std</th>\n",
       "      <th>min</th>\n",
       "      <th>25%</th>\n",
       "      <th>50%</th>\n",
       "      <th>75%</th>\n",
       "      <th>max</th>\n",
       "    </tr>\n",
       "  </thead>\n",
       "  <tbody>\n",
       "    <tr>\n",
       "      <th>ncodpers</th>\n",
       "      <td>13647309.0</td>\n",
       "      <td>834904.211501</td>\n",
       "      <td>431565.025784</td>\n",
       "      <td>15889.00</td>\n",
       "      <td>452813.00</td>\n",
       "      <td>931893.0</td>\n",
       "      <td>1199286.00</td>\n",
       "      <td>1553689.00</td>\n",
       "    </tr>\n",
       "    <tr>\n",
       "      <th>ind_nuevo</th>\n",
       "      <td>13619575.0</td>\n",
       "      <td>0.059562</td>\n",
       "      <td>0.236673</td>\n",
       "      <td>0.00</td>\n",
       "      <td>0.00</td>\n",
       "      <td>0.0</td>\n",
       "      <td>0.00</td>\n",
       "      <td>1.00</td>\n",
       "    </tr>\n",
       "    <tr>\n",
       "      <th>indrel</th>\n",
       "      <td>13619575.0</td>\n",
       "      <td>1.178399</td>\n",
       "      <td>4.177469</td>\n",
       "      <td>1.00</td>\n",
       "      <td>1.00</td>\n",
       "      <td>1.0</td>\n",
       "      <td>1.00</td>\n",
       "      <td>99.00</td>\n",
       "    </tr>\n",
       "    <tr>\n",
       "      <th>tipodom</th>\n",
       "      <td>13619574.0</td>\n",
       "      <td>1.000000</td>\n",
       "      <td>0.000000</td>\n",
       "      <td>1.00</td>\n",
       "      <td>1.00</td>\n",
       "      <td>1.0</td>\n",
       "      <td>1.00</td>\n",
       "      <td>1.00</td>\n",
       "    </tr>\n",
       "    <tr>\n",
       "      <th>cod_prov</th>\n",
       "      <td>13553718.0</td>\n",
       "      <td>26.571470</td>\n",
       "      <td>12.784017</td>\n",
       "      <td>1.00</td>\n",
       "      <td>15.00</td>\n",
       "      <td>28.0</td>\n",
       "      <td>35.00</td>\n",
       "      <td>52.00</td>\n",
       "    </tr>\n",
       "    <tr>\n",
       "      <th>ind_actividad_cliente</th>\n",
       "      <td>13619575.0</td>\n",
       "      <td>0.457811</td>\n",
       "      <td>0.498217</td>\n",
       "      <td>0.00</td>\n",
       "      <td>0.00</td>\n",
       "      <td>0.0</td>\n",
       "      <td>1.00</td>\n",
       "      <td>1.00</td>\n",
       "    </tr>\n",
       "    <tr>\n",
       "      <th>renta</th>\n",
       "      <td>10852934.0</td>\n",
       "      <td>134254.318238</td>\n",
       "      <td>230620.238822</td>\n",
       "      <td>1202.73</td>\n",
       "      <td>68710.98</td>\n",
       "      <td>101850.0</td>\n",
       "      <td>155955.96</td>\n",
       "      <td>28894395.51</td>\n",
       "    </tr>\n",
       "    <tr>\n",
       "      <th>ind_ahor_fin_ult1</th>\n",
       "      <td>13647309.0</td>\n",
       "      <td>0.000102</td>\n",
       "      <td>0.010113</td>\n",
       "      <td>0.00</td>\n",
       "      <td>0.00</td>\n",
       "      <td>0.0</td>\n",
       "      <td>0.00</td>\n",
       "      <td>1.00</td>\n",
       "    </tr>\n",
       "    <tr>\n",
       "      <th>ind_aval_fin_ult1</th>\n",
       "      <td>13647309.0</td>\n",
       "      <td>0.000023</td>\n",
       "      <td>0.004812</td>\n",
       "      <td>0.00</td>\n",
       "      <td>0.00</td>\n",
       "      <td>0.0</td>\n",
       "      <td>0.00</td>\n",
       "      <td>1.00</td>\n",
       "    </tr>\n",
       "    <tr>\n",
       "      <th>ind_cco_fin_ult1</th>\n",
       "      <td>13647309.0</td>\n",
       "      <td>0.655484</td>\n",
       "      <td>0.475210</td>\n",
       "      <td>0.00</td>\n",
       "      <td>0.00</td>\n",
       "      <td>1.0</td>\n",
       "      <td>1.00</td>\n",
       "      <td>1.00</td>\n",
       "    </tr>\n",
       "    <tr>\n",
       "      <th>ind_cder_fin_ult1</th>\n",
       "      <td>13647309.0</td>\n",
       "      <td>0.000394</td>\n",
       "      <td>0.019844</td>\n",
       "      <td>0.00</td>\n",
       "      <td>0.00</td>\n",
       "      <td>0.0</td>\n",
       "      <td>0.00</td>\n",
       "      <td>1.00</td>\n",
       "    </tr>\n",
       "    <tr>\n",
       "      <th>ind_cno_fin_ult1</th>\n",
       "      <td>13647309.0</td>\n",
       "      <td>0.080867</td>\n",
       "      <td>0.272631</td>\n",
       "      <td>0.00</td>\n",
       "      <td>0.00</td>\n",
       "      <td>0.0</td>\n",
       "      <td>0.00</td>\n",
       "      <td>1.00</td>\n",
       "    </tr>\n",
       "    <tr>\n",
       "      <th>ind_ctju_fin_ult1</th>\n",
       "      <td>13647309.0</td>\n",
       "      <td>0.009474</td>\n",
       "      <td>0.096873</td>\n",
       "      <td>0.00</td>\n",
       "      <td>0.00</td>\n",
       "      <td>0.0</td>\n",
       "      <td>0.00</td>\n",
       "      <td>1.00</td>\n",
       "    </tr>\n",
       "    <tr>\n",
       "      <th>ind_ctma_fin_ult1</th>\n",
       "      <td>13647309.0</td>\n",
       "      <td>0.009727</td>\n",
       "      <td>0.098143</td>\n",
       "      <td>0.00</td>\n",
       "      <td>0.00</td>\n",
       "      <td>0.0</td>\n",
       "      <td>0.00</td>\n",
       "      <td>1.00</td>\n",
       "    </tr>\n",
       "    <tr>\n",
       "      <th>ind_ctop_fin_ult1</th>\n",
       "      <td>13647309.0</td>\n",
       "      <td>0.129008</td>\n",
       "      <td>0.335209</td>\n",
       "      <td>0.00</td>\n",
       "      <td>0.00</td>\n",
       "      <td>0.0</td>\n",
       "      <td>0.00</td>\n",
       "      <td>1.00</td>\n",
       "    </tr>\n",
       "    <tr>\n",
       "      <th>ind_ctpp_fin_ult1</th>\n",
       "      <td>13647309.0</td>\n",
       "      <td>0.043306</td>\n",
       "      <td>0.203545</td>\n",
       "      <td>0.00</td>\n",
       "      <td>0.00</td>\n",
       "      <td>0.0</td>\n",
       "      <td>0.00</td>\n",
       "      <td>1.00</td>\n",
       "    </tr>\n",
       "    <tr>\n",
       "      <th>ind_deco_fin_ult1</th>\n",
       "      <td>13647309.0</td>\n",
       "      <td>0.001779</td>\n",
       "      <td>0.042138</td>\n",
       "      <td>0.00</td>\n",
       "      <td>0.00</td>\n",
       "      <td>0.0</td>\n",
       "      <td>0.00</td>\n",
       "      <td>1.00</td>\n",
       "    </tr>\n",
       "    <tr>\n",
       "      <th>ind_deme_fin_ult1</th>\n",
       "      <td>13647309.0</td>\n",
       "      <td>0.001661</td>\n",
       "      <td>0.040721</td>\n",
       "      <td>0.00</td>\n",
       "      <td>0.00</td>\n",
       "      <td>0.0</td>\n",
       "      <td>0.00</td>\n",
       "      <td>1.00</td>\n",
       "    </tr>\n",
       "    <tr>\n",
       "      <th>ind_dela_fin_ult1</th>\n",
       "      <td>13647309.0</td>\n",
       "      <td>0.042967</td>\n",
       "      <td>0.202782</td>\n",
       "      <td>0.00</td>\n",
       "      <td>0.00</td>\n",
       "      <td>0.0</td>\n",
       "      <td>0.00</td>\n",
       "      <td>1.00</td>\n",
       "    </tr>\n",
       "    <tr>\n",
       "      <th>ind_ecue_fin_ult1</th>\n",
       "      <td>13647309.0</td>\n",
       "      <td>0.082744</td>\n",
       "      <td>0.275494</td>\n",
       "      <td>0.00</td>\n",
       "      <td>0.00</td>\n",
       "      <td>0.0</td>\n",
       "      <td>0.00</td>\n",
       "      <td>1.00</td>\n",
       "    </tr>\n",
       "    <tr>\n",
       "      <th>ind_fond_fin_ult1</th>\n",
       "      <td>13647309.0</td>\n",
       "      <td>0.018486</td>\n",
       "      <td>0.134701</td>\n",
       "      <td>0.00</td>\n",
       "      <td>0.00</td>\n",
       "      <td>0.0</td>\n",
       "      <td>0.00</td>\n",
       "      <td>1.00</td>\n",
       "    </tr>\n",
       "    <tr>\n",
       "      <th>ind_hip_fin_ult1</th>\n",
       "      <td>13647309.0</td>\n",
       "      <td>0.005887</td>\n",
       "      <td>0.076498</td>\n",
       "      <td>0.00</td>\n",
       "      <td>0.00</td>\n",
       "      <td>0.0</td>\n",
       "      <td>0.00</td>\n",
       "      <td>1.00</td>\n",
       "    </tr>\n",
       "    <tr>\n",
       "      <th>ind_plan_fin_ult1</th>\n",
       "      <td>13647309.0</td>\n",
       "      <td>0.009171</td>\n",
       "      <td>0.095325</td>\n",
       "      <td>0.00</td>\n",
       "      <td>0.00</td>\n",
       "      <td>0.0</td>\n",
       "      <td>0.00</td>\n",
       "      <td>1.00</td>\n",
       "    </tr>\n",
       "    <tr>\n",
       "      <th>ind_pres_fin_ult1</th>\n",
       "      <td>13647309.0</td>\n",
       "      <td>0.002627</td>\n",
       "      <td>0.051191</td>\n",
       "      <td>0.00</td>\n",
       "      <td>0.00</td>\n",
       "      <td>0.0</td>\n",
       "      <td>0.00</td>\n",
       "      <td>1.00</td>\n",
       "    </tr>\n",
       "    <tr>\n",
       "      <th>ind_reca_fin_ult1</th>\n",
       "      <td>13647309.0</td>\n",
       "      <td>0.052536</td>\n",
       "      <td>0.223106</td>\n",
       "      <td>0.00</td>\n",
       "      <td>0.00</td>\n",
       "      <td>0.0</td>\n",
       "      <td>0.00</td>\n",
       "      <td>1.00</td>\n",
       "    </tr>\n",
       "    <tr>\n",
       "      <th>ind_tjcr_fin_ult1</th>\n",
       "      <td>13647309.0</td>\n",
       "      <td>0.044389</td>\n",
       "      <td>0.205957</td>\n",
       "      <td>0.00</td>\n",
       "      <td>0.00</td>\n",
       "      <td>0.0</td>\n",
       "      <td>0.00</td>\n",
       "      <td>1.00</td>\n",
       "    </tr>\n",
       "    <tr>\n",
       "      <th>ind_valo_fin_ult1</th>\n",
       "      <td>13647309.0</td>\n",
       "      <td>0.025608</td>\n",
       "      <td>0.157962</td>\n",
       "      <td>0.00</td>\n",
       "      <td>0.00</td>\n",
       "      <td>0.0</td>\n",
       "      <td>0.00</td>\n",
       "      <td>1.00</td>\n",
       "    </tr>\n",
       "    <tr>\n",
       "      <th>ind_viv_fin_ult1</th>\n",
       "      <td>13647309.0</td>\n",
       "      <td>0.003848</td>\n",
       "      <td>0.061911</td>\n",
       "      <td>0.00</td>\n",
       "      <td>0.00</td>\n",
       "      <td>0.0</td>\n",
       "      <td>0.00</td>\n",
       "      <td>1.00</td>\n",
       "    </tr>\n",
       "    <tr>\n",
       "      <th>ind_nomina_ult1</th>\n",
       "      <td>13631246.0</td>\n",
       "      <td>0.054724</td>\n",
       "      <td>0.227441</td>\n",
       "      <td>0.00</td>\n",
       "      <td>0.00</td>\n",
       "      <td>0.0</td>\n",
       "      <td>0.00</td>\n",
       "      <td>1.00</td>\n",
       "    </tr>\n",
       "    <tr>\n",
       "      <th>ind_nom_pens_ult1</th>\n",
       "      <td>13631246.0</td>\n",
       "      <td>0.059429</td>\n",
       "      <td>0.236425</td>\n",
       "      <td>0.00</td>\n",
       "      <td>0.00</td>\n",
       "      <td>0.0</td>\n",
       "      <td>0.00</td>\n",
       "      <td>1.00</td>\n",
       "    </tr>\n",
       "    <tr>\n",
       "      <th>ind_recibo_ult1</th>\n",
       "      <td>13647309.0</td>\n",
       "      <td>0.127916</td>\n",
       "      <td>0.333996</td>\n",
       "      <td>0.00</td>\n",
       "      <td>0.00</td>\n",
       "      <td>0.0</td>\n",
       "      <td>0.00</td>\n",
       "      <td>1.00</td>\n",
       "    </tr>\n",
       "  </tbody>\n",
       "</table>\n",
       "</div>"
      ],
      "text/plain": [
       "                            count           mean            std       min  \\\n",
       "ncodpers               13647309.0  834904.211501  431565.025784  15889.00   \n",
       "ind_nuevo              13619575.0       0.059562       0.236673      0.00   \n",
       "indrel                 13619575.0       1.178399       4.177469      1.00   \n",
       "tipodom                13619574.0       1.000000       0.000000      1.00   \n",
       "cod_prov               13553718.0      26.571470      12.784017      1.00   \n",
       "ind_actividad_cliente  13619575.0       0.457811       0.498217      0.00   \n",
       "renta                  10852934.0  134254.318238  230620.238822   1202.73   \n",
       "ind_ahor_fin_ult1      13647309.0       0.000102       0.010113      0.00   \n",
       "ind_aval_fin_ult1      13647309.0       0.000023       0.004812      0.00   \n",
       "ind_cco_fin_ult1       13647309.0       0.655484       0.475210      0.00   \n",
       "ind_cder_fin_ult1      13647309.0       0.000394       0.019844      0.00   \n",
       "ind_cno_fin_ult1       13647309.0       0.080867       0.272631      0.00   \n",
       "ind_ctju_fin_ult1      13647309.0       0.009474       0.096873      0.00   \n",
       "ind_ctma_fin_ult1      13647309.0       0.009727       0.098143      0.00   \n",
       "ind_ctop_fin_ult1      13647309.0       0.129008       0.335209      0.00   \n",
       "ind_ctpp_fin_ult1      13647309.0       0.043306       0.203545      0.00   \n",
       "ind_deco_fin_ult1      13647309.0       0.001779       0.042138      0.00   \n",
       "ind_deme_fin_ult1      13647309.0       0.001661       0.040721      0.00   \n",
       "ind_dela_fin_ult1      13647309.0       0.042967       0.202782      0.00   \n",
       "ind_ecue_fin_ult1      13647309.0       0.082744       0.275494      0.00   \n",
       "ind_fond_fin_ult1      13647309.0       0.018486       0.134701      0.00   \n",
       "ind_hip_fin_ult1       13647309.0       0.005887       0.076498      0.00   \n",
       "ind_plan_fin_ult1      13647309.0       0.009171       0.095325      0.00   \n",
       "ind_pres_fin_ult1      13647309.0       0.002627       0.051191      0.00   \n",
       "ind_reca_fin_ult1      13647309.0       0.052536       0.223106      0.00   \n",
       "ind_tjcr_fin_ult1      13647309.0       0.044389       0.205957      0.00   \n",
       "ind_valo_fin_ult1      13647309.0       0.025608       0.157962      0.00   \n",
       "ind_viv_fin_ult1       13647309.0       0.003848       0.061911      0.00   \n",
       "ind_nomina_ult1        13631246.0       0.054724       0.227441      0.00   \n",
       "ind_nom_pens_ult1      13631246.0       0.059429       0.236425      0.00   \n",
       "ind_recibo_ult1        13647309.0       0.127916       0.333996      0.00   \n",
       "\n",
       "                             25%       50%         75%          max  \n",
       "ncodpers               452813.00  931893.0  1199286.00   1553689.00  \n",
       "ind_nuevo                   0.00       0.0        0.00         1.00  \n",
       "indrel                      1.00       1.0        1.00        99.00  \n",
       "tipodom                     1.00       1.0        1.00         1.00  \n",
       "cod_prov                   15.00      28.0       35.00        52.00  \n",
       "ind_actividad_cliente       0.00       0.0        1.00         1.00  \n",
       "renta                   68710.98  101850.0   155955.96  28894395.51  \n",
       "ind_ahor_fin_ult1           0.00       0.0        0.00         1.00  \n",
       "ind_aval_fin_ult1           0.00       0.0        0.00         1.00  \n",
       "ind_cco_fin_ult1            0.00       1.0        1.00         1.00  \n",
       "ind_cder_fin_ult1           0.00       0.0        0.00         1.00  \n",
       "ind_cno_fin_ult1            0.00       0.0        0.00         1.00  \n",
       "ind_ctju_fin_ult1           0.00       0.0        0.00         1.00  \n",
       "ind_ctma_fin_ult1           0.00       0.0        0.00         1.00  \n",
       "ind_ctop_fin_ult1           0.00       0.0        0.00         1.00  \n",
       "ind_ctpp_fin_ult1           0.00       0.0        0.00         1.00  \n",
       "ind_deco_fin_ult1           0.00       0.0        0.00         1.00  \n",
       "ind_deme_fin_ult1           0.00       0.0        0.00         1.00  \n",
       "ind_dela_fin_ult1           0.00       0.0        0.00         1.00  \n",
       "ind_ecue_fin_ult1           0.00       0.0        0.00         1.00  \n",
       "ind_fond_fin_ult1           0.00       0.0        0.00         1.00  \n",
       "ind_hip_fin_ult1            0.00       0.0        0.00         1.00  \n",
       "ind_plan_fin_ult1           0.00       0.0        0.00         1.00  \n",
       "ind_pres_fin_ult1           0.00       0.0        0.00         1.00  \n",
       "ind_reca_fin_ult1           0.00       0.0        0.00         1.00  \n",
       "ind_tjcr_fin_ult1           0.00       0.0        0.00         1.00  \n",
       "ind_valo_fin_ult1           0.00       0.0        0.00         1.00  \n",
       "ind_viv_fin_ult1            0.00       0.0        0.00         1.00  \n",
       "ind_nomina_ult1             0.00       0.0        0.00         1.00  \n",
       "ind_nom_pens_ult1           0.00       0.0        0.00         1.00  \n",
       "ind_recibo_ult1             0.00       0.0        0.00         1.00  "
      ]
     },
     "execution_count": 8,
     "metadata": {},
     "output_type": "execute_result"
    }
   ],
   "source": [
    "csv_train.describe().T"
   ]
  },
  {
   "cell_type": "code",
   "execution_count": 12,
   "metadata": {},
   "outputs": [],
   "source": [
    "nullValues = csv_train.isnull().sum()\n",
    "mlflow.set_tag('Null values on DataSet',nullValues)"
   ]
  },
  {
   "cell_type": "code",
   "execution_count": 17,
   "metadata": {},
   "outputs": [],
   "source": [
    "df_without_nulls = csv_train[csv_train.renta.notnull()]"
   ]
  },
  {
   "cell_type": "code",
   "execution_count": 13,
   "metadata": {},
   "outputs": [
    {
     "data": {
      "text/plain": [
       "'age'"
      ]
     },
     "execution_count": 13,
     "metadata": {},
     "output_type": "execute_result"
    }
   ],
   "source": [
    "column_to_analize = 'age'\n",
    "mlflow.log_param('Column',column_to_analize)\n"
   ]
  },
  {
   "cell_type": "code",
   "execution_count": 14,
   "metadata": {},
   "outputs": [
    {
     "data": {
      "image/png": "[encoded data removed]",
      "text/plain": [
       "<Figure size 432x288 with 1 Axes>"
      ]
     },
     "metadata": {
      "needs_background": "light"
     },
     "output_type": "display_data"
    }
   ],
   "source": [
    "img_name = column_to_analize + '_bar_plot.png'\n",
    "fig = df_without_nulls.groupby(column_to_analize).size().plot(kind='bar').get_figure()\n",
    "fig.savefig(img_name)\n",
    "mlflow.log_artifact(img_name)"
   ]
  },
  {
   "cell_type": "markdown",
   "metadata": {},
   "source": [
    "Stadardization"
   ]
  },
  {
   "cell_type": "code",
   "execution_count": 18,
   "metadata": {},
   "outputs": [],
   "source": [
    "columns_to_drop = ['canal_entrada','fecha_dato','ncodpers','indresi','indext','ind_empleado','pais_residencia','fecha_alta','indrel','ult_fec_cli_1t','indrel_1mes','conyuemp','indfall','tipodom','nomprov','tiprel_1mes']\n",
    "df_clean = pd.DataFrame(df_without_nulls.drop(columns=columns_to_drop))"
   ]
  },
  {
   "cell_type": "code",
   "execution_count": 19,
   "metadata": {},
   "outputs": [
    {
     "data": {
      "text/plain": [
       "(10852934, 32)"
      ]
     },
     "execution_count": 19,
     "metadata": {},
     "output_type": "execute_result"
    }
   ],
   "source": [
    "df_clean.shape"
   ]
  },
  {
   "cell_type": "code",
   "execution_count": 20,
   "metadata": {},
   "outputs": [
    {
     "data": {
      "text/html": [
       "<div>\n",
       "<style scoped>\n",
       "    .dataframe tbody tr th:only-of-type {\n",
       "        vertical-align: middle;\n",
       "    }\n",
       "\n",
       "    .dataframe tbody tr th {\n",
       "        vertical-align: top;\n",
       "    }\n",
       "\n",
       "    .dataframe thead th {\n",
       "        text-align: right;\n",
       "    }\n",
       "</style>\n",
       "<table border=\"1\" class=\"dataframe\">\n",
       "  <thead>\n",
       "    <tr style=\"text-align: right;\">\n",
       "      <th></th>\n",
       "      <th>count</th>\n",
       "      <th>unique</th>\n",
       "      <th>top</th>\n",
       "      <th>freq</th>\n",
       "      <th>mean</th>\n",
       "      <th>std</th>\n",
       "      <th>min</th>\n",
       "      <th>25%</th>\n",
       "      <th>50%</th>\n",
       "      <th>75%</th>\n",
       "      <th>max</th>\n",
       "    </tr>\n",
       "  </thead>\n",
       "  <tbody>\n",
       "    <tr>\n",
       "      <th>sexo</th>\n",
       "      <td>10852898</td>\n",
       "      <td>2</td>\n",
       "      <td>V</td>\n",
       "      <td>5943966</td>\n",
       "      <td>NaN</td>\n",
       "      <td>NaN</td>\n",
       "      <td>NaN</td>\n",
       "      <td>NaN</td>\n",
       "      <td>NaN</td>\n",
       "      <td>NaN</td>\n",
       "      <td>NaN</td>\n",
       "    </tr>\n",
       "    <tr>\n",
       "      <th>age</th>\n",
       "      <td>10852934.0</td>\n",
       "      <td>232.0</td>\n",
       "      <td>23.0</td>\n",
       "      <td>422497.0</td>\n",
       "      <td>NaN</td>\n",
       "      <td>NaN</td>\n",
       "      <td>NaN</td>\n",
       "      <td>NaN</td>\n",
       "      <td>NaN</td>\n",
       "      <td>NaN</td>\n",
       "      <td>NaN</td>\n",
       "    </tr>\n",
       "    <tr>\n",
       "      <th>ind_nuevo</th>\n",
       "      <td>10852934.0</td>\n",
       "      <td>NaN</td>\n",
       "      <td>NaN</td>\n",
       "      <td>NaN</td>\n",
       "      <td>0.027092</td>\n",
       "      <td>0.162352</td>\n",
       "      <td>0.0</td>\n",
       "      <td>0.0</td>\n",
       "      <td>0.0</td>\n",
       "      <td>0.0</td>\n",
       "      <td>1.0</td>\n",
       "    </tr>\n",
       "    <tr>\n",
       "      <th>antiguedad</th>\n",
       "      <td>10852934.0</td>\n",
       "      <td>506.0</td>\n",
       "      <td>12.0</td>\n",
       "      <td>106876.0</td>\n",
       "      <td>NaN</td>\n",
       "      <td>NaN</td>\n",
       "      <td>NaN</td>\n",
       "      <td>NaN</td>\n",
       "      <td>NaN</td>\n",
       "      <td>NaN</td>\n",
       "      <td>NaN</td>\n",
       "    </tr>\n",
       "    <tr>\n",
       "      <th>cod_prov</th>\n",
       "      <td>10852726.0</td>\n",
       "      <td>NaN</td>\n",
       "      <td>NaN</td>\n",
       "      <td>NaN</td>\n",
       "      <td>26.480537</td>\n",
       "      <td>12.498091</td>\n",
       "      <td>1.0</td>\n",
       "      <td>15.0</td>\n",
       "      <td>28.0</td>\n",
       "      <td>33.0</td>\n",
       "      <td>52.0</td>\n",
       "    </tr>\n",
       "    <tr>\n",
       "      <th>ind_actividad_cliente</th>\n",
       "      <td>10852934.0</td>\n",
       "      <td>NaN</td>\n",
       "      <td>NaN</td>\n",
       "      <td>NaN</td>\n",
       "      <td>0.469303</td>\n",
       "      <td>0.499057</td>\n",
       "      <td>0.0</td>\n",
       "      <td>0.0</td>\n",
       "      <td>0.0</td>\n",
       "      <td>1.0</td>\n",
       "      <td>1.0</td>\n",
       "    </tr>\n",
       "    <tr>\n",
       "      <th>renta</th>\n",
       "      <td>10852934.0</td>\n",
       "      <td>NaN</td>\n",
       "      <td>NaN</td>\n",
       "      <td>NaN</td>\n",
       "      <td>134254.318238</td>\n",
       "      <td>230620.238822</td>\n",
       "      <td>1202.73</td>\n",
       "      <td>68710.98</td>\n",
       "      <td>101850.0</td>\n",
       "      <td>155955.96</td>\n",
       "      <td>28894395.51</td>\n",
       "    </tr>\n",
       "    <tr>\n",
       "      <th>segmento</th>\n",
       "      <td>10796101</td>\n",
       "      <td>3</td>\n",
       "      <td>02 - PARTICULARES</td>\n",
       "      <td>6522878</td>\n",
       "      <td>NaN</td>\n",
       "      <td>NaN</td>\n",
       "      <td>NaN</td>\n",
       "      <td>NaN</td>\n",
       "      <td>NaN</td>\n",
       "      <td>NaN</td>\n",
       "      <td>NaN</td>\n",
       "    </tr>\n",
       "    <tr>\n",
       "      <th>ind_ahor_fin_ult1</th>\n",
       "      <td>10852934.0</td>\n",
       "      <td>NaN</td>\n",
       "      <td>NaN</td>\n",
       "      <td>NaN</td>\n",
       "      <td>0.000115</td>\n",
       "      <td>0.010727</td>\n",
       "      <td>0.0</td>\n",
       "      <td>0.0</td>\n",
       "      <td>0.0</td>\n",
       "      <td>0.0</td>\n",
       "      <td>1.0</td>\n",
       "    </tr>\n",
       "    <tr>\n",
       "      <th>ind_aval_fin_ult1</th>\n",
       "      <td>10852934.0</td>\n",
       "      <td>NaN</td>\n",
       "      <td>NaN</td>\n",
       "      <td>NaN</td>\n",
       "      <td>0.000027</td>\n",
       "      <td>0.005205</td>\n",
       "      <td>0.0</td>\n",
       "      <td>0.0</td>\n",
       "      <td>0.0</td>\n",
       "      <td>0.0</td>\n",
       "      <td>1.0</td>\n",
       "    </tr>\n",
       "    <tr>\n",
       "      <th>ind_cco_fin_ult1</th>\n",
       "      <td>10852934.0</td>\n",
       "      <td>NaN</td>\n",
       "      <td>NaN</td>\n",
       "      <td>NaN</td>\n",
       "      <td>0.655166</td>\n",
       "      <td>0.475314</td>\n",
       "      <td>0.0</td>\n",
       "      <td>0.0</td>\n",
       "      <td>1.0</td>\n",
       "      <td>1.0</td>\n",
       "      <td>1.0</td>\n",
       "    </tr>\n",
       "    <tr>\n",
       "      <th>ind_cder_fin_ult1</th>\n",
       "      <td>10852934.0</td>\n",
       "      <td>NaN</td>\n",
       "      <td>NaN</td>\n",
       "      <td>NaN</td>\n",
       "      <td>0.000419</td>\n",
       "      <td>0.020458</td>\n",
       "      <td>0.0</td>\n",
       "      <td>0.0</td>\n",
       "      <td>0.0</td>\n",
       "      <td>0.0</td>\n",
       "      <td>1.0</td>\n",
       "    </tr>\n",
       "    <tr>\n",
       "      <th>ind_cno_fin_ult1</th>\n",
       "      <td>10852934.0</td>\n",
       "      <td>NaN</td>\n",
       "      <td>NaN</td>\n",
       "      <td>NaN</td>\n",
       "      <td>0.087814</td>\n",
       "      <td>0.283024</td>\n",
       "      <td>0.0</td>\n",
       "      <td>0.0</td>\n",
       "      <td>0.0</td>\n",
       "      <td>0.0</td>\n",
       "      <td>1.0</td>\n",
       "    </tr>\n",
       "    <tr>\n",
       "      <th>ind_ctju_fin_ult1</th>\n",
       "      <td>10852934.0</td>\n",
       "      <td>NaN</td>\n",
       "      <td>NaN</td>\n",
       "      <td>NaN</td>\n",
       "      <td>0.010279</td>\n",
       "      <td>0.100864</td>\n",
       "      <td>0.0</td>\n",
       "      <td>0.0</td>\n",
       "      <td>0.0</td>\n",
       "      <td>0.0</td>\n",
       "      <td>1.0</td>\n",
       "    </tr>\n",
       "    <tr>\n",
       "      <th>ind_ctma_fin_ult1</th>\n",
       "      <td>10852934.0</td>\n",
       "      <td>NaN</td>\n",
       "      <td>NaN</td>\n",
       "      <td>NaN</td>\n",
       "      <td>0.009228</td>\n",
       "      <td>0.095618</td>\n",
       "      <td>0.0</td>\n",
       "      <td>0.0</td>\n",
       "      <td>0.0</td>\n",
       "      <td>0.0</td>\n",
       "      <td>1.0</td>\n",
       "    </tr>\n",
       "    <tr>\n",
       "      <th>ind_ctop_fin_ult1</th>\n",
       "      <td>10852934.0</td>\n",
       "      <td>NaN</td>\n",
       "      <td>NaN</td>\n",
       "      <td>NaN</td>\n",
       "      <td>0.13772</td>\n",
       "      <td>0.344606</td>\n",
       "      <td>0.0</td>\n",
       "      <td>0.0</td>\n",
       "      <td>0.0</td>\n",
       "      <td>0.0</td>\n",
       "      <td>1.0</td>\n",
       "    </tr>\n",
       "    <tr>\n",
       "      <th>ind_ctpp_fin_ult1</th>\n",
       "      <td>10852934.0</td>\n",
       "      <td>NaN</td>\n",
       "      <td>NaN</td>\n",
       "      <td>NaN</td>\n",
       "      <td>0.046873</td>\n",
       "      <td>0.211367</td>\n",
       "      <td>0.0</td>\n",
       "      <td>0.0</td>\n",
       "      <td>0.0</td>\n",
       "      <td>0.0</td>\n",
       "      <td>1.0</td>\n",
       "    </tr>\n",
       "    <tr>\n",
       "      <th>ind_deco_fin_ult1</th>\n",
       "      <td>10852934.0</td>\n",
       "      <td>NaN</td>\n",
       "      <td>NaN</td>\n",
       "      <td>NaN</td>\n",
       "      <td>0.001699</td>\n",
       "      <td>0.041184</td>\n",
       "      <td>0.0</td>\n",
       "      <td>0.0</td>\n",
       "      <td>0.0</td>\n",
       "      <td>0.0</td>\n",
       "      <td>1.0</td>\n",
       "    </tr>\n",
       "    <tr>\n",
       "      <th>ind_deme_fin_ult1</th>\n",
       "      <td>10852934.0</td>\n",
       "      <td>NaN</td>\n",
       "      <td>NaN</td>\n",
       "      <td>NaN</td>\n",
       "      <td>0.001762</td>\n",
       "      <td>0.041945</td>\n",
       "      <td>0.0</td>\n",
       "      <td>0.0</td>\n",
       "      <td>0.0</td>\n",
       "      <td>0.0</td>\n",
       "      <td>1.0</td>\n",
       "    </tr>\n",
       "    <tr>\n",
       "      <th>ind_dela_fin_ult1</th>\n",
       "      <td>10852934.0</td>\n",
       "      <td>NaN</td>\n",
       "      <td>NaN</td>\n",
       "      <td>NaN</td>\n",
       "      <td>0.046601</td>\n",
       "      <td>0.210782</td>\n",
       "      <td>0.0</td>\n",
       "      <td>0.0</td>\n",
       "      <td>0.0</td>\n",
       "      <td>0.0</td>\n",
       "      <td>1.0</td>\n",
       "    </tr>\n",
       "    <tr>\n",
       "      <th>ind_ecue_fin_ult1</th>\n",
       "      <td>10852934.0</td>\n",
       "      <td>NaN</td>\n",
       "      <td>NaN</td>\n",
       "      <td>NaN</td>\n",
       "      <td>0.089522</td>\n",
       "      <td>0.285495</td>\n",
       "      <td>0.0</td>\n",
       "      <td>0.0</td>\n",
       "      <td>0.0</td>\n",
       "      <td>0.0</td>\n",
       "      <td>1.0</td>\n",
       "    </tr>\n",
       "    <tr>\n",
       "      <th>ind_fond_fin_ult1</th>\n",
       "      <td>10852934.0</td>\n",
       "      <td>NaN</td>\n",
       "      <td>NaN</td>\n",
       "      <td>NaN</td>\n",
       "      <td>0.019872</td>\n",
       "      <td>0.139562</td>\n",
       "      <td>0.0</td>\n",
       "      <td>0.0</td>\n",
       "      <td>0.0</td>\n",
       "      <td>0.0</td>\n",
       "      <td>1.0</td>\n",
       "    </tr>\n",
       "    <tr>\n",
       "      <th>ind_hip_fin_ult1</th>\n",
       "      <td>10852934.0</td>\n",
       "      <td>NaN</td>\n",
       "      <td>NaN</td>\n",
       "      <td>NaN</td>\n",
       "      <td>0.006517</td>\n",
       "      <td>0.080464</td>\n",
       "      <td>0.0</td>\n",
       "      <td>0.0</td>\n",
       "      <td>0.0</td>\n",
       "      <td>0.0</td>\n",
       "      <td>1.0</td>\n",
       "    </tr>\n",
       "    <tr>\n",
       "      <th>ind_plan_fin_ult1</th>\n",
       "      <td>10852934.0</td>\n",
       "      <td>NaN</td>\n",
       "      <td>NaN</td>\n",
       "      <td>NaN</td>\n",
       "      <td>0.010118</td>\n",
       "      <td>0.100078</td>\n",
       "      <td>0.0</td>\n",
       "      <td>0.0</td>\n",
       "      <td>0.0</td>\n",
       "      <td>0.0</td>\n",
       "      <td>1.0</td>\n",
       "    </tr>\n",
       "    <tr>\n",
       "      <th>ind_pres_fin_ult1</th>\n",
       "      <td>10852934.0</td>\n",
       "      <td>NaN</td>\n",
       "      <td>NaN</td>\n",
       "      <td>NaN</td>\n",
       "      <td>0.002624</td>\n",
       "      <td>0.051155</td>\n",
       "      <td>0.0</td>\n",
       "      <td>0.0</td>\n",
       "      <td>0.0</td>\n",
       "      <td>0.0</td>\n",
       "      <td>1.0</td>\n",
       "    </tr>\n",
       "    <tr>\n",
       "      <th>ind_reca_fin_ult1</th>\n",
       "      <td>10852934.0</td>\n",
       "      <td>NaN</td>\n",
       "      <td>NaN</td>\n",
       "      <td>NaN</td>\n",
       "      <td>0.057468</td>\n",
       "      <td>0.232735</td>\n",
       "      <td>0.0</td>\n",
       "      <td>0.0</td>\n",
       "      <td>0.0</td>\n",
       "      <td>0.0</td>\n",
       "      <td>1.0</td>\n",
       "    </tr>\n",
       "    <tr>\n",
       "      <th>ind_tjcr_fin_ult1</th>\n",
       "      <td>10852934.0</td>\n",
       "      <td>NaN</td>\n",
       "      <td>NaN</td>\n",
       "      <td>NaN</td>\n",
       "      <td>0.048535</td>\n",
       "      <td>0.214893</td>\n",
       "      <td>0.0</td>\n",
       "      <td>0.0</td>\n",
       "      <td>0.0</td>\n",
       "      <td>0.0</td>\n",
       "      <td>1.0</td>\n",
       "    </tr>\n",
       "    <tr>\n",
       "      <th>ind_valo_fin_ult1</th>\n",
       "      <td>10852934.0</td>\n",
       "      <td>NaN</td>\n",
       "      <td>NaN</td>\n",
       "      <td>NaN</td>\n",
       "      <td>0.027324</td>\n",
       "      <td>0.163025</td>\n",
       "      <td>0.0</td>\n",
       "      <td>0.0</td>\n",
       "      <td>0.0</td>\n",
       "      <td>0.0</td>\n",
       "      <td>1.0</td>\n",
       "    </tr>\n",
       "    <tr>\n",
       "      <th>ind_viv_fin_ult1</th>\n",
       "      <td>10852934.0</td>\n",
       "      <td>NaN</td>\n",
       "      <td>NaN</td>\n",
       "      <td>NaN</td>\n",
       "      <td>0.004286</td>\n",
       "      <td>0.065331</td>\n",
       "      <td>0.0</td>\n",
       "      <td>0.0</td>\n",
       "      <td>0.0</td>\n",
       "      <td>0.0</td>\n",
       "      <td>1.0</td>\n",
       "    </tr>\n",
       "    <tr>\n",
       "      <th>ind_nomina_ult1</th>\n",
       "      <td>10852757.0</td>\n",
       "      <td>NaN</td>\n",
       "      <td>NaN</td>\n",
       "      <td>NaN</td>\n",
       "      <td>0.059721</td>\n",
       "      <td>0.236969</td>\n",
       "      <td>0.0</td>\n",
       "      <td>0.0</td>\n",
       "      <td>0.0</td>\n",
       "      <td>0.0</td>\n",
       "      <td>1.0</td>\n",
       "    </tr>\n",
       "    <tr>\n",
       "      <th>ind_nom_pens_ult1</th>\n",
       "      <td>10852757.0</td>\n",
       "      <td>NaN</td>\n",
       "      <td>NaN</td>\n",
       "      <td>NaN</td>\n",
       "      <td>0.064892</td>\n",
       "      <td>0.246335</td>\n",
       "      <td>0.0</td>\n",
       "      <td>0.0</td>\n",
       "      <td>0.0</td>\n",
       "      <td>0.0</td>\n",
       "      <td>1.0</td>\n",
       "    </tr>\n",
       "    <tr>\n",
       "      <th>ind_recibo_ult1</th>\n",
       "      <td>10852934.0</td>\n",
       "      <td>NaN</td>\n",
       "      <td>NaN</td>\n",
       "      <td>NaN</td>\n",
       "      <td>0.13751</td>\n",
       "      <td>0.344385</td>\n",
       "      <td>0.0</td>\n",
       "      <td>0.0</td>\n",
       "      <td>0.0</td>\n",
       "      <td>0.0</td>\n",
       "      <td>1.0</td>\n",
       "    </tr>\n",
       "  </tbody>\n",
       "</table>\n",
       "</div>"
      ],
      "text/plain": [
       "                            count unique                top      freq  \\\n",
       "sexo                     10852898      2                  V   5943966   \n",
       "age                    10852934.0  232.0               23.0  422497.0   \n",
       "ind_nuevo              10852934.0    NaN                NaN       NaN   \n",
       "antiguedad             10852934.0  506.0               12.0  106876.0   \n",
       "cod_prov               10852726.0    NaN                NaN       NaN   \n",
       "ind_actividad_cliente  10852934.0    NaN                NaN       NaN   \n",
       "renta                  10852934.0    NaN                NaN       NaN   \n",
       "segmento                 10796101      3  02 - PARTICULARES   6522878   \n",
       "ind_ahor_fin_ult1      10852934.0    NaN                NaN       NaN   \n",
       "ind_aval_fin_ult1      10852934.0    NaN                NaN       NaN   \n",
       "ind_cco_fin_ult1       10852934.0    NaN                NaN       NaN   \n",
       "ind_cder_fin_ult1      10852934.0    NaN                NaN       NaN   \n",
       "ind_cno_fin_ult1       10852934.0    NaN                NaN       NaN   \n",
       "ind_ctju_fin_ult1      10852934.0    NaN                NaN       NaN   \n",
       "ind_ctma_fin_ult1      10852934.0    NaN                NaN       NaN   \n",
       "ind_ctop_fin_ult1      10852934.0    NaN                NaN       NaN   \n",
       "ind_ctpp_fin_ult1      10852934.0    NaN                NaN       NaN   \n",
       "ind_deco_fin_ult1      10852934.0    NaN                NaN       NaN   \n",
       "ind_deme_fin_ult1      10852934.0    NaN                NaN       NaN   \n",
       "ind_dela_fin_ult1      10852934.0    NaN                NaN       NaN   \n",
       "ind_ecue_fin_ult1      10852934.0    NaN                NaN       NaN   \n",
       "ind_fond_fin_ult1      10852934.0    NaN                NaN       NaN   \n",
       "ind_hip_fin_ult1       10852934.0    NaN                NaN       NaN   \n",
       "ind_plan_fin_ult1      10852934.0    NaN                NaN       NaN   \n",
       "ind_pres_fin_ult1      10852934.0    NaN                NaN       NaN   \n",
       "ind_reca_fin_ult1      10852934.0    NaN                NaN       NaN   \n",
       "ind_tjcr_fin_ult1      10852934.0    NaN                NaN       NaN   \n",
       "ind_valo_fin_ult1      10852934.0    NaN                NaN       NaN   \n",
       "ind_viv_fin_ult1       10852934.0    NaN                NaN       NaN   \n",
       "ind_nomina_ult1        10852757.0    NaN                NaN       NaN   \n",
       "ind_nom_pens_ult1      10852757.0    NaN                NaN       NaN   \n",
       "ind_recibo_ult1        10852934.0    NaN                NaN       NaN   \n",
       "\n",
       "                                mean            std      min       25%  \\\n",
       "sexo                             NaN            NaN      NaN       NaN   \n",
       "age                              NaN            NaN      NaN       NaN   \n",
       "ind_nuevo                   0.027092       0.162352      0.0       0.0   \n",
       "antiguedad                       NaN            NaN      NaN       NaN   \n",
       "cod_prov                   26.480537      12.498091      1.0      15.0   \n",
       "ind_actividad_cliente       0.469303       0.499057      0.0       0.0   \n",
       "renta                  134254.318238  230620.238822  1202.73  68710.98   \n",
       "segmento                         NaN            NaN      NaN       NaN   \n",
       "ind_ahor_fin_ult1           0.000115       0.010727      0.0       0.0   \n",
       "ind_aval_fin_ult1           0.000027       0.005205      0.0       0.0   \n",
       "ind_cco_fin_ult1            0.655166       0.475314      0.0       0.0   \n",
       "ind_cder_fin_ult1           0.000419       0.020458      0.0       0.0   \n",
       "ind_cno_fin_ult1            0.087814       0.283024      0.0       0.0   \n",
       "ind_ctju_fin_ult1           0.010279       0.100864      0.0       0.0   \n",
       "ind_ctma_fin_ult1           0.009228       0.095618      0.0       0.0   \n",
       "ind_ctop_fin_ult1            0.13772       0.344606      0.0       0.0   \n",
       "ind_ctpp_fin_ult1           0.046873       0.211367      0.0       0.0   \n",
       "ind_deco_fin_ult1           0.001699       0.041184      0.0       0.0   \n",
       "ind_deme_fin_ult1           0.001762       0.041945      0.0       0.0   \n",
       "ind_dela_fin_ult1           0.046601       0.210782      0.0       0.0   \n",
       "ind_ecue_fin_ult1           0.089522       0.285495      0.0       0.0   \n",
       "ind_fond_fin_ult1           0.019872       0.139562      0.0       0.0   \n",
       "ind_hip_fin_ult1            0.006517       0.080464      0.0       0.0   \n",
       "ind_plan_fin_ult1           0.010118       0.100078      0.0       0.0   \n",
       "ind_pres_fin_ult1           0.002624       0.051155      0.0       0.0   \n",
       "ind_reca_fin_ult1           0.057468       0.232735      0.0       0.0   \n",
       "ind_tjcr_fin_ult1           0.048535       0.214893      0.0       0.0   \n",
       "ind_valo_fin_ult1           0.027324       0.163025      0.0       0.0   \n",
       "ind_viv_fin_ult1            0.004286       0.065331      0.0       0.0   \n",
       "ind_nomina_ult1             0.059721       0.236969      0.0       0.0   \n",
       "ind_nom_pens_ult1           0.064892       0.246335      0.0       0.0   \n",
       "ind_recibo_ult1              0.13751       0.344385      0.0       0.0   \n",
       "\n",
       "                            50%        75%          max  \n",
       "sexo                        NaN        NaN          NaN  \n",
       "age                         NaN        NaN          NaN  \n",
       "ind_nuevo                   0.0        0.0          1.0  \n",
       "antiguedad                  NaN        NaN          NaN  \n",
       "cod_prov                   28.0       33.0         52.0  \n",
       "ind_actividad_cliente       0.0        1.0          1.0  \n",
       "renta                  101850.0  155955.96  28894395.51  \n",
       "segmento                    NaN        NaN          NaN  \n",
       "ind_ahor_fin_ult1           0.0        0.0          1.0  \n",
       "ind_aval_fin_ult1           0.0        0.0          1.0  \n",
       "ind_cco_fin_ult1            1.0        1.0          1.0  \n",
       "ind_cder_fin_ult1           0.0        0.0          1.0  \n",
       "ind_cno_fin_ult1            0.0        0.0          1.0  \n",
       "ind_ctju_fin_ult1           0.0        0.0          1.0  \n",
       "ind_ctma_fin_ult1           0.0        0.0          1.0  \n",
       "ind_ctop_fin_ult1           0.0        0.0          1.0  \n",
       "ind_ctpp_fin_ult1           0.0        0.0          1.0  \n",
       "ind_deco_fin_ult1           0.0        0.0          1.0  \n",
       "ind_deme_fin_ult1           0.0        0.0          1.0  \n",
       "ind_dela_fin_ult1           0.0        0.0          1.0  \n",
       "ind_ecue_fin_ult1           0.0        0.0          1.0  \n",
       "ind_fond_fin_ult1           0.0        0.0          1.0  \n",
       "ind_hip_fin_ult1            0.0        0.0          1.0  \n",
       "ind_plan_fin_ult1           0.0        0.0          1.0  \n",
       "ind_pres_fin_ult1           0.0        0.0          1.0  \n",
       "ind_reca_fin_ult1           0.0        0.0          1.0  \n",
       "ind_tjcr_fin_ult1           0.0        0.0          1.0  \n",
       "ind_valo_fin_ult1           0.0        0.0          1.0  \n",
       "ind_viv_fin_ult1            0.0        0.0          1.0  \n",
       "ind_nomina_ult1             0.0        0.0          1.0  \n",
       "ind_nom_pens_ult1           0.0        0.0          1.0  \n",
       "ind_recibo_ult1             0.0        0.0          1.0  "
      ]
     },
     "execution_count": 20,
     "metadata": {},
     "output_type": "execute_result"
    }
   ],
   "source": [
    "df_clean.describe(include='all').T"
   ]
  },
  {
   "cell_type": "markdown",
   "metadata": {},
   "source": [
    "Change char and string values to binary or number values"
   ]
  },
  {
   "cell_type": "code",
   "execution_count": 22,
   "metadata": {},
   "outputs": [],
   "source": [
    "df_clean['sexo'] = df_clean['sexo'].map({'H': 1, 'V': 0}) \n",
    "df_clean['segmento'] = df_clean['segmento'].map({'01 - TOP': 1, '02 - PARTICULARES': 2, '03 - UNIVERSITARIO':3}) \n"
   ]
  },
  {
   "cell_type": "code",
   "execution_count": 23,
   "metadata": {},
   "outputs": [],
   "source": [
    "df_clean = df_clean.reset_index()\n"
   ]
  },
  {
   "cell_type": "code",
   "execution_count": 28,
   "metadata": {},
   "outputs": [
    {
     "data": {
      "text/plain": [
       "(10852934, 33)"
      ]
     },
     "execution_count": 28,
     "metadata": {},
     "output_type": "execute_result"
    }
   ],
   "source": [
    "df_clean.shape"
   ]
  },
  {
   "cell_type": "code",
   "execution_count": 27,
   "metadata": {},
   "outputs": [
    {
     "name": "stderr",
     "output_type": "stream",
     "text": [
      "c:\\ProgramData\\Anaconda3\\envs\\datamining\\lib\\site-packages\\sklearn\\utils\\extmath.py:980: RuntimeWarning: invalid value encountered in true_divide\n",
      "  updated_mean = (last_sum + new_sum) / updated_sample_count\n",
      "c:\\ProgramData\\Anaconda3\\envs\\datamining\\lib\\site-packages\\sklearn\\utils\\extmath.py:985: RuntimeWarning: invalid value encountered in true_divide\n",
      "  T = new_sum / new_sample_count\n",
      "c:\\ProgramData\\Anaconda3\\envs\\datamining\\lib\\site-packages\\sklearn\\utils\\extmath.py:1005: RuntimeWarning: invalid value encountered in true_divide\n",
      "  new_unnormalized_variance -= correction**2 / new_sample_count\n"
     ]
    }
   ],
   "source": [
    "scaler = StandardScaler()\n",
    "scaled_features = scaler.fit_transform(df_clean)"
   ]
  },
  {
   "cell_type": "code",
   "execution_count": 33,
   "metadata": {},
   "outputs": [],
   "source": [
    "outputs = ['ind_ahor_fin_ult1', 'ind_aval_fin_ult1', 'ind_cco_fin_ult1',\n",
    "       'ind_cder_fin_ult1', 'ind_cno_fin_ult1', 'ind_ctju_fin_ult1',\n",
    "       'ind_ctma_fin_ult1', 'ind_ctop_fin_ult1', 'ind_ctpp_fin_ult1',\n",
    "       'ind_deco_fin_ult1', 'ind_deme_fin_ult1', 'ind_dela_fin_ult1',\n",
    "       'ind_ecue_fin_ult1', 'ind_fond_fin_ult1', 'ind_hip_fin_ult1',\n",
    "       'ind_plan_fin_ult1', 'ind_pres_fin_ult1', 'ind_reca_fin_ult1',\n",
    "       'ind_tjcr_fin_ult1', 'ind_valo_fin_ult1', 'ind_viv_fin_ult1',\n",
    "       'ind_nomina_ult1', 'ind_nom_pens_ult1', 'ind_recibo_ult1']\n",
    "\n",
    "y = df_clean[outputs]\n",
    "x = df_clean.drop(columns=outputs)"
   ]
  },
  {
   "cell_type": "code",
   "execution_count": 34,
   "metadata": {},
   "outputs": [],
   "source": [
    "X_train, X_test, y_train, y_test = train_test_split(x, y, test_size=0.33, random_state=42)"
   ]
  },
  {
   "cell_type": "code",
   "execution_count": 53,
   "metadata": {},
   "outputs": [],
   "source": [
    "y_train_unidemesional = y_train.apply(lambda x: x.argmax(), axis=1).values\n"
   ]
  },
  {
   "cell_type": "code",
   "execution_count": 55,
   "metadata": {},
   "outputs": [
    {
     "name": "stdout",
     "output_type": "stream",
     "text": [
      "(7271465, 9)\n",
      "(7271465, 24)\n",
      "7271465\n"
     ]
    }
   ],
   "source": [
    "print(X_train.shape)\n",
    "print(y_train.shape)\n",
    "print(y_train_unidemesional.size)"
   ]
  },
  {
   "cell_type": "code",
   "execution_count": 56,
   "metadata": {},
   "outputs": [],
   "source": [
    "clf = HistGradientBoostingClassifier().fit(X_train, y_train_unidemesional)\n"
   ]
  },
  {
   "cell_type": "code",
   "execution_count": 57,
   "metadata": {},
   "outputs": [
    {
     "data": {
      "text/plain": [
       "0.7242338373353925"
      ]
     },
     "execution_count": 57,
     "metadata": {},
     "output_type": "execute_result"
    }
   ],
   "source": [
    "clf.score(X_train, y_train_unidemesional)\n"
   ]
  },
  {
   "cell_type": "markdown",
   "metadata": {},
   "source": [
    "Confusion Matrix"
   ]
  },
  {
   "cell_type": "code",
   "execution_count": null,
   "metadata": {},
   "outputs": [],
   "source": [
    "from sklearn.metrics import confusion_matrix\n",
    "\n",
    "confusion_matrix(y_true, y_pred)\n"
   ]
  }
 ],
 "metadata": {
  "kernelspec": {
   "display_name": "Python 3.10.4 ('datamining')",
   "language": "python",
   "name": "python3"
  },
  "language_info": {
   "codemirror_mode": {
    "name": "ipython",
    "version": 3
   },
   "file_extension": ".py",
   "mimetype": "text/x-python",
   "name": "python",
   "nbconvert_exporter": "python",
   "pygments_lexer": "ipython3",
   "version": "3.10.4"
  },
  "orig_nbformat": 4,
  "vscode": {
   "interpreter": {
    "hash": "b1a2f1866a1f557c95fdbea5d55a83f40d4475bfb48dd575f4d5c37e61bf0ff4"
   }
  }
 },
 "nbformat": 4,
 "nbformat_minor": 2
}
